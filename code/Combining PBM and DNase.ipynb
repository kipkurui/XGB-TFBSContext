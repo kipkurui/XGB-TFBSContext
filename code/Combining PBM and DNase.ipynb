{
 "cells": [
  {
   "cell_type": "markdown",
   "metadata": {},
   "source": [
    "# Improving *in vitro* using *in vivo* data\n",
    "\n",
    "The focus of this notebook is to start a fresh outline the whole journey as clearly as can be. Only the relevant sections of the thesis are included.\n",
    "\n",
    "Some of the main requirements to do this are:\n",
    "* The modified Perl code used to incorporate in vivo information\n",
    "* The helper scripts used for counting and data conversion\n",
    "* The kmer counts previously generated:\n",
    " - Counts in human genome\n",
    " - Count in DNase data\n",
    " - Frequency difference of that count\n",
    "* Then we can directly create the motifs and test how they are performing\n",
    "\n",
    "Some action points related to this chapter:\n",
    "* Transform de Bruijn with dn-hg\n",
    "* A background noise correction\n",
    "    * Re-rank with k-mer frequency count difference (hg-dn, considered as noise)\n",
    "    * Jiang approach"
   ]
  },
  {
   "cell_type": "markdown",
   "metadata": {},
   "source": [
    "### Requirements:\n",
    "1. The original Seed and Wobble algorithms from http://the_brain.bwh.harvard.edu/PBMAnalysisSuite/index.html\n",
    "2. A modified version of the algorithm to take in k-mer frequency counts from http://www.bioinf.ict.ru.ac.za/counts_SnW\n",
    "3. An executable motif algorithm baded on Gibbs sampling from \"http://thebrain.bwh.harvard.edu/hierarchicalANOVA/\""
   ]
  },
  {
   "cell_type": "markdown",
   "metadata": {},
   "source": []
  },
  {
   "cell_type": "code",
   "execution_count": 4,
   "metadata": {
    "collapsed": false
   },
   "outputs": [],
   "source": [
    "import os\n",
    "import glob\n",
    "\n",
    "import pandas as pd\n",
    "import seaborn as sns\n",
    "\n",
    "pd.set_option('display.max_colwidth', -1)\n",
    "%matplotlib inline"
   ]
  },
  {
   "cell_type": "markdown",
   "metadata": {},
   "source": [
    "### Import MARSTools for evaluations"
   ]
  },
  {
   "cell_type": "code",
   "execution_count": 2,
   "metadata": {
    "collapsed": false
   },
   "outputs": [],
   "source": [
    "BASE_DIR = \"/home/ckibet/lustre/PBM_DNase\"\n",
    "posneg_path = \"/home/ckibet/lustre/Posneg\"\n",
    "pbm_path = \"/home/ckibet/lustre/PBM\"\n",
    "scripts_path = \"%s/Scripts\" % BASE_DIR"
   ]
  },
  {
   "cell_type": "code",
   "execution_count": 3,
   "metadata": {
    "collapsed": false
   },
   "outputs": [],
   "source": [
    "os.chdir(\"/home/ckibet/lustre\")\n",
    "from MARSTools import Assess_by_score as score\n",
    "os.chdir(scripts_path)"
   ]
  },
  {
   "cell_type": "markdown",
   "metadata": {},
   "source": [
    "### Plotting style and figure path"
   ]
  },
  {
   "cell_type": "code",
   "execution_count": 5,
   "metadata": {
    "collapsed": false
   },
   "outputs": [],
   "source": [
    "sns.set(style=\"ticks\", context=\"poster\")\n",
    "figure_path = \"Results/Chapter6/Figs\""
   ]
  },
  {
   "cell_type": "markdown",
   "metadata": {},
   "source": [
    "### Get a list of TFs affected by Sticky k-mers\n",
    "\n",
    "The Sticky k-mers Identified by Jiang et al and downloadable from: are used . "
   ]
  },
  {
   "cell_type": "code",
   "execution_count": 140,
   "metadata": {
    "collapsed": true
   },
   "outputs": [],
   "source": [
    "pbm_chip = []\n",
    "pbmchip2name = {}\n",
    "with open('Data/Pbm_Chip_details.txt') as pbmnchip:\n",
    "    for line in pbmnchip:\n",
    "        if line.startswith('Tf_id'):\n",
    "            continue\n",
    "        else:\n",
    "            pbm_chip.append(line.split()[0])\n",
    "            pbmchip2name[line.split()[0]] = line.split()[1]\n",
    "\n",
    "#revers the dictornary\n",
    "name2pbmchip = {v: k for k, v in pbmchip2name.items()}"
   ]
  },
  {
   "cell_type": "code",
   "execution_count": 141,
   "metadata": {
    "collapsed": true
   },
   "outputs": [],
   "source": [
    "sticky_tfs = pd.read_table(\"Data/names.txt\", header=None)\n",
    "tf_list = []\n",
    "for tf in sticky_tfs[0]:\n",
    "    chip_list = glob.glob(\"%s/%s/*\" % (posneg_path,tf.capitalize()))\n",
    "    if len(chip_list) > 0:\n",
    "        tf_list.append(tf)"
   ]
  },
  {
   "cell_type": "markdown",
   "metadata": {},
   "source": [
    "## Functions used"
   ]
  },
  {
   "cell_type": "code",
   "execution_count": 7,
   "metadata": {
    "collapsed": true
   },
   "outputs": [],
   "source": [
    "revcompl = lambda x: ''.join([{'A':'T','C':'G','G':'C','T':'A'}[B] for B in x][::-1])\n",
    "def mkdir_p(path):\n",
    "    import os\n",
    "    import errno\n",
    "\n",
    "    try:\n",
    "        os.makedirs(path)\n",
    "    except OSError as exc:\n",
    "        if exc.errno == errno.EEXIST and os.path.isdir(path):\n",
    "            pass\n",
    "        else:\n",
    "            raise\n",
    "            \n",
    "def get_unique(tf):\n",
    "    import glob\n",
    "    lests = glob.glob(\"%s/%s/*\" % (pbm_path,tf.capitalize()))\n",
    "    new = []\n",
    "    for i in lests:\n",
    "        main = i.split(\"_v\")[0]\n",
    "        if main in new:\n",
    "            continue\n",
    "        else:\n",
    "            new.append(main)\n",
    "    return new\n",
    "\n",
    "def find_kmers(string, kmer_size):\n",
    "    kmers = []\n",
    "    for i in range(0, len(string)-kmer_size+1):\n",
    "        kmers.append(string[i:i+kmer_size])\n",
    "    return kmers\n",
    "\n",
    "def get_kmer_dict(kmerscore, kmer_name):\n",
    "    \"\"\"\n",
    "    Try and make this generalized by checking if the first line has header or not. \n",
    "    \n",
    "    Also, check the number of columns and determine which one contains the E-scores\n",
    "    \"\"\"\n",
    "\n",
    "    test = pd.read_table(kmerscore, index_col=\"8-mer.1\", usecols=[\"8-mer\", \"E-score\"])\n",
    "\n",
    "    scoredict  = test.to_dict()[\"E-score\"]\n",
    "    # with open(kmerscore) as kmers:\n",
    "    #     print kmerscore\n",
    "    #     for line in kmers:\n",
    "    #         ke, rems, val = line.split(\"\\t\")\n",
    "    #\n",
    "    #         scoredict[ke] = val\n",
    "    return scoredict, kmer_name\n",
    "\n",
    "def get_kmer_dict_rev(kmerscore, kmer_name):\n",
    "    test = pd.read_table(kmerscore, index_col=\"8-mer\", usecols=[\"8-mer\", \"E-score\"])\n",
    "    test.fillna(0, inplace=True)\n",
    "    test2 = pd.read_table(kmerscore, index_col=\"8-mer.1\", usecols=[\"8-mer.1\", \"E-score\"])\n",
    "    test2.index.name = \"8-mer\"\n",
    "    test2.fillna(0, inplace=True)\n",
    "    combined = test.append(test2)\n",
    "    combined_dict = combined.to_dict()[\"E-score\"]\n",
    "\n",
    "    return combined_dict, kmer_name\n",
    "\n",
    "def energy_score_kmer(seq,kmerdict,revcompl):\n",
    "    k_mers=find_kmers(seq,8)\n",
    "    tot_score = 0\n",
    "    for kmer in k_mers:\n",
    "        if kmer in kmerdict:\n",
    "            score=float(kmerdict[kmer])\n",
    "        else:\n",
    "            kmer2=revcompl(kmer)\n",
    "            score=float(kmerdict[kmer2])\n",
    "        tot_score+=score\n",
    "    return tot_score"
   ]
  },
  {
   "cell_type": "markdown",
   "metadata": {},
   "source": [
    "## 1. Transform deBruijn sequences by scoring\n",
    "\n",
    "The idea behind this approach is to use the dn-hg frequency counts as a measure of k-mer preference to be found in an open chromatin site. The human genome DNase sites frequency difference is used to transform eh deBruijn sequences. \n",
    "\n"
   ]
  },
  {
   "cell_type": "code",
   "execution_count": 8,
   "metadata": {
    "collapsed": true
   },
   "outputs": [],
   "source": [
    "mot_path=\"%s/Results/PBM_Reranked\" % BASE_DIR"
   ]
  },
  {
   "cell_type": "code",
   "execution_count": 9,
   "metadata": {
    "collapsed": true
   },
   "outputs": [],
   "source": [
    "def run_assess(tf, mot_path=\"%s/Results/PBM_Reranked\" % BASE_DIR):\n",
    "    \"\"\"\n",
    "    A function to evaluate the motifs using energy scoring\n",
    "    \"\"\"\n",
    "    user_motif = \"%s/%s/%s.meme\" % (mot_path, tf.capitalize(), tf.capitalize())\n",
    "    chip_list = glob.glob(\"%s/%s/*\" % (posneg_path,tf.capitalize()))\n",
    "    score.run_all(tf.lower(), 'energyscore', user_motif, chip_list, \"%s/%s\" % (mot_path, tf.capitalize())) "
   ]
  },
  {
   "cell_type": "code",
   "execution_count": 10,
   "metadata": {
    "collapsed": true
   },
   "outputs": [],
   "source": [
    "def combine_meme(tf, path=\"%s/Results/PBM_Reranked\" % BASE_DIR):\n",
    "    \"\"\"\n",
    "    Within a directory, after a seed and wobble run, \n",
    "    combine all meme output into a single file. \n",
    "    \n",
    "    \"\"\"\n",
    "    meme_out = \"%s/%s/%s.meme\" % (path,tf.capitalize(), tf.capitalize())\n",
    "    if os.path.isfile(meme_out):\n",
    "        os.remove(meme_out)\n",
    "    meme_motifs = glob.glob(\"%s/%s/*meme\" % (path,tf.capitalize()))\n",
    "    \n",
    "    mot = meme_motifs[0]\n",
    "    !head -9 {mot} >{meme_out}\n",
    "    for mot in meme_motifs:\n",
    "        tots = !wc -l {mot}\n",
    "        !tail -{int(tots[0].split()[0]) -8} {mot} >>{meme_out}\n",
    "        \n",
    "    \n",
    "def run_SnW_normal(tf):\n",
    "    \"\"\"\n",
    "    Performs a normal Seed and wobble run\n",
    "    \"\"\"\n",
    "    script = \"%s/Scripts\" % BASE_DIR\n",
    "    out_dir = \"%s/Data/PBM_Reranked/%s\" % (BASE_DIR,tf.capitalize())\n",
    "    res_dir = \"%s/Results/PBM_Normal/%s\" % (BASE_DIR,tf.capitalize())\n",
    "    mkdir_p(res_dir)\n",
    "    for probe in get_unique(tf):\n",
    "        probe_n =probe.split(\"/\")[-1]\n",
    "        v1 = \"%s_v%i_deBruijn.txt\" % (probe,1)\n",
    "        print v1\n",
    "        v2 = \"%s_v%i_deBruijn.txt\" % (probe,2)\n",
    "        #!perl {script}/seed_and_wobble_twoarray.pl {v1} {v2} 8 {script}/patterns_8of10.txt {script}/patterns_4x44k_all_8mer.txt {res_dir}/{probe_n}_deBruijn\n",
    "        !python {script}/wobble2meme.py {res_dir}/{probe_n}_deBruijn_8mers_pwm_combined.txt {res_dir}/{probe_n}_deBruijn.uniprobe {res_dir}/{probe_n}_deBruijn.meme {probe_n}_deBruijn\n",
    "    combine_meme(tf, path=\"%s/Results/PBM_Normal\" % BASE_DIR)\n",
    "    run_assess(tf, mot_path=\"%s/Results/PBM_Normal\" % BASE_DIR)"
   ]
  },
  {
   "cell_type": "code",
   "execution_count": 11,
   "metadata": {
    "collapsed": true
   },
   "outputs": [],
   "source": [
    "def run_SnW_counts(tf, scalled):\n",
    "    \"\"\"\n",
    "    Uses the DN-HG frequency counts transformed using minimum absolute from scikit learn.  \n",
    "    \"\"\"\n",
    "    script = \"%sScripts\" % BASE_DIR\n",
    "    out_dir = \"%s/Data/PBM_Reranked/%s\" % (BASE_DIR,tf.capitalize())\n",
    "    res_dir = \"%s/Results/PBM_PWM/%s\" % (BASE_DIR,tf.capitalize())\n",
    "    mkdir_p(res_dir)\n",
    "    for probe in get_unique(tf):\n",
    "        print probe\n",
    "        probe_n =probe.split(\"/\")[-1]\n",
    "        v1 = \"%s_v%i_deBruijn.txt\" % (probe,1)\n",
    "        print v1\n",
    "        v2 = \"%s_v%i_deBruijn.txt\" % (probe,2)\n",
    "        !perl {script}/counts_seed_and_wobble_twoarray.pl {v1} {v2} 8 {script}/patterns_8of10.txt {script}/patterns_4x44k_all_8mer.txt {scalled} {res_dir}/{probe_n}_Counts\n",
    "        !python {script}/wobble2meme.py {res_dir}/{probe_n}_deBruijn_8mers_pwm_combined.txt {res_dir}/{probe_n}_deBruijn.uniprobe {res_dir}/{probe_n}_deBruijn.meme {probe_n}_deBruijn\n",
    "    combine_meme(tf, path=\"%s/Results/PBM_PWM\" % BASE_DIR)\n",
    "    run_assess(tf, mot_path=\"%s/Results/PBM_PWM\" % BASE_DIR)"
   ]
  },
  {
   "cell_type": "code",
   "execution_count": 12,
   "metadata": {
    "collapsed": true
   },
   "outputs": [],
   "source": [
    "def run_rerank(tf):\n",
    "    \"\"\"\n",
    "    Takes as input, TF name and per\n",
    "    \"\"\"\n",
    "    out_dir = \"%s/Data/PBM_Reranked/%s\" % (BASE_DIR,tf.capitalize())\n",
    "    res_dir = \"%s/Results/PBM_PWM/%s\" % (BASE_DIR,tf.capitalize())\n",
    "    script = \"%s/Scripts\" % BASE_DIR\n",
    "    mkdir_p(res_dir)\n",
    "    print res_dir\n",
    "    for probe in get_unique(tf):\n",
    "        print probe\n",
    "        probe_n =probe.split(\"/\")[-1]\n",
    "        v1 = \"%s_v%i_deBruijn.txt\" % (probe,1)\n",
    "        v2 = \"%s_v%i_deBruijn.txt\" % (probe,2)\n",
    "        scalled =\"Data/hg_dn_backround_noise_minmax.txt\"\n",
    "        \n",
    "        !perl {scripts_path}/counts_seed_and_wobble_twoarray.pl {v1} {v2} 8 {scripts_path}/patterns_8of10.txt {scripts_path}/patterns_4x44k_all_8mer.txt {scalled} {res_dir}/{probe_n}_Counts\n",
    "\n",
    "        !perl {scripts_path}/rerank.pl {v1} {res_dir}/{probe_n}_Counts_8mers_pwm_combined.txt {res_dir}/{probe_n}_v1_reranked.txt\n",
    "        !perl {scripts_path}/rerank.pl {v2} {res_dir}/{probe_n}_Counts_8mers_pwm_combined.txt {res_dir}/{probe_n}_v2_reranked.txt\n",
    "        \n",
    "        !perl {scripts_path}/seed_and_wobble_twoarray.pl {v1} {v2} 8 {scripts_path}/patterns_8of10.txt {scripts_path}/patterns_4x44k_all_8mer.txt {probe_n}\n",
    "        \n",
    "        !python {scripts_path}/wobble2meme.py {res_dir}/{probe_n}_Counts_reranked_8mers_pwm_combined.txt {res_dir}/{probe_n}_Counts_reranked.uniprobe {res_dir}/{probe_n}_Counts_reranked.meme {probe_n}_Counts_reranked\n",
    "    combine_meme(tf, \"%s/Results/PBM_PWM\" % BASE_DIR)\n",
    "    run_assess(tf, \"%s/Results/PBM_PWM\" % BASE_DIR)"
   ]
  },
  {
   "cell_type": "markdown",
   "metadata": {},
   "source": [
    "#### a) Run the normal analyis to benchmark other iteration against"
   ]
  },
  {
   "cell_type": "code",
   "execution_count": 6,
   "metadata": {
    "collapsed": false
   },
   "outputs": [],
   "source": [
    "for tf in tf_list:\n",
    "    print tf\n",
    "    run_SnW_normal(tf)"
   ]
  },
  {
   "cell_type": "markdown",
   "metadata": {},
   "source": [
    "#### b) Run the secondary motifs reranking approach"
   ]
  },
  {
   "cell_type": "code",
   "execution_count": 1,
   "metadata": {
    "collapsed": false,
    "scrolled": true
   },
   "outputs": [],
   "source": [
    "for tf in tf_list:\n",
    "    print tf\n",
    "    run_rerank(tf)"
   ]
  },
  {
   "cell_type": "markdown",
   "metadata": {},
   "source": [
    "### b) Re-ranking intensity scores\n",
    "\n",
    "This option uses the preferred $k$-mer information to score sequences and use them to re-weigh the intensity scores. Reranking is then directly followed by a normal seed and wobble run. Besides, at this stage, any algorithm can be used. The central area that needs proper optimisation is the best way of re-weighing the scores. "
   ]
  },
  {
   "cell_type": "code",
   "execution_count": 21,
   "metadata": {
    "collapsed": true
   },
   "outputs": [],
   "source": [
    "def transform_deBruijn(tf, kmerscore):\n",
    "    \"\"\"\n",
    "    Given kmer frequency counts, use the information to tranform the deBruijn \n",
    "    intensity scores in a way that would reflect in vivo binding behaviour. \n",
    "    TODO: \n",
    "    \"\"\"\n",
    "    scoredict = get_kmer_dict_rev(kmerscore,\"test\")[0]\n",
    "    out_dir = \"%s/Data/PBM_Reranked2/%s\" % (BASE_DIR,tf.capitalize())\n",
    "    mkdir_p(out_dir)\n",
    "    for probe in get_unique(tf):\n",
    "        for i in range(1,3):\n",
    "            debru = pd.read_table(\"%s_v%i_deBruijn.txt\" % (probe,i), header=None)\n",
    "            scored = debru[1].apply(lambda seq: energy_score_kmer(seq[:36],scoredict,revcompl))\n",
    "            normalized = scored/scored.max()\n",
    "            #print normalized\n",
    "            test = pd.DataFrame()\n",
    "            test = test.append(debru[0]*normalized, ignore_index=True)\n",
    "            finall = test.append(debru[1]).T\n",
    "            finall.sort_values(by=0, ascending=False, inplace=True)\n",
    "            probe_n =probe.split(\"/\")[-1]\n",
    "            finall.to_csv(\"%s/%s_v%i_reranked_Hg_dn-less.txt\" % (out_dir, probe_n,i), sep=\"\\t\", index=None, index_label=None, header=None)"
   ]
  },
  {
   "cell_type": "code",
   "execution_count": 24,
   "metadata": {
    "collapsed": false
   },
   "outputs": [],
   "source": [
    "for tf in tf_list:\n",
    "    kmer_score = \"Data/dn_hg_backround_noise_mean_std_maxnormalized_positive.txt\"\n",
    "#test = pd.read_table(kmer_score, index_col=\"8-mer.1\", usecols=[\"8-mer\", \"E-score\"])\n",
    "    transform_deBruijn(tf, kmer_score)"
   ]
  },
  {
   "cell_type": "markdown",
   "metadata": {},
   "source": [
    "### Run normal run on the reweighed intensity files\n",
    "\n",
    "Having reweighed the intensity file using the preferred $k$-mer information, we perform a normal run"
   ]
  },
  {
   "cell_type": "code",
   "execution_count": 25,
   "metadata": {
    "collapsed": false
   },
   "outputs": [],
   "source": [
    "def run_SnW(tf, mot=\"%s/Data/PBM_Reranked\" % BASE_DIR):\n",
    "    \"\"\"\n",
    "    \n",
    "    \"\"\"\n",
    "    out_dir = \"%s/%s\" % (\"%s/Data/PBM_Reranked2\" % BASE_DIR,tf.capitalize())\n",
    "    res_dir = \"%s/%s\" % (mot,tf.capitalize())\n",
    "    mkdir_p(res_dir)\n",
    "    for probe in get_unique(tf):\n",
    "        probe_n =probe.split(\"/\")[-1]\n",
    "        v1 = \"%s/%s_v%i_reranked_Hg_dn-less.txt\" % (out_dir, probe_n,1)\n",
    "        v2 = \"%s/%s_v%i_reranked_Hg_dn-less.txt\" % (out_dir, probe_n,2)\n",
    "        !perl {scripts_path}/seed_and_wobble_twoarray.pl {v1} {v2} 8 patterns_8of10.txt patterns_4x44k_all_8mer.txt {res_dir}/{probe_n}_reranked\n",
    "        !python {scripts_path}/wobble2meme.py {res_dir}/{probe_n}_reranked_8mers_pwm_combined.txt {res_dir}/{probe_n}_reranked.uniprobe {res_dir}/{probe_n}_reranked.meme {probe_n}_reranked\n",
    "    combine_meme(tf,mot)\n",
    "    run_assess(tf, mot)"
   ]
  },
  {
   "cell_type": "markdown",
   "metadata": {
    "collapsed": true
   },
   "source": [
    "#### Transform and model TF specificity"
   ]
  },
  {
   "cell_type": "code",
   "execution_count": 2,
   "metadata": {
    "collapsed": false,
    "scrolled": true
   },
   "outputs": [],
   "source": [
    "for tf in tf_list:\n",
    "    transform_deBruijn(tf, kmer_score)\n",
    "    run_SnW(tf,\"%s/Results/PBM_Reranked2\" % BASE_DIR)"
   ]
  },
  {
   "cell_type": "markdown",
   "metadata": {},
   "source": [
    "#### Prepare data for plotting"
   ]
  },
  {
   "cell_type": "code",
   "execution_count": 155,
   "metadata": {
    "collapsed": false,
    "scrolled": true
   },
   "outputs": [],
   "source": [
    "tf_lists = tf_list[:]\n",
    "res_list = []\n",
    "res_list.append(\"Tf_Name Reweighed Secondary Observed\".split())\n",
    "for tf in tf_lists:\n",
    "    tf_list = []\n",
    "    tf_list.append(tf)\n",
    "    for types in \"PBM_PWM PBM_Reranked2 PBM_Normal\".split():\n",
    "        energy = \"%s/Results/%s/%s/%s.energy\" % (BASE_DIR, types,tf.capitalize(), tf.lower())\n",
    "        new_test = pd.read_table(energy, index_col=\"Motif\")\n",
    "        new_test.sort_values(\"AUC\", ascending=False, inplace=True)\n",
    "        #print new_test[\"AUC\"][0]\n",
    "        tf_list.append(new_test[\"AUC\"].mean())\n",
    "    res_list.append(tf_list[:])    "
   ]
  },
  {
   "cell_type": "code",
   "execution_count": 156,
   "metadata": {
    "collapsed": false
   },
   "outputs": [],
   "source": [
    "plot_df = pd.DataFrame(res_list[1:],columns=res_list[0]).set_index('Tf_Name')"
   ]
  },
  {
   "cell_type": "code",
   "execution_count": 157,
   "metadata": {
    "collapsed": false
   },
   "outputs": [
    {
     "data": {
      "image/png": "[encoded data removed]",
      "text/plain": [
       "<matplotlib.figure.Figure at 0x2aaaeb567750>"
      ]
     },
     "metadata": {},
     "output_type": "display_data"
    }
   ],
   "source": [
    "axes = plot_df.plot.bar()\n",
    "ave_additive = plot_df.mean()\n",
    "leg = list(plot_df.columns)\n",
    "new_leg = []\n",
    "for i in leg:\n",
    "    new_leg.append(\"%s = %.3f\" % (i,ave_additive[i]))\n",
    "axes.legend(new_leg,loc='best')\n",
    "axes.set_ylabel(\"AUC scores\")\n",
    "sns.despine()\n",
    "fig = axes.get_figure()\n",
    "fig.savefig(\"%s/reranking_kmers.pdf\" % figure_path, bbox_inches='tight')"
   ]
  },
  {
   "cell_type": "markdown",
   "metadata": {
    "collapsed": true
   },
   "source": [
    "## 2. Using the background correction\n",
    "\n",
    "This approach uses a modified background correction algorithm by Jiang2013 "
   ]
  },
  {
   "cell_type": "code",
   "execution_count": null,
   "metadata": {
    "collapsed": true
   },
   "outputs": [],
   "source": [
    "tau_file =\"Data/hg_dn_backround_noise3.txt\"\n",
    "tau_2 = pd.read_table(tau_file, header=None)\n",
    "tau_new = tau_2 * 0.151863\n",
    "tau_new.to_csv(\"Data/hg_dn_backround_noise_std.txt\", index=False, header=False)"
   ]
  },
  {
   "cell_type": "code",
   "execution_count": 15,
   "metadata": {
    "collapsed": true
   },
   "outputs": [],
   "source": [
    "def background_correction(kmer_scores, tau_file, res_dir, out_prefix = \"corrected\"):\n",
    "    #kmer_score = pd.read_table(kmer_scores)\n",
    "    kmer_score = pd.read_table(kmer_scores, header=None,usecols=[0,1,3])\n",
    "    kmer_score.columns = [[\"8-mer.1\", \"8-mer\", \"E-score\"]]\n",
    "    #kmer_score.index.name = \"8-mer\"\n",
    "    tau = pd.read_table(tau_file, header=None)\n",
    "    x = kmer_score[\"E-score\"]\n",
    "    suffix = \"contig8mers.txt\"\n",
    "    s=0.151863\n",
    "    m=-0.0196628\n",
    "    \n",
    "    c = tau*s\n",
    "    y = x-c[0]\n",
    "    corrected_kmers = kmer_score.copy()\n",
    "    corrected_kmers[\"E-score\"] = y\n",
    "    #corrected_kmers.T.append(y, ignore_index=True).T\n",
    "    probe_n = kmer_scores.split(\"/\")[-1].split(\"_contig8mers\")[0]\n",
    "    \n",
    "    kmer_scores = \"%s/%s\" % (res_dir,probe.split(\"/\")[-1])\n",
    "    \n",
    "    kmer_score.to_csv(kmer_scores.replace(\"txt\", \"observed\"), sep=\"\\t\", header=True, index=False)\n",
    "    corrected_kmers.to_csv(kmer_scores.replace(\"txt\", out_prefix), sep=\"\\t\", header=True, index=False)\n",
    "    \n",
    "    corrected_kmers.sort_values(by=\"E-score\", ascending=False, inplace=True)\n",
    "    \n",
    "    corrected_kmers[corrected_kmers[\"E-score\"] >0.35][\"8-mer\"].to_csv(\n",
    "        kmer_scores.replace(suffix, \"%s_kmers.seq\" % out_prefix), sep=\"\\t\", header=False, index=False)\n",
    "    \n",
    "    kmer_score.sort_values(by=\"E-score\", ascending=False, inplace=True)\n",
    "    \n",
    "    \n",
    "    kmer_score[kmer_score[\"E-score\"] >0.35][\"8-mer\"].to_csv(kmer_scores.replace(\n",
    "            suffix,\"observed_kmers.seq\"), sep=\"\\t\", header=False, index=False)\n",
    "    \n",
    "    !{script_path}code/pbm.motif -i {kmer_scores.replace(suffix,\"observed_kmers.seq\")}\n",
    "    \n",
    "    \n",
    "    !{script_path}/pbm.motif -i {kmer_scores.replace(suffix,\"%s_kmers.seq\" % out_prefix)}\n",
    "    \n",
    "    gibbs2meme(probe_n+\"_\"+out_prefix, kmer_scores.replace(suffix,\"%s_kmers.seq.pwm\" % out_prefix))\n",
    "    \n",
    "    gibbs2meme(probe_n+\"_observed\", kmer_scores.replace(suffix,\"observed_kmers.seq.pwm\"))"
   ]
  },
  {
   "cell_type": "code",
   "execution_count": 112,
   "metadata": {
    "collapsed": false
   },
   "outputs": [],
   "source": [
    "for tf in combined_list:#[combined_list.index('Gata3'):]: #\"Egr1  Esrra  Gata3  Hnf4a  Mafk  Max  Myb  Tcf3\".split():\n",
    "    print tf\n",
    "    res_dir = \"%s/%s\" % (pbm_reranked,tf.capitalize())\n",
    "    mkdir_p(res_dir)\n",
    "    for probe in get_contigmers(tf):\n",
    "        #probe_n =probe.split(\"/\")[-1]\n",
    "        kmer_scores = probe\n",
    "        kmer_scores = \"Results/PBM_Reranked/%s/%s_8mers_combined.txt\" % (tf,probe_n)\n",
    "        \n",
    "        tau_file = \"Data/estimated_noise.txt\"\n",
    "        background_correction(kmer_scores, tau_file, res_dir, \"sticky\")\n",
    "            \n",
    "        tau_file =\"Data/hg_dn_backround_noise_minabs.txt\"\n",
    "        background_correction(kmer_scores, tau_file, res_dir, \"minabs\")\n",
    "        \n",
    "        tau_file =\"Data/hg_dn_backround_noise_std.txt\"\n",
    "        background_correction(kmer_scores, tau_file, res_dir, \"scaled\")\n",
    "        \n",
    "#         tau_file =\"Datahg_dn_backround_noise_minmax.txt\"\n",
    "#         background_correction(kmer_scores, tau_file, res_dir, \"minmax\")\n",
    "        \n",
    "#         tau_file = \"Data/reweighed.txt\"\n",
    "#         background_correction(kmer_scores, tau_file, res_dir, \"corrected\")\n",
    "        \n",
    "    combine_meme(tf)\n",
    "    run_assess(tf)\n",
    "    run_assess_kmer(tf)"
   ]
  },
  {
   "cell_type": "code",
   "execution_count": 15,
   "metadata": {
    "collapsed": true
   },
   "outputs": [],
   "source": [
    "combined_list = ['Tcf3', 'Hnf4a', 'Foxa2', 'Irf3', 'Tbp', 'Irf4',\n",
    " 'Ap2', 'Max', 'Sp4', 'Jund', 'Nr2f2', 'Gata3', 'Arid3a', 'Srf',\n",
    " 'Tcf7l2', 'Gabp', 'Egr1', 'Rxra', 'Mafk', 'Sp1']"
   ]
  },
  {
   "cell_type": "markdown",
   "metadata": {},
   "source": [
    "#### Summarize and plot for background correction"
   ]
  },
  {
   "cell_type": "code",
   "execution_count": 146,
   "metadata": {
    "collapsed": false
   },
   "outputs": [
    {
     "data": {
      "image/png": "[encoded data removed]",
      "text/plain": [
       "<matplotlib.figure.Figure at 0x2aaaed7231d0>"
      ]
     },
     "metadata": {},
     "output_type": "display_data"
    }
   ],
   "source": [
    "plot_df = pd.DataFrame(columns=[\"Tf_name\", \"Sticky\", \"minmax\",\"minabs\", \"observed\"])\n",
    "for tf in tf_lists:\n",
    "    tfs = name2pbmchip[tf]\n",
    "    #f1000 = \"/home/kipkurui/Project/Motif_Assessment/PAPER_Assessment_Data/Kibet-F1000Research/ChIP_seq/Results\"\n",
    "    #f1000 = \"/home/kipkurui/Project/Motif_Assessment/PAPER_Assessment_Data/NAR_Paper/ChIP-seq/Results\"\n",
    "    #test = pd.read_table(\"%s/%s/%s.energy\" % (f1000, tfs,tfs), index_col=\"Motif\")\n",
    "    energy = \"%s/Results/PBM_Reranked/%s/%s.energy\" % (BASE_DIR, tf.capitalize(), tf.lower())\n",
    "    #new_test = test.append(pd.read_table(energy, index_col=\"Motif\"))\n",
    "    new_test = pd.read_table(energy, index_col=\"Motif\")\n",
    "    new_test.sort_values(\"AUC\", ascending=False, inplace=True)\n",
    "    # Use this to add each to a specific column fro plotting purpose\n",
    "    #print tf\n",
    "    sticky = new_test[new_test.index.str.contains(\"sticky\")][\"AUC\"].mean()\n",
    "    minmax = new_test[new_test.index.str.contains(\"minmax\")][\"AUC\"].mean()\n",
    "    minabs = new_test[new_test.index.str.contains(\"minabs\")][\"AUC\"].mean()\n",
    "    observed = new_test[new_test.index.str.contains(\"observed\")][\"AUC\"].mean()\n",
    "    #scaled = new_test[new_test.index.str.contains(\"scaled\")][\"AUC\"].mean()\n",
    "    \n",
    "    df2 = pd.DataFrame([[tf, sticky,minmax,minabs,observed]], columns=[\"Tf_name\",\"Sticky\", \"minmax\",\"minabs\", \"observed\"])\n",
    "    plot_df = plot_df.append(df2)\n",
    "    \n",
    "    #print new_test\n",
    "plot_df.set_index(\"Tf_name\", inplace=True)\n",
    "#plot_df.sort_values(by=\"Sticky\", ascending=False, inplace=True)\n",
    "axes= plot_df.plot(kind=\"bar\")\n",
    "\n",
    "#Add values to figure key\n",
    "ave_additive = plot_df.mean()\n",
    "leg = list(plot_df.columns)\n",
    "new_leg = []\n",
    "for i in leg:\n",
    "    new_leg.append(\"%s = %.3f\" % (i,ave_additive[i]))\n",
    "axes.legend(new_leg,loc='best')\n",
    "\n",
    "sns.despine()\n",
    "\n",
    "fig = axes.get_figure()\n",
    "axes.set_ylabel(\"AUC scores\")\n",
    "fig.savefig(\"%s/background_correction.png\" % figure_path, bbox_inches='tight')"
   ]
  },
  {
   "cell_type": "code",
   "execution_count": 21,
   "metadata": {
    "collapsed": false
   },
   "outputs": [
    {
     "data": {
      "image/png": "[encoded data removed]",
      "text/plain": [
       "<matplotlib.figure.Figure at 0x7fa9906ef610>"
      ]
     },
     "metadata": {},
     "output_type": "display_data"
    }
   ],
   "source": [
    "plot_df = pd.DataFrame(columns=[\"Tf_name\", \"Sticky\", \"minmax\",\"minabs\", \"observed\",\"scaled\"])\n",
    "for tf in combined_list:\n",
    "    tfs = name2pbmchip[tf]\n",
    "    energy = \"/home/kipkurui/Project/PBM_DNase/Results/PBM_Reranked/%s/%s.max_kmer\" % (tf.capitalize(), tf.lower())\n",
    "    #new_test = test.append(pd.read_table(energy, index_col=\"Motif\"))\n",
    "    new_test = pd.read_table(energy, index_col=\"Motif\")\n",
    "    new_test.sort_values(\"AUC\", ascending=False, inplace=True)\n",
    "    # Use this to add each to a specific column fro plotting purpose\n",
    "    #print tf\n",
    "    sticky = new_test[new_test.index.str.contains(\"sticky\")][\"AUC\"].mean()\n",
    "    minmax = new_test[new_test.index.str.contains(\"minmax\")][\"AUC\"].mean()\n",
    "    minabs = new_test[new_test.index.str.contains(\"minabs\")][\"AUC\"].mean()\n",
    "    observed = new_test[new_test.index.str.contains(\"observed\")][\"AUC\"].mean()\n",
    "    scaled = new_test[new_test.index.str.contains(\"scaled\")][\"AUC\"].mean()\n",
    "    \n",
    "    df2 = pd.DataFrame([[tf, sticky,minmax,minabs,observed,scaled]], columns=[\"Tf_name\",\"Sticky\", \"minmax\",\"minabs\", \"observed\",\"scaled\"])\n",
    "    plot_df = plot_df.append(df2)\n",
    "    \n",
    "    #print new_test\n",
    "plot_df.set_index(\"Tf_name\", inplace=True)\n",
    "plot_df.sort_values(by=\"Sticky\", ascending=False, inplace=True)\n",
    "plot_df.plot(kind=\"bar\")\n",
    "sns.despine()\n"
   ]
  },
  {
   "cell_type": "code",
   "execution_count": 133,
   "metadata": {
    "collapsed": false
   },
   "outputs": [
    {
     "data": {
      "image/png": "[encoded data removed]",
      "text/plain": [
       "<matplotlib.figure.Figure at 0x2aaaeb5ee090>"
      ]
     },
     "metadata": {},
     "output_type": "display_data"
    }
   ],
   "source": [
    "thesis_df = plot_df[[\"Sticky\",\"minabs\",\"observed\"]]\n",
    "\n",
    "thesis_df.columns = [[\"sticky\",\"hg-dn\",\"observed\"]]\n",
    "thesis_df = thesis_df.sort_index()\n",
    "axes = thesis_df.plot.bar()\n",
    "\n",
    "ave_conserve = thesis_df.mean()\n",
    "leg = list(thesis_df.columns)\n",
    "new_leg = []\n",
    "for i in leg:\n",
    "    new_leg.append(\"%s = %.3f\" % (i,ave_conserve[i]))\n",
    "    \n",
    "axes.legend(new_leg,loc='best')\n",
    "\n",
    "axes.set_ylabel(\"\")\n",
    "sns.despine()\n",
    "axes.set_ylabel(\"AUC scores\")\n",
    "fig = axes.get_figure()\n",
    "fig.savefig(\"%s/background_correction.pdf\" % figure_path, bbox_inches='tight')"
   ]
  },
  {
   "cell_type": "code",
   "execution_count": null,
   "metadata": {
    "collapsed": true
   },
   "outputs": [],
   "source": []
  }
 ],
 "metadata": {
  "anaconda-cloud": {},
  "kernelspec": {
   "display_name": "Python [default]",
   "language": "python",
   "name": "python2"
  },
  "language_info": {
   "codemirror_mode": {
    "name": "ipython",
    "version": 2
   },
   "file_extension": ".py",
   "mimetype": "text/x-python",
   "name": "python",
   "nbconvert_exporter": "python",
   "pygments_lexer": "ipython2",
   "version": "2.7.12"
  }
 },
 "nbformat": 4,
 "nbformat_minor": 0
}
