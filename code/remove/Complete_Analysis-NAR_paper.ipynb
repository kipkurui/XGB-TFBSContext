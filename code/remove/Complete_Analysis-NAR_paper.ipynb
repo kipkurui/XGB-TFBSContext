{
 "cells": [
  {
   "cell_type": "markdown",
   "metadata": {},
   "source": [
    "# NAR Paper Data processing and analysis for complete reproducibility\n",
    "\n",
    "In this notebook, we provide the necesary information to reproduce the analysis we carried out for the NAR paper. The analsysius complements the methodiology and the results section of our paper. \n",
    "\n",
    "More details can be obtained by emailing: calebkibet88[at]gmail.com\n",
    "\n",
    "### Install the necessary modules\n",
    "\n",
    "A requirements file is also provided for easy install. We are using the conda environment to get all the dependencies in place, but pip can also be used. The bioinformatics moduls are obtained from the Bioconda Bioinforatics repository in Anaconda. \n",
    "\n",
    "#### From conda:\n",
    "* ipython==4.2.0\n",
    "* jupyter==1.0.0\n",
    "* numpy==1.10.4\n",
    "* pandas==0.17.1\n",
    "* scipy==0.16.0\n",
    "* seaborn==0.5.1\n",
    "* matplotlib==1.4.3\n",
    "\n",
    "#### From Bioconda\n",
    "* gimmemotifs==0.8.5\n",
    "* pybedtools==0.7.6\n",
    "\n",
    "#### Non-python modules\n",
    "\n",
    "* meme v4.11.1\n",
    "* bedtools v2.24.0"
   ]
  },
  {
   "cell_type": "markdown",
   "metadata": {},
   "source": [
    "### Table of contents\n",
    "\n",
    "1. [Import dependencies](#import)\n",
    "2. [Figure 4A: Correlating CB-MAR  with Energy AUC ranking in ChIP-seq data](#figure4a)\n",
    "3. [Figure 5: Correlating CB-MAR with Energy AUC ranking in PBM data](#figure5)\n",
    "4. [Figure 6: PBM ChIP-seq Energy AUC scores corelation](#figure6)\n",
    "5. [Figure 7: Joint scatter plot and histogram for gimme roc and Energy scoring Correlation scores](#figure7)\n",
    "2. [Figure 8: Comparing performance of top three motifs in Gimme and CB-MAR](#figure8)\n",
    "2. [Supplementary Figure 1: Gimme motifs and consistency motif ranking comparison.](#figs1)\n",
    "2. [Run Gimme Roc Analsysis](#gimme_roc)\n",
    "\n",
    "Just need to upgrade these untill I will have captured all the major headings. A few will have to be  shifted around to ensure the story can flow from the beginning and someone can actually follwo what is going on. "
   ]
  },
  {
   "cell_type": "markdown",
   "metadata": {},
   "source": [
    "<a id='import'></a>\n",
    "### Import all dependencies"
   ]
  },
  {
   "cell_type": "code",
   "execution_count": 25,
   "metadata": {
    "collapsed": true
   },
   "outputs": [],
   "source": [
    "##Pure python\n",
    "\n",
    "import pandas as pd\n",
    "import seaborn as sns\n",
    "import matplotlib.pyplot as plt\n",
    "from scipy.stats import ranksums\n",
    "from scipy.stats.mstats import winsorize\n",
    "import scipy.stats\n",
    "import numpy as np\n",
    "from math import log\n",
    "from scipy import stats\n",
    "#import os moduls\n",
    "import os\n",
    "\n",
    "## Bioconda\n",
    "import pybedtools\n",
    "\n",
    "%matplotlib inline"
   ]
  },
  {
   "cell_type": "code",
   "execution_count": 2,
   "metadata": {
    "collapsed": true
   },
   "outputs": [],
   "source": []
  },
  {
   "cell_type": "markdown",
   "metadata": {},
   "source": [
    "### First run tomtom pairwise comparison\n",
    "\n",
    "We use Jun to demonstrate how we carried out the analsysis and the \"Example_data\" folder within the working directory. "
   ]
  },
  {
   "cell_type": "code",
   "execution_count": 20,
   "metadata": {
    "collapsed": false
   },
   "outputs": [
    {
     "data": {
      "text/plain": [
       "0"
      ]
     },
     "execution_count": 20,
     "metadata": {},
     "output_type": "execute_result"
    }
   ],
   "source": [
    "tomtom_path = !which tomtom\n",
    "tomtom_path = tomtom_path[0]\n",
    "meme_in = \"./Example_data/Jun.meme\"\n",
    "results_folder = \"Example_data\"\n",
    "tf = \"Jun\"\n",
    "os.system(\n",
    "    \"%s -min-overlap 1 -dist %s -evalue -text -thresh 1000 -verbosity 1 %s %s >%s/%s_tomtom.txt\" %\n",
    "          (tomtom_path, \"ed\", meme_in, meme_in, results_folder, tf))"
   ]
  },
  {
   "cell_type": "markdown",
   "metadata": {},
   "source": [
    "### These utility function will be used for data cleaning and processing"
   ]
  },
  {
   "cell_type": "code",
   "execution_count": 21,
   "metadata": {
    "collapsed": false
   },
   "outputs": [],
   "source": [
    "tomtom = pd.read_table(\"./Example_data/Jun_tomtom.txt\")\n",
    "\n",
    "# To avoid zezo division, use add the smallest possible value to each\n",
    "\n",
    "tomtom[\"p-value\"] += 0.000000000000000000000000000000000000000000000001\n",
    "\n",
    "#Get the negative log of the p-value column\n",
    "tomtom[\"p-value\"] = -tomtom[\"p-value\"].apply(log)\n",
    "\n",
    "#Exatract the important columns to be used for any further analysis\n",
    "tomtom = tomtom[[\"#Query ID\", \"Target ID\", \"p-value\"]]\n",
    "\n",
    "#Change the column names\n",
    "tomtom.columns = [[\"Query_ID\", \"Target_ID\", \"Score\"]]\n",
    "\n",
    "#Pivit the data into a pairwise matrix\n",
    "\n",
    "tomtom_matrix = tomtom.pivot(index=\"Query_ID\", columns=\"Target_ID\", values=\"Score\")\n"
   ]
  },
  {
   "cell_type": "markdown",
   "metadata": {},
   "source": [
    "### Reduce effect of extreme outliers by winzorizing the data"
   ]
  },
  {
   "cell_type": "code",
   "execution_count": 28,
   "metadata": {
    "collapsed": true
   },
   "outputs": [],
   "source": [
    "#convert the dataframe to an array the winsorize and finally convert back into a dataframe\n",
    "\n",
    "tomtom_winz = pd.DataFrame(scipy.stats.mstats.winsorize(np.array(tomtom_matrix.values.T.tolist()),\n",
    "                                                     limits=0.05), index=tomtom_matrix.index, columns=tomtom_matrix.columns)"
   ]
  },
  {
   "cell_type": "markdown",
   "metadata": {},
   "source": [
    "### Normalize the data by the maximum value"
   ]
  },
  {
   "cell_type": "code",
   "execution_count": 29,
   "metadata": {
    "collapsed": false
   },
   "outputs": [],
   "source": [
    "tomtom_normalized = tomtom_winz.div(tomtom_winz.max())"
   ]
  },
  {
   "cell_type": "markdown",
   "metadata": {},
   "source": [
    "### Add a new average column to the matrix and sort the mean in ascending order"
   ]
  },
  {
   "cell_type": "code",
   "execution_count": 24,
   "metadata": {
    "collapsed": false,
    "scrolled": true
   },
   "outputs": [],
   "source": [
    "tomtom_normalized[\"Average\"] = tomtom_normalized.mean()\n",
    "tomtom_normalized.sort_values(by=\"Average\", ascending=False, inplace=True)\n",
    "tomtom_normalized.loc[\"Average\"] = tomtom_normalized.mean(axis=0)\n",
    "tomtom_normalized = tomtom_normalized.T\n",
    "tomtom_normalized.sort_values(by=\"Average\", axis=0, ascending=False, inplace=True)\n",
    "tomtom_normalized.drop(\"Average\", axis=0, inplace=True)"
   ]
  },
  {
   "cell_type": "markdown",
   "metadata": {},
   "source": [
    "### Save the data into a file"
   ]
  },
  {
   "cell_type": "code",
   "execution_count": 26,
   "metadata": {
    "collapsed": false
   },
   "outputs": [],
   "source": [
    "tomtom_normalized.to_csv(\"./Example_data/%s_tomtom_raw.txt\" % tf, sep=\"\\t\")"
   ]
  },
  {
   "cell_type": "markdown",
   "metadata": {},
   "source": [
    "### Plot the figures required"
   ]
  },
  {
   "cell_type": "code",
   "execution_count": 27,
   "metadata": {
    "collapsed": false
   },
   "outputs": [
    {
     "name": "stderr",
     "output_type": "stream",
     "text": [
      "/home/kipkurui/anaconda2/lib/python2.7/site-packages/matplotlib/collections.py:590: FutureWarning: elementwise comparison failed; returning scalar instead, but in the future will perform elementwise comparison\n",
      "  if self._edgecolors == str('face'):\n"
     ]
    },
    {
     "data": {
      "image/png": "[encoded data removed]",
      "text/plain": [
       "<matplotlib.figure.Figure at 0x7ffb086e1850>"
      ]
     },
     "metadata": {},
     "output_type": "display_data"
    }
   ],
   "source": [
    "cg = sns.clustermap(tomtom_normalized, method='single', metric=\"euclidean\", row_cluster=False, linewidths=.15)\n",
    "test = plt.setp(cg.ax_heatmap.yaxis.get_majorticklabels(), rotation=0)\n",
    "test = plt.setp(cg.ax_heatmap.xaxis.get_majorticklabels(), rotation=90)"
   ]
  },
  {
   "cell_type": "markdown",
   "metadata": {},
   "source": [
    "#### Run complete analysis by importing run_tomtom module"
   ]
  },
  {
   "cell_type": "markdown",
   "metadata": {},
   "source": [
    "#### Frist, let get a list of all the transcription factors with data in PBM and ChIP-seq Encode\n",
    "\n",
    "At the same time, since we are using TF class IDs, we need to create a dictionary that we will use to convert Tf ID them to readable TF name"
   ]
  },
  {
   "cell_type": "code",
   "execution_count": 3,
   "metadata": {
    "collapsed": false
   },
   "outputs": [],
   "source": [
    "pbm_chip = []\n",
    "pbmchip2name = {}\n",
    "with open('../Data/Pbm_Chip_details.txt') as pbmnchip:\n",
    "    for line in pbmnchip:\n",
    "        if line.startswith('Tf_id'):\n",
    "            continue\n",
    "        else:\n",
    "            pbm_chip.append(line.split()[0])\n",
    "            pbmchip2name[line.split()[0]] = line.split()[1]\n",
    "            \n",
    "#TFs with data in PBM and ChIP-se qnd over 10 motifs in DB\n",
    "\n",
    "pbm_chip_over10 = pd.read_table(\"../Data/PbmChipOver10.txt\").values.T.tolist()[0]\n",
    "    \n",
    "\n",
    "#get a list of TFs with chipseq data\n",
    "chipseq = []\n",
    "with open('../Data/Chip_details.txt') as chip_det:\n",
    "    for line in chip_det:\n",
    "        if line.startswith('Tf_id'):\n",
    "            continue\n",
    "        else:\n",
    "            chipseq.append(line.split()[0])\n",
    "\n",
    "#narrow down to those with over 10 motifs\n",
    "\n",
    "\"\"\"\n",
    "This to ensure robust results when using the consistency based approach\n",
    "and explained in the paper. This was done by querying the database.\n",
    "Here, we just import the pre-computed list.\n",
    "\"\"\"\n",
    "over10_chip =[]\n",
    "for tf in chipseq:\n",
    "    if tf in pbm_chip_over10:\n",
    "        over10_chip.append(tf)\n",
    "        \n",
    "pbms = []\n",
    "with open('../Data/passed_pbm_details.txt') as chip_det:\n",
    "    for line in chip_det:\n",
    "        if line.startswith('Tf_id'):\n",
    "            continue\n",
    "        else:\n",
    "            pbms.append(line.split()[0])\n",
    "            \n",
    "over10_pbm =[]\n",
    "for tf in pbms:\n",
    "    if tf in pbm_chip_over10:\n",
    "        over10_pbm.append(tf)\n",
    "        \n",
    "tf_classdisct = {}\n",
    "with open(\"../Data/tf_class\") as tcf:\n",
    "    for line in tcf:\n",
    "        tf_classdisct[line.split()[0]] = line.split()[1]"
   ]
  },
  {
   "cell_type": "markdown",
   "metadata": {},
   "source": [
    "# Move these to their respective folders"
   ]
  },
  {
   "cell_type": "code",
   "execution_count": 69,
   "metadata": {
    "collapsed": true
   },
   "outputs": [],
   "source": [
    "\n",
    "#TODO\" I will need to import the run_tomtom module as a standalone for complet analysis\n",
    "def run_tomtom(tf,meme_in, results_folder):\n",
    "    os.system(\n",
    "        \"%s/tomtom -min-overlap 1 -dist %s -evalue -text -thresh 1000 -verbosity 1 %s %s >%s/%s_tomtom.txt\" %\n",
    "              (meme_path, \"ed\", meme_in, meme_in, results_folder, tf))\n",
    "\n",
    "    clean_tomtom('%s/%s_tomtom.txt' % (results_folder, tf) ,'%s/%s_tomtom_raw.txt' % (results_folder, tf))\n",
    "    \n",
    "    #Uncomment below to plot figures. For this anlaysis we did not need them\n",
    "    \n",
    "    #plot_tomtom('%s/%s_tomtom_raw.txt' % (results_folder, tf), '%s/%s_tomtom.png' % (results_folder, tf))\n",
    "\n",
    "\n",
    "def clean_tomtom(tom_in, tom_out):\n",
    "\n",
    "    tomtom = pd.read_table(tom_in)\n",
    "\n",
    "    tomtom[\"p-value\"] += 0.000000000000000000000000000000000000000000000001\n",
    "\n",
    "    tomtom[\"p-value\"] = -tomtom[\"p-value\"].apply(log)\n",
    "\n",
    "    tomtom = tomtom[[\"#Query ID\", \"Target ID\", \"p-value\"]]\n",
    "\n",
    "    tomtom.columns = [[\"Query_ID\", \"Target_ID\", \"Score\"]]\n",
    "\n",
    "    tomtom_matrix = tomtom.pivot(index=\"Query_ID\", columns=\"Target_ID\", values=\"Score\")\n",
    "    \n",
    "    tomtom_winz = pd.DataFrame(\n",
    "        winsorize(np.array(tomtom_matrix.values.T.tolist()),\n",
    "                  limits=0.05), index=tomtom_matrix.index, columns=tomtom_matrix.columns)\n",
    "\n",
    "    # Normalize\n",
    "\n",
    "    tomtom_normalized = tomtom_winz.div(tomtom_winz.max())\n",
    "    #Add average column\n",
    "    tomtom_normalized[\"Average\"] = tomtom_normalized.mean()\n",
    "    \n",
    "    #sort by average and ensure the marix shape is retained\n",
    "    tomtom_normalized.sort_values(by=\"Average\", ascending=False, inplace=True)\n",
    "    tomtom_normalized.loc[\"Average\"] = tomtom_normalized.mean(axis=0)\n",
    "    tomtom_normalized = tomtom_normalized.T\n",
    "    tomtom_normalized.sort_values(by=\"Average\", axis=0, ascending=False, inplace=True)\n",
    "    tomtom_normalized.drop(\"Average\", axis=0, inplace=True)\n",
    "\n",
    "    # Save the data to file\n",
    "    tomtom_normalized.to_csv(\"%s\" % tom_out, sep=\"\\t\")\n",
    "\n",
    "    return tomtom_normalized\n",
    "\n",
    "\n",
    "def plot_tomtom(tom_in, figure_output):\n",
    "\n",
    "    tomtom_normalized = pd.read_table(tom_in, index_col=\"Target_ID\")\n",
    "\n",
    "    cg = sns.clustermap(tomtom_normalized, method='single', metric=\"euclidean\",\n",
    "                        row_cluster=False, linewidths=.15)\n",
    "    test = plt.setp(cg.ax_heatmap.yaxis.get_majorticklabels(), rotation=0)\n",
    "    test = plt.setp(cg.ax_heatmap.xaxis.get_majorticklabels(), rotation=90)\n",
    "\n",
    "    fig = plt.gcf()\n",
    "    fig.savefig(figure_output, bbox_inches='tight')\n"
   ]
  },
  {
   "cell_type": "markdown",
   "metadata": {},
   "source": [
    "### Run complete Tomtom analysis\n",
    "\n",
    "Uncomment the cell below to run complete analysis"
   ]
  },
  {
   "cell_type": "code",
   "execution_count": 61,
   "metadata": {
    "collapsed": true
   },
   "outputs": [],
   "source": [
    "#Remember this can take a while\n",
    "\n",
    "# for tf_id in pbm_chip_over10:\n",
    "#     meme_in = '../Motifs/%s.meme' % tf_id\n",
    "#     results_path = \"../FisimTomtom/%s\" % tf_id\n",
    "#     if os.path.isdir(results_path):\n",
    "#         pass\n",
    "#     else:\n",
    "#         os.makedirs(results_path)\n",
    "\n",
    "#     run_tomtom(tf_id,meme_in, results_path)"
   ]
  },
  {
   "cell_type": "markdown",
   "metadata": {},
   "source": [
    "### Run FISim analysis\n",
    "\n",
    "Below we just demonstrate how this analsysis can be carried out"
   ]
  },
  {
   "cell_type": "code",
   "execution_count": 78,
   "metadata": {
    "collapsed": false
   },
   "outputs": [],
   "source": [
    "BASE_DIR = \"/home/kipkurui/Project/Motif_Assessment/PAPER_Assessment_Data/NAR_Paper/Code/\""
   ]
  },
  {
   "cell_type": "code",
   "execution_count": 82,
   "metadata": {
    "collapsed": false
   },
   "outputs": [],
   "source": [
    "def run_fisim(meme_in, results_folder, tf_name):\n",
    "    tf_path = \"%s/%s\" % (results_folder, tf_name)\n",
    "    os.chdir(\"/home/kipkurui/Project/MAT_server/MARST_Suite//FISIM\")  # May need to rethink the location of the scripts\n",
    "    os.system(\"python fisim.py -fileList %s -o %s.fisim -core -ID\" % (meme_in, tf_path))\n",
    "    os.chdir(BASE_DIR)\n",
    "    #path = '%s/%s/%s' % (results_folder, tf_name, tf_name)\n",
    "    #utils.plot_heatmap_fisim(path+'.fisim', path+'_fisim.png')\n",
    "    #utils.plot_heatmap_fisim(path+'.fisim', path+'_fisim.eps')\n",
    "    \n",
    "tf_name = \"Jun\"\n",
    "meme_in = '%s/Example_data/Jun.meme' % BASE_DIR\n",
    "results_path = \"%s/Example_data\" % BASE_DIR\n",
    "run_fisim(meme_in, results_path, tf_name)"
   ]
  },
  {
   "cell_type": "markdown",
   "metadata": {},
   "source": [
    "#### For a complete run\n",
    "\n",
    "Uncomment below for complete run"
   ]
  },
  {
   "cell_type": "code",
   "execution_count": null,
   "metadata": {
    "collapsed": true
   },
   "outputs": [],
   "source": [
    "# for tf_id in pbm_chip_over10:\n",
    "#     results_path = \"../FisimTomtom/%s\" % tf_id\n",
    "#     if os.path.isdir(results_path):\n",
    "#         pass\n",
    "#     else:\n",
    "#         os.makedirs(results_path)\n",
    "\n",
    "#     run_tomtom(tf_id,meme_in, results_path)\n",
    "    "
   ]
  },
  {
   "cell_type": "markdown",
   "metadata": {},
   "source": [
    "### Lets start with how we process the peak file into fasta\n",
    "\n",
    "For this we use the PybedTools, but can also be done using the native BedTools. Read the comments in the function below for processing details"
   ]
  },
  {
   "cell_type": "markdown",
   "metadata": {},
   "source": [
    "#### Lets again demonstrate this using Jun TF\n",
    "\n",
    "First we download the file from ENCODE"
   ]
  },
  {
   "cell_type": "code",
   "execution_count": 14,
   "metadata": {
    "collapsed": false
   },
   "outputs": [
    {
     "name": "stdout",
     "output_type": "stream",
     "text": [
      "--2016-07-05 13:07:44--  http://hgdownload.cse.ucsc.edu/goldenPath/hg19/encodeDCC/wgEncodeAwgTfbsUniform/wgEncodeAwgTfbsSydhHelas3CjunIggrabUniPk.narrowPeak.gz\n",
      "Resolving hgdownload.cse.ucsc.edu (hgdownload.cse.ucsc.edu)... 128.114.119.163\n",
      "Connecting to hgdownload.cse.ucsc.edu (hgdownload.cse.ucsc.edu)|128.114.119.163|:80... connected.\n",
      "HTTP request sent, awaiting response... 200 OK\n",
      "Length: 540459 (528K) [application/x-gzip]\n",
      "Saving to: ‘./Example_data/wgEncodeAwgTfbsSydhHelas3CjunIggrabUniPk.narrowPeak.gz’\n",
      "\n",
      "./Example_data/wgEn 100%[=====================>] 527.79K   105KB/s   in 5.0s   \n",
      "\n",
      "2016-07-05 13:07:50 (105 KB/s) - ‘./Example_data/wgEncodeAwgTfbsSydhHelas3CjunIggrabUniPk.narrowPeak.gz’ saved [540459/540459]\n",
      "\n"
     ]
    }
   ],
   "source": [
    "! wget -O ./Example_data/wgEncodeAwgTfbsSydhHelas3CjunIggrabUniPk.narrowPeak.gz http://hgdownload.cse.ucsc.edu/goldenPath/hg19/encodeDCC/wgEncodeAwgTfbsUniform/wgEncodeAwgTfbsSydhHelas3CjunIggrabUniPk.narrowPeak.gz"
   ]
  },
  {
   "cell_type": "markdown",
   "metadata": {},
   "source": [
    "#### Uncompress the file using gunzip"
   ]
  },
  {
   "cell_type": "code",
   "execution_count": 16,
   "metadata": {
    "collapsed": false
   },
   "outputs": [],
   "source": [
    "! gunzip ./Example_data/wgEncodeAwgTfbsSydhHelas3CjunIggrabUniPk.narrowPeak.gz"
   ]
  },
  {
   "cell_type": "code",
   "execution_count": 8,
   "metadata": {
    "collapsed": false
   },
   "outputs": [],
   "source": [
    "peak = \"./Example_data/wgEncodeAwgTfbsSydhHelas3CjunIggrabUniPk.narrowPeak\"\n",
    "negfa_out = \"./Example_data/Jun.fa\"\n",
    "\n",
    "#Expand to 100bp centered on the peak\n",
    "width = 100\n",
    "\n",
    "#Extract negative sequences 500bp downstream\n",
    "downstream_distance = 500\n",
    "\n",
    "\n",
    "get_fasta_from_bed(peak, negfa_out, width, downstream_distance)"
   ]
  },
  {
   "cell_type": "code",
   "execution_count": 21,
   "metadata": {
    "collapsed": false
   },
   "outputs": [],
   "source": [
    "peak = \"./Example_data/wgEncodeAwgTfbsSydhHelas3CjunIggrabUniPk.narrowPeak\"\n",
    "#negfa_out = \"./Example_data/Jun.fa\"\n",
    "neg_bed = \"./Example_data/Jun.negbed\"\n",
    "pos_bed = \"./Example_data/Jun.posbed\"\n",
    "#Expand to 100bp centered on the peak\n",
    "width = 100\n",
    "\n",
    "#Extract negative sequences 500bp downstream\n",
    "downstream_distance = 500\n",
    "\n",
    "get_bed_from_peaks(peak, pos_bed, neg_bed, width, downstream_distance)"
   ]
  },
  {
   "cell_type": "markdown",
   "metadata": {},
   "source": [
    "### PBM data\n",
    "\n",
    "PBM data used for motif assessment were downloaded from [UniProbe database](http://thebrain.bwh.harvard.edu/pbms/webworks_pub/downloads.php), We only use the PBM intensity files to determine  assess the perfomnce of a motif. We mainly adopted the defenition of positive and negative sets described by Chen et al 2007. A given motif is used to score a 36bp sequence for each spot using the different scoring function described in the main paper."
   ]
  },
  {
   "cell_type": "code",
   "execution_count": null,
   "metadata": {
    "collapsed": true
   },
   "outputs": [],
   "source": [
    "# Import runpbm assess"
   ]
  },
  {
   "cell_type": "markdown",
   "metadata": {},
   "source": [
    "### Perform Enrichment analysis\n",
    "\n",
    "Nothing much has actually been done for this section of the analytics"
   ]
  },
  {
   "cell_type": "code",
   "execution_count": null,
   "metadata": {
    "collapsed": true
   },
   "outputs": [],
   "source": [
    "# def plot_centrimo(centrimo_in, figure_output):\n",
    "#     centrimo_table = pd.read_table(centrimo_in, index_col=0)\n",
    "#     centrimo_table.sort(columns=\"Average\", axis=0, ascending=False, inplace=True)\n",
    "#     sns.clustermap(centrimo_table, method='single', metric=\"euclidean\",\n",
    "#                    z_score=None, row_cluster=False, col_cluster=True)\n",
    "#     f = plt.gcf()\n",
    "#     f.savefig(figure_output, bbox_inches='tight')\n",
    "# pbm_chip_over10\n",
    "\n",
    "# def run_centrimo(tf, chip_seq_list, test_meme_input, files_path):\n",
    "\n",
    "#     # If chip_seq list is greater than 10, randomly sample 10.\n",
    "#     import random\n",
    "#     if len(chip_seq_list) > 10:\n",
    "#         random.seed(10)\n",
    "#         chip_seq_list = random.sample(chip_seq_list, 10)\n",
    "\n",
    "#     test_list = [[\"Motif\"]]  # get list of motifs in meme file\n",
    "#     with open(test_meme_input) as motifs:\n",
    "#         for motif_line in motifs:\n",
    "#             if motif_line.startswith(\"MOTIF\"):\n",
    "#                 test_list.append([motif_line.split()[1]])\n",
    "\n",
    "#     def get_centrimo_list(chip_name):\n",
    "#         \"\"\"\n",
    "#         Extracts important details form a CentriMo run output\n",
    "#         \"\"\"\n",
    "#         with open(chip_name) as cent:\n",
    "#             temp_dict = {}\n",
    "#             for line in cent:\n",
    "#                 if line.startswith(\"#\"):\n",
    "#                     continue\n",
    "#                 else:\n",
    "#                     temp_dict[line.split()[1]] = float(line.split()[5])*-1\n",
    "\n",
    "#         for mot in range(len(test_list)):\n",
    "#             if test_list[mot][0] in temp_dict:\n",
    "#                 test_list[mot].append(temp_dict[test_list[mot][0]])\n",
    "#             elif test_list[mot][0] == \"Motif\":\n",
    "#                 continue\n",
    "#             else:\n",
    "#                 test_list[mot].append(0)\n",
    "\n",
    "#     for chip_seq in chip_seq_list:\n",
    "#         file_name = chip_seq.split('/')[-1].split('.')[0]\n",
    "\n",
    "#         test_list[0].append(file_name)\n",
    "#         tmp_path = '%s/%s/tmp' % (files_path, tf)\n",
    "#         mkdir_p(tmp_path)\n",
    "#         tab2fasta(chip_seq, '%s/%s.fa' % (tmp_path, file_name), '%s/%s.bg' % (tmp_path, file_name))\n",
    "\n",
    "#         os.system(\"%s/fasta-get-markov  %s/%s.fa %s/%s.fa.bg\" % (meme_path, tmp_path, file_name, tmp_path, file_name))\n",
    "#         os.system(\"%s/centrimo --oc %s/%s --verbosity 1 --local --optimize_score --score 5.0 \"\n",
    "#                   \"--ethresh 100000.0 --neg %s/%s.bg --bfile %s/%s.fa.bg %s/%s.fa %s\" %\n",
    "#                   (meme_path, tmp_path, file_name, tmp_path, file_name, tmp_path, file_name, tmp_path, file_name, test_meme_input))\n",
    "#         # centrimo_raw = \"%s/MATOM/static/files/%s/%s_centrimo.txt\" % (BASE_DIR, tf, tf)\n",
    "#         get_centrimo_list(\"%s/%s/centrimo.txt\" % (tmp_path, file_name))\n",
    "\n",
    "#         # Delete all the temporary files\n",
    "#         import shutil\n",
    "#         shutil.rmtree('%s/%s/' % (tmp_path, file_name))\n",
    "\n",
    "#         import glob\n",
    "#         for i in glob.glob('%s/*' % tmp_path):\n",
    "#             os.remove(i)\n",
    "\n",
    "#     test_list[0].append(\"Average\")\n",
    "#     for i in range(1, len(test_list)):\n",
    "#         test_list[i].append(np.mean(test_list[i][1:]))\n",
    "#     test_list.sort(key=lambda x: x[-1], reverse=True)\n",
    "#     with open('%s/%s_centrimo.txt' % (files_path, tf), 'w') as cent_out:\n",
    "#         for i in test_list:\n",
    "#             cent_out.writelines('\\t'.join(map(str, i)) + '\\n')\n",
    "#     cent = pd.read_table('%s/%s_centrimo.txt' % (files_path, tf), index_col=0)\n",
    "#     del cent['Average']\n",
    "#     a = cent/cent.max()\n",
    "#     b = a.replace(to_replace='NaN', value=0)\n",
    "#     Av = b.T.mean()\n",
    "#     Av = Av.to_frame(name=\"Average\")\n",
    "#     plot = b.T.append(Av.T).T\n",
    "#     utils.plot_centrimo(plot, '%s/%s_centrimo.png' % (files_path, tf))\n",
    "#     utils.plot_centrimo(plot, '%s/%s_centrimo.eps' % (files_path, tf))\n",
    "\n",
    "#     plot.sort(columns=\"Average\", axis=0, ascending=False, inplace=True)\n",
    "#     plot.to_csv('%s/%s_centrimo_norm.txt' % (files_path, tf), sep=\"\\t\")"
   ]
  },
  {
   "cell_type": "markdown",
   "metadata": {
    "collapsed": false
   },
   "source": [
    "### Get the PBM positive sequences"
   ]
  },
  {
   "cell_type": "code",
   "execution_count": 6,
   "metadata": {
    "collapsed": true
   },
   "outputs": [],
   "source": [
    "meme_path = '/home/kipkurui/meme/bin'"
   ]
  },
  {
   "cell_type": "code",
   "execution_count": 9,
   "metadata": {
    "collapsed": true
   },
   "outputs": [],
   "source": [
    "#!/usr/bin/python\n",
    "from __future__ import print_function\n",
    "import sys\n",
    "from math import log\n",
    "import os\n",
    "\n",
    "def mot_summary(motif_file, raw_file, out_file, key):\n",
    "    found = 0\n",
    "    row = 0\n",
    "    n_rows = 0\n",
    "    entropy = 0\n",
    "    total_entropy = 0\n",
    "    motifs = 0\n",
    "    name = \"\"\n",
    "    raw_dict = {}\n",
    "    with open(out_file, \"w\") as write_out:\n",
    "\n",
    "        with open(raw_file) as raw_in:\n",
    "            for line in raw_in:\n",
    "                raw_dict[line.split()[0]] = line.split()[1:]\n",
    "        out = \"Motif_name\\tMotif_IC\\tAverage_IC\\tMotif_length\\t%s\\n\" % \\\n",
    "              (raw_dict[key][-1])\n",
    "\n",
    "        write_out.write(out)\n",
    "        with open(motif_file, \"r\") as motif_file:\n",
    "            for line in motif_file:\n",
    "                words = line.split()\n",
    "                if found == 0:\n",
    "                    if line.startswith(\"MOTIF\"):\n",
    "                        # allow for motifs without an alternative name\n",
    "                        if len(words) < 3:\n",
    "                            words.append(\"\")\n",
    "                        name = (words[1])\n",
    "                        found = 1\n",
    "                        motifs += motifs\n",
    "                        entropy = 0\n",
    "                        continue\n",
    "                if found == 1:\n",
    "                    if line.startswith(\"letter-probability\"):\n",
    "                        n_rows = int((line.split(\"w=\"))[1].split()[0])\n",
    "                        found = 2\n",
    "                    continue\n",
    "                if found == 2:\n",
    "                    if line == \"\\n\":\n",
    "                        continue\n",
    "                    else:\n",
    "                        check = 0\n",
    "                    for val in words:\n",
    "                        if float(val) > 0:\n",
    "                            check += float(val) * log(float(val))/log(2.0)\n",
    "                            entropy += float(val) * log(float(val))/log(2.0)\n",
    "                    row += 1\n",
    "                    if row >= n_rows:\n",
    "                        v = 2*n_rows+entropy\n",
    "                        out = '%s\\t%f\\t%f\\t%i\\t%f\\n'\\\n",
    "                              % (name, v, (v/n_rows), n_rows, float(raw_dict[name][-1]))\n",
    "                        write_out.write(out)\n",
    "                        #n+= 1\n",
    "                        #print(n)\n",
    "                        found = 0\n",
    "                        row = 0\n",
    "                        total_entropy += (v/n_rows)"
   ]
  },
  {
   "cell_type": "markdown",
   "metadata": {},
   "source": [
    "### Get motif summary and score to file\n",
    "\n",
    "The motif summary function above gets details of motif and all the summary information for each TF as follows :\n",
    "\n",
    "#### For Tomtom"
   ]
  },
  {
   "cell_type": "code",
   "execution_count": null,
   "metadata": {
    "collapsed": true
   },
   "outputs": [],
   "source": [
    "for tf_id in pbm_chip_over10:\n",
    "    meme_in = '../Motifs/%s.meme' % tf_id\n",
    "    results_path = \"../FisimTomtom/%s\" % tf_id\n",
    "    raw_file = '%s/%s.tomtom_raw.txt' % (results_path, tf_id)\n",
    "    raw_out_file = \"%s/%s_tomtom_ic.txt\" % (results_path, tf_id)\n",
    "    key = \"Test\"\n",
    "    mot_summary(meme_in, raw_file, raw_out_file,key)"
   ]
  },
  {
   "cell_type": "markdown",
   "metadata": {},
   "source": [
    "#### For FISim"
   ]
  },
  {
   "cell_type": "code",
   "execution_count": null,
   "metadata": {
    "collapsed": true
   },
   "outputs": [],
   "source": [
    "for tf_id in pbm_chip_over10:\n",
    "    meme_in = '../Motifs/%s.meme' % tf_id\n",
    "    results_path = \"../FisimTomtom/%s\" % tf_id\n",
    "    raw_file = '%s/%s.fisim' % (results_path, tf_id)\n",
    "    raw_out_file = \"%s/%s_fisim_ic.txt\" % (results_path, tf_id))\n",
    "    key = \"Motifs\"\n",
    "    mot_summary(meme_in, raw_file, raw_out_file,key)"
   ]
  },
  {
   "cell_type": "markdown",
   "metadata": {},
   "source": [
    "#### Summarize data  for all TFs"
   ]
  },
  {
   "cell_type": "code",
   "execution_count": 10,
   "metadata": {
    "collapsed": false
   },
   "outputs": [
    {
     "data": {
      "text/html": [
       "<div>\n",
       "<table border=\"1\" class=\"dataframe\">\n",
       "  <thead>\n",
       "    <tr style=\"text-align: right;\">\n",
       "      <th></th>\n",
       "      <th>Motif_IC</th>\n",
       "      <th>Average_IC</th>\n",
       "      <th>Motif_length</th>\n",
       "      <th>Average</th>\n",
       "      <th>Number</th>\n",
       "    </tr>\n",
       "  </thead>\n",
       "  <tbody>\n",
       "    <tr>\n",
       "      <th>Motif_IC</th>\n",
       "      <td>1.000000</td>\n",
       "      <td>0.401981</td>\n",
       "      <td>0.714860</td>\n",
       "      <td>-0.130621</td>\n",
       "      <td>0.131548</td>\n",
       "    </tr>\n",
       "    <tr>\n",
       "      <th>Average_IC</th>\n",
       "      <td>0.401981</td>\n",
       "      <td>1.000000</td>\n",
       "      <td>-0.303971</td>\n",
       "      <td>0.271306</td>\n",
       "      <td>0.205196</td>\n",
       "    </tr>\n",
       "    <tr>\n",
       "      <th>Motif_length</th>\n",
       "      <td>0.714860</td>\n",
       "      <td>-0.303971</td>\n",
       "      <td>1.000000</td>\n",
       "      <td>-0.320763</td>\n",
       "      <td>-0.014639</td>\n",
       "    </tr>\n",
       "    <tr>\n",
       "      <th>Average</th>\n",
       "      <td>-0.130621</td>\n",
       "      <td>0.271306</td>\n",
       "      <td>-0.320763</td>\n",
       "      <td>1.000000</td>\n",
       "      <td>0.091090</td>\n",
       "    </tr>\n",
       "    <tr>\n",
       "      <th>Number</th>\n",
       "      <td>0.131548</td>\n",
       "      <td>0.205196</td>\n",
       "      <td>-0.014639</td>\n",
       "      <td>0.091090</td>\n",
       "      <td>1.000000</td>\n",
       "    </tr>\n",
       "  </tbody>\n",
       "</table>\n",
       "</div>"
      ],
      "text/plain": [
       "              Motif_IC  Average_IC  Motif_length   Average    Number\n",
       "Motif_IC      1.000000    0.401981      0.714860 -0.130621  0.131548\n",
       "Average_IC    0.401981    1.000000     -0.303971  0.271306  0.205196\n",
       "Motif_length  0.714860   -0.303971      1.000000 -0.320763 -0.014639\n",
       "Average      -0.130621    0.271306     -0.320763  1.000000  0.091090\n",
       "Number        0.131548    0.205196     -0.014639  0.091090  1.000000"
      ]
     },
     "execution_count": 10,
     "metadata": {},
     "output_type": "execute_result"
    }
   ],
   "source": [
    "d = pd.DataFrame()\n",
    "tomtom_mean = pd.DataFrame()\n",
    "for tf_id in pbm_chip_over10:\n",
    "    results_path = \"../FisimTomtom/%s\" % tf_id\n",
    "    tomtom_sum = pd.read_table(\"%s/%s_tomtom_ic.txt\" % (results_path, tf_id))\n",
    "    a = tomtom_sum.corr()\n",
    "    mot_size = pd.Series([len(tomtom_sum)],index=[\"Number\"]).to_frame(pbmchip2name[tf_id])\n",
    "    means = tomtom_sum.mean().to_frame(name=pbmchip2name[tf_id])\n",
    "    means = means.append(mot_size)\n",
    "    tomtom_mean = tomtom_mean.append(means.T)\n",
    "    b = a['Average'].to_frame(name=pbmchip2name[tf_id])\n",
    "    d = d.append(b.T)\n",
    "tomtom = d.drop('Average', axis=1)\n",
    "tomtom_mean.corr()\n",
    "#fig, ax = plt.subplots()\n",
    "# # the size of A4 paper\n",
    "# fig.set_size_inches(10, 10)\n",
    "#sns.heatmap(tomtom_mean, annot=True, ax = ax)"
   ]
  },
  {
   "cell_type": "markdown",
   "metadata": {},
   "source": [
    "#### Repeat for FISim data"
   ]
  },
  {
   "cell_type": "code",
   "execution_count": 123,
   "metadata": {
    "collapsed": false
   },
   "outputs": [
    {
     "data": {
      "text/html": [
       "<div>\n",
       "<table border=\"1\" class=\"dataframe\">\n",
       "  <thead>\n",
       "    <tr style=\"text-align: right;\">\n",
       "      <th></th>\n",
       "      <th>Motif_IC</th>\n",
       "      <th>Average_IC</th>\n",
       "      <th>Motif_length</th>\n",
       "      <th>Average</th>\n",
       "      <th>Number</th>\n",
       "    </tr>\n",
       "  </thead>\n",
       "  <tbody>\n",
       "    <tr>\n",
       "      <th>Motif_IC</th>\n",
       "      <td>1.000000</td>\n",
       "      <td>0.401981</td>\n",
       "      <td>0.714860</td>\n",
       "      <td>0.010001</td>\n",
       "      <td>0.131548</td>\n",
       "    </tr>\n",
       "    <tr>\n",
       "      <th>Average_IC</th>\n",
       "      <td>0.401981</td>\n",
       "      <td>1.000000</td>\n",
       "      <td>-0.303971</td>\n",
       "      <td>-0.109169</td>\n",
       "      <td>0.205196</td>\n",
       "    </tr>\n",
       "    <tr>\n",
       "      <th>Motif_length</th>\n",
       "      <td>0.714860</td>\n",
       "      <td>-0.303971</td>\n",
       "      <td>1.000000</td>\n",
       "      <td>0.080495</td>\n",
       "      <td>-0.014639</td>\n",
       "    </tr>\n",
       "    <tr>\n",
       "      <th>Average</th>\n",
       "      <td>0.010001</td>\n",
       "      <td>-0.109169</td>\n",
       "      <td>0.080495</td>\n",
       "      <td>1.000000</td>\n",
       "      <td>-0.380741</td>\n",
       "    </tr>\n",
       "    <tr>\n",
       "      <th>Number</th>\n",
       "      <td>0.131548</td>\n",
       "      <td>0.205196</td>\n",
       "      <td>-0.014639</td>\n",
       "      <td>-0.380741</td>\n",
       "      <td>1.000000</td>\n",
       "    </tr>\n",
       "  </tbody>\n",
       "</table>\n",
       "</div>"
      ],
      "text/plain": [
       "              Motif_IC  Average_IC  Motif_length   Average    Number\n",
       "Motif_IC      1.000000    0.401981      0.714860  0.010001  0.131548\n",
       "Average_IC    0.401981    1.000000     -0.303971 -0.109169  0.205196\n",
       "Motif_length  0.714860   -0.303971      1.000000  0.080495 -0.014639\n",
       "Average       0.010001   -0.109169      0.080495  1.000000 -0.380741\n",
       "Number        0.131548    0.205196     -0.014639 -0.380741  1.000000"
      ]
     },
     "execution_count": 123,
     "metadata": {},
     "output_type": "execute_result"
    }
   ],
   "source": [
    "d = pd.DataFrame()\n",
    "fisim_mean = pd.DataFrame()\n",
    "#tf_list = \"cebpb ctcf egr1 elf1 esrra ets1 gata3 hnf4a mafk max mef2a nrf1 pax5 pou2f2 prdm1 sp1 srf tcf3\".split()\n",
    "for tf_id in pbm_chip_over10:\n",
    "    results_path = \"/home/kipkurui/Project/Motif_Assessment/PAPER_Assessment_Data/NAR_Paper/FisimTomtom/%s\" % tf_id\n",
    "    tomtom_sum = pd.read_table(\"%s/%s_fisim_ic.txt\" % (results_path, tf_id))\n",
    "    a = tomtom_sum.corr()\n",
    "    \n",
    "    asd = pd.Series([len(tomtom_sum)],index=[\"Number\"]).to_frame(pbmchip2name[tf_id])\n",
    "    means = tomtom_sum.mean().to_frame(name=pbmchip2name[tf_id])\n",
    "    means = means.append(asd)\n",
    "    \n",
    "    fisim_mean = fisim_mean.append(means.T)\n",
    "    \n",
    "    b = a['Average'].to_frame(name=pbmchip2name[tf_id])\n",
    "    d = d.append(b.T)\n",
    "fisim = d.drop(\"Average\", axis=1)\n",
    "fisim_mean.corr()"
   ]
  },
  {
   "cell_type": "code",
   "execution_count": 124,
   "metadata": {
    "collapsed": false
   },
   "outputs": [],
   "source": [
    "fisim_corr = fisim_mean.corr()\n",
    "tomtom_corr = tomtom_mean.corr()\n",
    "\n",
    "for i in \"Motif_IC\tAverage_IC\tMotif_length\tNumber\".split():\n",
    "    fisim_corr.pop(i)\n",
    "\n",
    "for i in \"Motif_IC\tAverage_IC\tMotif_length\tNumber\".split():\n",
    "    tomtom_corr.pop(i)\n",
    "\n",
    "fisim_corr.columns = [\"FISim\"]\n",
    "tomtom_corr.columns = [\"Tomtom\"]\n",
    "\n",
    "fisim_tomtom = fisim_corr.T.append(tomtom_corr.T)\n",
    "fisim_tomtom.pop(\"Average\")\n",
    "fisim_tomtom.columns = [[\"Motif_IC\", \"Average_IC\", \"Motif_length\", \"# of Motifs\"]]"
   ]
  },
  {
   "cell_type": "code",
   "execution_count": 129,
   "metadata": {
    "collapsed": false
   },
   "outputs": [
    {
     "data": {
      "image/png": "[encoded data removed]",
      "text/plain": [
       "<matplotlib.figure.Figure at 0x7f26d7bdb410>"
      ]
     },
     "metadata": {},
     "output_type": "display_data"
    }
   ],
   "source": [
    "#Plot the mini-heatmap\n",
    "sns.set_context(\"notebook\", font_scale=1.2, rc={\"lines.linewidth\": 2.5})\n",
    "fig, ax1 = plt.subplots(figsize=(6, 3))\n",
    "sns.heatmap(fisim_tomtom, annot=True, ax=ax1)\n",
    "plt.savefig(\"/home/kipkurui/Dropbox/PHD/Documents/NAR_Paper/Working_draft/Figs/tomtom_fisim_corr_heatmap-sm.pdf\", bbox_inches='tight')"
   ]
  },
  {
   "cell_type": "markdown",
   "metadata": {},
   "source": [
    "The main difference is the apparent influence of IC on the scores assigned by the two techniques. Tomtom scores have a positive correlation wih average IC (favour hiher IC motifs) while Fisim has a negative correlation (penalize higher IC motifs). Fism is not infleunced by length while Tomtom penalizes longer motifs. Surprisingly, number of motifs in the TF seem to negatively affect motif scores for Fism and not efect for Tomtom.\n",
    "\n",
    "The question now is, what is the meaning of all this? How much of it can be explained by the design of the motif comparison tools in use here? Also, the number of motifs in a set, could bring in diversity. Therefore we should not read much from it. "
   ]
  },
  {
   "cell_type": "markdown",
   "metadata": {},
   "source": [
    "#### Repeat the above for FiSim"
   ]
  },
  {
   "cell_type": "code",
   "execution_count": 134,
   "metadata": {
    "collapsed": false
   },
   "outputs": [
    {
     "data": {
      "text/plain": [
       "0.00015457421710040657"
      ]
     },
     "execution_count": 134,
     "metadata": {},
     "output_type": "execute_result"
    }
   ],
   "source": [
    "cols = \"Average_IC\"\n",
    "#fisim[cols].to_frame(name=\"Fisim\").T.append(tomtom[cols].to_frame(name=\"Tomtom\").T)\n",
    "\n",
    "compare = fisim[cols].to_frame(name=\"Fisim\").T.append(tomtom[cols].to_frame(name=\"Tomtom\").T).T\n",
    "\n",
    "ranksums(compare['Fisim'],compare['Tomtom'])[1]"
   ]
  },
  {
   "cell_type": "markdown",
   "metadata": {},
   "source": [
    "<a id='figure4a'></a>\n",
    "### Figure 4A: Correlating CB-MAR  with Energy AUC ranking in ChIP-seq data"
   ]
  },
  {
   "cell_type": "code",
   "execution_count": 4,
   "metadata": {
    "collapsed": false
   },
   "outputs": [
    {
     "data": {
      "text/html": [
       "<div>\n",
       "<table border=\"1\" class=\"dataframe\">\n",
       "  <thead>\n",
       "    <tr style=\"text-align: right;\">\n",
       "      <th></th>\n",
       "      <th>Fisim</th>\n",
       "      <th>Tomtom</th>\n",
       "    </tr>\n",
       "  </thead>\n",
       "  <tbody>\n",
       "    <tr>\n",
       "      <th>count</th>\n",
       "      <td>83.000000</td>\n",
       "      <td>83.000000</td>\n",
       "    </tr>\n",
       "    <tr>\n",
       "      <th>mean</th>\n",
       "      <td>0.646478</td>\n",
       "      <td>0.719150</td>\n",
       "    </tr>\n",
       "    <tr>\n",
       "      <th>std</th>\n",
       "      <td>0.318703</td>\n",
       "      <td>0.322177</td>\n",
       "    </tr>\n",
       "    <tr>\n",
       "      <th>min</th>\n",
       "      <td>-0.287187</td>\n",
       "      <td>-0.321046</td>\n",
       "    </tr>\n",
       "    <tr>\n",
       "      <th>25%</th>\n",
       "      <td>0.516138</td>\n",
       "      <td>0.626251</td>\n",
       "    </tr>\n",
       "    <tr>\n",
       "      <th>50%</th>\n",
       "      <td>0.781674</td>\n",
       "      <td>0.875551</td>\n",
       "    </tr>\n",
       "    <tr>\n",
       "      <th>75%</th>\n",
       "      <td>0.862488</td>\n",
       "      <td>0.928751</td>\n",
       "    </tr>\n",
       "    <tr>\n",
       "      <th>max</th>\n",
       "      <td>0.976314</td>\n",
       "      <td>0.975952</td>\n",
       "    </tr>\n",
       "  </tbody>\n",
       "</table>\n",
       "</div>"
      ],
      "text/plain": [
       "           Fisim     Tomtom\n",
       "count  83.000000  83.000000\n",
       "mean    0.646478   0.719150\n",
       "std     0.318703   0.322177\n",
       "min    -0.287187  -0.321046\n",
       "25%     0.516138   0.626251\n",
       "50%     0.781674   0.875551\n",
       "75%     0.862488   0.928751\n",
       "max     0.976314   0.975952"
      ]
     },
     "execution_count": 4,
     "metadata": {},
     "output_type": "execute_result"
    }
   ],
   "source": [
    "here = pd.DataFrame()\n",
    "enerrgy_mean = pd.DataFrame()\n",
    "pbm_energy = pd.DataFrame()\n",
    "tomtom_mean = pd.DataFrame()\n",
    "fisim_mean = pd.DataFrame()\n",
    "stat = \"AUC\"\n",
    "chip_labels = []\n",
    "for tf_id in over10_chip:\n",
    "    #tf_name = pbmchip2name[tf_id]\n",
    "    chip_labels.append(tf_classdisct[tf_id[:3]])\n",
    "    tf_name = tf_id\n",
    "    energy = pd.read_table(\"/home/kipkurui/Project/Motif_Assessment/PAPER_Assessment_Data/NAR_Paper/ChIP-seq/Results/%s/%s.energy\" % (tf_id,tf_id), index_col=\"Motif\")\n",
    "    #pbms = pd.read_table(\"/home/kipkurui/Project/Motif_Assessment/PAPER_Assessment_Data/NAR_Paper/PBM/Results/%s/%s.energy\" %s (tf_id, tf_id))\n",
    "    a = energy[[stat]]\n",
    "    e_mean = energy.mean().to_frame(name=tf_name)\n",
    "    enerrgy_mean = enerrgy_mean.append(e_mean.T)\n",
    "    \n",
    "    \n",
    "    results_path = \"/home/kipkurui/Project/Motif_Assessment/PAPER_Assessment_Data/NAR_Paper/FisimTomtom/%s\" % tf_id\n",
    "    tomtom_sum = pd.read_table(\"%s/%s_fisim_ic.txt\" % (results_path, tf_id),index_col=\"Motif_name\")\n",
    "\n",
    "    tomtom_sum.index.names = [\"Motif\"]\n",
    "\n",
    "    b = tomtom_sum[\"Average\"].to_frame(name=\"Fisim\")\n",
    "\n",
    "    fisim_mean = fisim_mean.append(b.mean().to_frame(name=tf_name).T)\n",
    "\n",
    "\n",
    "    # #results_path = \"/home/kipkurui/Project/Motif_Assessment/PAPER_Assessment_Data/NAR_Paper/FisimTomtom/%s\" % tf_id\n",
    "    tomtom_sum = pd.read_table(\"%s/%s_tomtom_ic.txt\" % (results_path, tf_id), index_col=\"Motif_name\")\n",
    "    tomtom_sum.index.names = [\"Motif\"]\n",
    "    c = tomtom_sum[\"Average\"].to_frame(name=\"Tomtom\")\n",
    "    \n",
    "    tomtom_mean = tomtom_mean.append(c.mean().to_frame(name=tf_name).T)\n",
    "\n",
    "    d =a.T.append(b.T)\n",
    "\n",
    "    total_cor = d.append(c.T).T.corr(method='pearson')\n",
    "    #here = total_cor[stat].to_frame(name=pbmchip2name[tf_id])\n",
    "    there = total_cor[stat].to_frame(name=tf_name)\n",
    "    here = here.T.append(there.T).T\n",
    "\n",
    "overall = here.T.drop(stat, axis=1)\n",
    "overall_chip_unsorted = overall\n",
    "overall_chip = overall.sort_values(\"Tomtom\", ascending=False)\n",
    "overall_chip.describe()"
   ]
  },
  {
   "cell_type": "markdown",
   "metadata": {},
   "source": [
    "#### Get the TF-class details "
   ]
  },
  {
   "cell_type": "code",
   "execution_count": 5,
   "metadata": {
    "collapsed": false
   },
   "outputs": [],
   "source": [
    "chip_labels = []\n",
    "new_index = []\n",
    "for tf_id in overall_chip.index:\n",
    "    chip_labels.append(tf_classdisct[tf_id[:3]])\n",
    "    new_index.append(pbmchip2name[tf_id])\n",
    "overall_chip.index = new_index"
   ]
  },
  {
   "cell_type": "markdown",
   "metadata": {},
   "source": [
    "#### Plot the bargraph with class details on the second axis"
   ]
  },
  {
   "cell_type": "code",
   "execution_count": 76,
   "metadata": {
    "collapsed": false
   },
   "outputs": [
    {
     "data": {
      "image/png": "[encoded data removed]",
      "text/plain": [
       "<matplotlib.figure.Figure at 0x7f9d75f0ee50>"
      ]
     },
     "metadata": {},
     "output_type": "display_data"
    }
   ],
   "source": [
    "sns.set(style=\"ticks\")\n",
    "ax = overall_chip.plot(kind=\"bar\", figsize=(15,6), fontsize=12, cmap='Paired') #, \n",
    "#plt.tight_layout(pad=0.4, w_pad=0.5, h_pad=1.0)\n",
    "ax.set_xlabel(\"Transcription factors\")\n",
    "ax.set_ylabel(\"AUC-Comparison correlation scores\")\n",
    "ax.set_axis_on()\n",
    "\n",
    "#Add a new x-axis on top of the figure\n",
    "ax1 = ax.twiny()\n",
    "\n",
    "#ax1.set_xlim(ax1.get_xlim())\n",
    "\n",
    "ax1.set_xticks(np.array(range(1, len(overall_chip)+1))-0.75, minor=False)\n",
    "\n",
    "ax1.set_xticklabels(chip_labels, rotation= 'vertical')\n",
    "\n",
    "ax1.set_xlabel(\"Transcription factor class\")\n",
    "\n",
    "#Anotate teh figure with summary information \n",
    "ax.annotate(\"Tomtom correlation mean: %.3f$\\pm$%.2f\" % (overall_chip.mean()[\"Tomtom\"], overall_chip.std()[\"Tomtom\"]), (4,-0.20))\n",
    "ax.annotate(\"Tomtom correlation median: %.3f (IQR = %.2f to %.2f)\" % (overall_chip.median()[\"Tomtom\"], overall_chip.quantile(.25)[\"Tomtom\"], overall_chip.quantile(.75)[\"Tomtom\"]), (25,-0.20))\n",
    "\n",
    "ax.annotate(\"FISim correlation mean:   %.3f$\\pm$%.2f\" % (overall_chip.mean()[\"Fisim\"], overall_chip.std()[\"Fisim\"]), (4,-0.30))\n",
    "\n",
    "\n",
    "ax.annotate(\"FISim correlation median:   %.3f (IQR = %.2f to %.2f)\" % (overall_chip.median()[\"Fisim\"], overall_chip.quantile(.25)[\"Fisim\"], overall_chip.quantile(.75)[\"Fisim\"]), (25,-0.30))\n",
    "\n",
    "#ax.annotate(\"p-value (wilcoxon ranksum test):   %f\" % ranksums(overall['Fisim'],overall['Tomtom'])[1], (5,-0.05))\n",
    "fig = ax.get_figure()\n",
    "\n",
    "#TODO: rethink how the figures will be stored for the paper\n",
    "\n",
    "#fig.savefig('/home/kipkurui/Dropbox/PHD/Documents/NAR_Paper/Working_draft/Figs/fisim_tomtom_chip_tfclass_sorted_dark2.png', bbox_inches='tight')"
   ]
  },
  {
   "cell_type": "markdown",
   "metadata": {},
   "source": [
    "A few observations can be made from this:a) The Low scores are due to Tfs which do not depict direct binding hence using sequence data for assessment do not work. The figure seems to depict that the FISim is better at predicting oin vitro binding (based on mean) than Tomtom. Interestingly also is that the motifs belong to the same TF class (HMG) have negative correlation with the PBM binding. If we assume, consistency based aproach captures the in vivo binding, it so seems then that the motifs have a different binding behaviour in vivo and in vitro. "
   ]
  },
  {
   "cell_type": "code",
   "execution_count": 176,
   "metadata": {
    "collapsed": false
   },
   "outputs": [],
   "source": [
    "# d = pd.DataFrame()\n",
    "# tomtom_mean = pd.DataFrame()\n",
    "# for tf_id in over10_chip:\n",
    "#     results_path = \"/home/kipkurui/Project/Motif_Assessment/PAPER_Assessment_Data/NAR_Paper/FisimTomtom/%s\" % tf_id\n",
    "#     tomtom_sum = pd.read_table(\"%s/%s_tomtom_ic.txt\" % (results_path, tf_id))\n",
    "#     a = tomtom_sum.corr()\n",
    "#     asd = pd.Series([len(tomtom_sum)],index=[\"Number\"]).to_frame(pbmchip2name[tf_id])\n",
    "#     means = tomtom_sum.mean().to_frame(name=pbmchip2name[tf_id])\n",
    "#     means = means.append(asd)\n",
    "#     tomtom_mean = tomtom_mean.append(means.T)\n",
    "#     b = a['Average'].to_frame(name=pbmchip2name[tf_id])\n",
    "#     d = d.append(b.T)\n",
    "# tomtom = d.drop('Average', axis=1)\n",
    "# energy_stat = tomtom_mean\n",
    "# # fig, ax = plt.subplots()\n",
    "# # # the size of A4 paper\n",
    "# # fig.set_size_inches(10, 10)\n",
    "\n",
    "# #sns.heatmap(tomtom, annot=True, ax = ax)\n",
    "\n",
    "\n",
    "\n",
    "# enerrgy_mean = enerrgy_mean[[\"AUC\"]]\n",
    "# tets_this = energy_stat.T.append(enerrgy_mean[[\"AUC\"]].T).T\n",
    "# sns.heatmap(tets_this.corr(),annot=True)"
   ]
  },
  {
   "cell_type": "markdown",
   "metadata": {},
   "source": [
    "<a id='figure5'></a>\n",
    "### Figure 5: Correlating CB-MAR with Energy AUC ranking in PBM data"
   ]
  },
  {
   "cell_type": "code",
   "execution_count": 8,
   "metadata": {
    "collapsed": false
   },
   "outputs": [
    {
     "data": {
      "text/html": [
       "<div>\n",
       "<table border=\"1\" class=\"dataframe\">\n",
       "  <thead>\n",
       "    <tr style=\"text-align: right;\">\n",
       "      <th></th>\n",
       "      <th>Fisim</th>\n",
       "      <th>Tomtom</th>\n",
       "    </tr>\n",
       "  </thead>\n",
       "  <tbody>\n",
       "    <tr>\n",
       "      <th>count</th>\n",
       "      <td>59.000000</td>\n",
       "      <td>59.000000</td>\n",
       "    </tr>\n",
       "    <tr>\n",
       "      <th>mean</th>\n",
       "      <td>0.566404</td>\n",
       "      <td>0.524194</td>\n",
       "    </tr>\n",
       "    <tr>\n",
       "      <th>std</th>\n",
       "      <td>0.420491</td>\n",
       "      <td>0.439368</td>\n",
       "    </tr>\n",
       "    <tr>\n",
       "      <th>min</th>\n",
       "      <td>-0.660472</td>\n",
       "      <td>-0.600541</td>\n",
       "    </tr>\n",
       "    <tr>\n",
       "      <th>25%</th>\n",
       "      <td>0.432131</td>\n",
       "      <td>0.253104</td>\n",
       "    </tr>\n",
       "    <tr>\n",
       "      <th>50%</th>\n",
       "      <td>0.729011</td>\n",
       "      <td>0.739083</td>\n",
       "    </tr>\n",
       "    <tr>\n",
       "      <th>75%</th>\n",
       "      <td>0.843067</td>\n",
       "      <td>0.832422</td>\n",
       "    </tr>\n",
       "    <tr>\n",
       "      <th>max</th>\n",
       "      <td>0.960362</td>\n",
       "      <td>0.952384</td>\n",
       "    </tr>\n",
       "  </tbody>\n",
       "</table>\n",
       "</div>"
      ],
      "text/plain": [
       "           Fisim     Tomtom\n",
       "count  59.000000  59.000000\n",
       "mean    0.566404   0.524194\n",
       "std     0.420491   0.439368\n",
       "min    -0.660472  -0.600541\n",
       "25%     0.432131   0.253104\n",
       "50%     0.729011   0.739083\n",
       "75%     0.843067   0.832422\n",
       "max     0.960362   0.952384"
      ]
     },
     "execution_count": 8,
     "metadata": {},
     "output_type": "execute_result"
    }
   ],
   "source": [
    "here = pd.DataFrame()\n",
    "enerrgy_mean = pd.DataFrame()\n",
    "pbm_energy = pd.DataFrame()\n",
    "tomtom_mean = pd.DataFrame()\n",
    "fisim_mean = pd.DataFrame()\n",
    "stat = \"AUC\"\n",
    "\n",
    "for tf_id in over10_pbm:\n",
    "    #tf_name = pbmchip2name[tf_id]\n",
    "    tf_name = tf_id\n",
    "    #energy_chip = pd.read_table(\"/home/kipkurui/Project/Motif_Assessment/PAPER_Assessment_Data/NAR_Paper/ChIP-seq/Results/%s/%s.energy\" % (tf_id,tf_id), index_col=\"Motif\")\n",
    "    energy = pd.read_table(\"/home/kipkurui/Project/Motif_Assessment/PAPER_Assessment_Data/NAR_Paper/PBM/Results/%s/%s.energy\" % (tf_id, tf_id), index_col=\"Motif\")\n",
    "    a = energy[[stat]]\n",
    "    e_mean = energy.mean().to_frame(name=tf_name)\n",
    "    enerrgy_mean = enerrgy_mean.append(e_mean.T)\n",
    "    \n",
    "    \n",
    "    results_path = \"/home/kipkurui/Project/Motif_Assessment/PAPER_Assessment_Data/NAR_Paper/FisimTomtom/%s\" % tf_id\n",
    "    tomtom_sum = pd.read_table(\"%s/%s_fisim_ic.txt\" % (results_path, tf_id),index_col=\"Motif_name\")\n",
    "\n",
    "    tomtom_sum.index.names = [\"Motif\"]\n",
    "\n",
    "    b = tomtom_sum[\"Average\"].to_frame(name=\"Fisim\")\n",
    "\n",
    "    fisim_mean = fisim_mean.append(b.mean().to_frame(name=tf_name).T)\n",
    "\n",
    "\n",
    "    # #results_path = \"/home/kipkurui/Project/Motif_Assessment/PAPER_Assessment_Data/NAR_Paper/FisimTomtom/%s\" % tf_id\n",
    "    tomtom_sum = pd.read_table(\"%s/%s_tomtom_ic.txt\" % (results_path, tf_id), index_col=\"Motif_name\")\n",
    "    tomtom_sum.index.names = [\"Motif\"]\n",
    "    c = tomtom_sum[\"Average\"].to_frame(name=\"Tomtom\")\n",
    "    \n",
    "    tomtom_mean = tomtom_mean.append(c.mean().to_frame(name=tf_name).T)\n",
    "\n",
    "    d =a.T.append(b.T)\n",
    "\n",
    "    total_cor = d.append(c.T).T.corr(method='pearson')\n",
    "    #here = total_cor[stat].to_frame(name=pbmchip2name[tf_id])\n",
    "    there = total_cor[stat].to_frame(name=tf_name)\n",
    "    here = here.T.append(there.T).T\n",
    "\n",
    "overall_pbm = here.T.drop(stat, axis=1)\n",
    "\n",
    "overall_pbm = overall_pbm.sort_values(\"Fisim\", ascending=False)\n",
    "\n",
    "overall_pbm.describe()"
   ]
  },
  {
   "cell_type": "code",
   "execution_count": 9,
   "metadata": {
    "collapsed": true
   },
   "outputs": [],
   "source": [
    "#Uncomment below to get the figure legends\n",
    "overall_pbm.sort_values(by=\"Fisim\",ascending=False, inplace=True)\n",
    "pbm_labels = []\n",
    "new_index = []\n",
    "for tf_id in overall_pbm.index:\n",
    "    pbm_labels.append(tf_classdisct[tf_id[:3]])\n",
    "    new_index.append(pbmchip2name[tf_id])\n",
    "overall_pbm.index = new_index"
   ]
  },
  {
   "cell_type": "code",
   "execution_count": 74,
   "metadata": {
    "collapsed": false
   },
   "outputs": [
    {
     "data": {
      "image/png": "[encoded data removed]",
      "text/plain": [
       "<matplotlib.figure.Figure at 0x7f9d7c1ad2d0>"
      ]
     },
     "metadata": {},
     "output_type": "display_data"
    }
   ],
   "source": [
    "sns.set(style=\"ticks\")\n",
    "\n",
    "ax = overall_pbm.plot(kind=\"bar\", figsize=(16,6), fontsize=12, cmap='Dark2') #cmap='Greys_r'\n",
    "\n",
    "#Add a new x-axis on top of the figure\n",
    "ax1 = ax.twiny()\n",
    "\n",
    "#ax1.set_xlim(ax1.get_xlim())\n",
    "\n",
    "ax1.set_xticks(np.array(range(1,len(overall_pbm)+1))-0.75, minor=False)\n",
    "\n",
    "ax1.set_xticklabels(pbm_labels, rotation= 'vertical')\n",
    "\n",
    "ax1.set_xlabel(\"Transcription factor class\")\n",
    "\n",
    "\n",
    "ax.set_xlabel(\"Transcription factors\")\n",
    "ax.set_ylabel(\"AUC-Comparison correlation scores\")\n",
    "\n",
    "\n",
    "ax.set_axis_on()\n",
    "\n",
    "\n",
    "# ax.annotate(\"Tomtom correlation mean: %f\" % overall_pbm.mean()[\"Tomtom\"], (5,-0.20))\n",
    "# ax.annotate(\"Tomtom correlation median: %f\" % overall_pbm.median()[\"Tomtom\"], (25,-0.20))\n",
    "\n",
    "# ax.annotate(\"FISim correlation mean:   %f\" % overall_pbm.mean()[\"Fisim\"], (5,-0.30))\n",
    "\n",
    "# ax.annotate(\"FISim correlation median:   %f\" % overall_pbm.median()[\"Fisim\"], (25,-0.30))\n",
    "\n",
    "ax.annotate(\"Tomtom correlation mean: %.3f$\\pm$%.2f\" % (overall_pbm.mean()[\"Tomtom\"], overall_pbm.std()[\"Tomtom\"]), (5,-0.20))\n",
    "ax.annotate(\"Tomtom correlation median: %.3f (IQR = %.2f to %.2f)\" % (overall_pbm.median()[\"Tomtom\"], overall_pbm.quantile(.25)[\"Tomtom\"], overall_pbm.quantile(.75)[\"Tomtom\"]), (20,-0.20))\n",
    "\n",
    "ax.annotate(\"FISim correlation mean:   %.3f$\\pm$%.2f\" % (overall_pbm.mean()[\"Fisim\"], overall_chip.std()[\"Fisim\"]), (5,-0.30))\n",
    "\n",
    "\n",
    "ax.annotate(\"FISim correlation median:   %.3f (IQR = %.2f to %.2f)\" % (overall_pbm.median()[\"Fisim\"], overall_pbm.quantile(.25)[\"Fisim\"], overall_pbm.quantile(.75)[\"Fisim\"]), (20,-0.30))\n",
    "\n",
    "\n",
    "fig = ax.get_figure()\n",
    "\n",
    "fig.savefig('/home/kipkurui/Dropbox/PHD/Documents/NAR_Paper/Working_draft/Figs/fisim_tomtom_pbm_corr_tfclass_dark2.png', bbox_inches='tight')"
   ]
  },
  {
   "cell_type": "markdown",
   "metadata": {},
   "source": [
    "The median scores show that FISm and Tomtom do not differe as much in correlation with PBM energy scores. Also, this performance is lower as compared with that of ChIP-seq data, showing that Consistency-based approach better reproduces *in vivo* binding behaviour compared  with *in vitro* binding. Reporting the Median should be accompanied by the interquartile range of the data. Mdn = 0.72 (IQR = 0.2-0.84)"
   ]
  },
  {
   "cell_type": "markdown",
   "metadata": {},
   "source": [
    "<a id='figure6'></a>\n",
    "###  Figure 6: PBM ChIP-seq Energy AUC scores corelation"
   ]
  },
  {
   "cell_type": "code",
   "execution_count": 13,
   "metadata": {
    "collapsed": true
   },
   "outputs": [],
   "source": [
    "in_both = []\n",
    "for tf in over10_pbm:\n",
    "    if tf in over10_chip:\n",
    "        in_both.append(tf)"
   ]
  },
  {
   "cell_type": "code",
   "execution_count": 14,
   "metadata": {
    "collapsed": false
   },
   "outputs": [],
   "source": [
    "pbm_chip_corr = pd.DataFrame()\n",
    "stat = \"AUC\"\n",
    "\n",
    "for tf_id in in_both:\n",
    "    #tf_class.append(tf_classdisct[tf_id[:3]])\n",
    "    #tf_name = pbmchip2name[tf_id]\n",
    "    tf_name = tf_id\n",
    "    energy_chip = pd.read_table(\"../ChIP-seq/Results/%s/%s.energy\" % (tf_id,tf_id), index_col=\"Motif\")\n",
    "    \n",
    "    energy = pd.read_table(\"../PBM/Results/%s/%s.energy\" % (tf_id, tf_id), index_col=\"Motif\")\n",
    "    \n",
    "    a = energy[[stat]]\n",
    "    chip_e = energy_chip[[stat]]\n",
    "    \n",
    "    \n",
    "    d = chip_e.corrwith(a)\n",
    "    d = d.to_frame(name=tf_name)\n",
    "    \n",
    "    pbm_chip_corr = pbm_chip_corr.append(d.T)"
   ]
  },
  {
   "cell_type": "code",
   "execution_count": 15,
   "metadata": {
    "collapsed": false
   },
   "outputs": [],
   "source": [
    "\n",
    "pbm_chip_corr.sort_values(by=\"AUC\", inplace=True, ascending=False)\n",
    "\n",
    "pbm_chip_labels = []\n",
    "new_index = []\n",
    "\n",
    "for tf_id in pbm_chip_corr.index:\n",
    "    pbm_chip_labels.append(tf_classdisct[tf_id[:3]])\n",
    "    new_index.append(pbmchip2name[tf_id])\n",
    "pbm_chip_corr.index = new_index\n"
   ]
  },
  {
   "cell_type": "code",
   "execution_count": 16,
   "metadata": {
    "collapsed": false
   },
   "outputs": [
    {
     "data": {
      "text/plain": [
       "<matplotlib.figure.Figure at 0x7f9d80616490>"
      ]
     },
     "metadata": {},
     "output_type": "display_data"
    },
    {
     "data": {
      "image/png": "[encoded data removed]",
      "text/plain": [
       "<matplotlib.figure.Figure at 0x7f9d76de0050>"
      ]
     },
     "metadata": {},
     "output_type": "display_data"
    }
   ],
   "source": [
    "#May need to find a way of ensuring the figures are of an approriate size for ease in plotting. \n",
    "#pbm_chip_corr.sort_values(by=\"AUC\", inplace=True, ascending=False)\n",
    "sns.set_context(\"paper\")\n",
    "plt.figure(figsize=(8, 6))\n",
    "sns.set(style=\"ticks\")\n",
    "ax = pbm_chip_corr.plot(kind=\"bar\", cmap='Greys_r', fontsize=12)\n",
    "ax.set_xlabel(\"Transcription factors\")\n",
    "ax.set_ylabel(\"PBM vs ChIP-seq AUC correlation scores\")\n",
    "\n",
    "#Uncomment below to add x-axis on top\n",
    "ax1 = ax.twiny()\n",
    "\n",
    "#ax1.set_xlim(ax1.get_xlim())\n",
    "\n",
    "ax1.set_xticks(np.array(range(1, len(pbm_chip_corr)+1))-0.75, minor=False)\n",
    "\n",
    "ax1.set_xticklabels(pbm_chip_labels, rotation= 'vertical')\n",
    "\n",
    "ax1.set_xlabel(\"Transcription factor class\")\n",
    "\n",
    "#sns.despine()\n",
    "plt.savefig('/home/kipkurui/Dropbox/PHD/Documents/NAR_Paper/Working_draft/Figs/pbm_chip_correlation-ticks-black-tf_class.pdf', bbox_inches='tight')\n"
   ]
  },
  {
   "cell_type": "markdown",
   "metadata": {},
   "source": [
    "We can see the same observation here as well. The ranks and scores of motifs that do not bind directly, or have a different binding behaviour in vitro, will generally not agree. Since they do not have a binding site, sequence based assessment, or any assessment for that matter, will not agree with any other."
   ]
  },
  {
   "cell_type": "markdown",
   "metadata": {},
   "source": [
    "## Histogram and Scatter plot\n",
    "\n",
    "The figure demonstrates the skew in the data and the reason why using mean would not be appropriate, but rather that we need to use Median score. Using Median, retains our analsysis that our approach is greatly coorrelated with the scores assigned by Energy score"
   ]
  },
  {
   "cell_type": "code",
   "execution_count": 17,
   "metadata": {
    "collapsed": false
   },
   "outputs": [
    {
     "data": {
      "image/png": "[encoded data removed]",
      "text/plain": [
       "<matplotlib.figure.Figure at 0x7f9d80967e90>"
      ]
     },
     "metadata": {},
     "output_type": "display_data"
    }
   ],
   "source": [
    "sns.set(style=\"ticks\")\n",
    "#sns.set_cmap(cmap='Greys_r')\n",
    "\n",
    "sns.jointplot(x=\"Tomtom\", y=\"Fisim\", data=overall_pbm)\n",
    "plt.set_cmap('Greys_r')\n",
    "plt.savefig('/home/kipkurui/Dropbox/PHD/Documents/Phd_Thesis/Chapter4/Figs/fisim_tomtom-jointplot-pbm.pdf', bbox_inches='tight')\n"
   ]
  },
  {
   "cell_type": "code",
   "execution_count": 18,
   "metadata": {
    "collapsed": false
   },
   "outputs": [
    {
     "data": {
      "image/png": "[encoded data removed]",
      "text/plain": [
       "<matplotlib.figure.Figure at 0x7f9d76a4ffd0>"
      ]
     },
     "metadata": {},
     "output_type": "display_data"
    }
   ],
   "source": [
    "sns.set(style=\"ticks\")\n",
    "sns.jointplot(x=\"Tomtom\", y=\"Fisim\", data=overall_chip)\n",
    "plt.savefig('/home/kipkurui/Dropbox/PHD/Documents/Phd_Thesis/Chapter4/Figs/fisim_tomtom-jointplot-chip.png', bbox_inches='tight')"
   ]
  },
  {
   "cell_type": "markdown",
   "metadata": {},
   "source": [
    "It is clear that the correlation of the Tfs is greatly skewed by the bottom 10 motifs. "
   ]
  },
  {
   "cell_type": "markdown",
   "metadata": {
    "collapsed": true
   },
   "source": [
    "<a id='gimme_roc'></a>\n",
    "## Run Gimme Roc Analsysis\n",
    "\n",
    "We may have to transfer all these into their own module and just import it here for clarity and independence of the tool"
   ]
  },
  {
   "cell_type": "code",
   "execution_count": 19,
   "metadata": {
    "collapsed": true
   },
   "outputs": [],
   "source": [
    "def tab2fasta(posneg, fasta, background):\n",
    "    \"\"\"\n",
    "    Convert the posneg format into fasta needed by gimme motifs\n",
    "    \"\"\"\n",
    "    i = 0\n",
    "    #print fasta\n",
    "    with open(posneg) as tab:\n",
    "        with open(fasta, 'w') as fa:\n",
    "            with open(background, 'w') as bg:\n",
    "                for line in tab:\n",
    "                    details = line.split()\n",
    "                    if len(details) == 2:\n",
    "                        pos = 1\n",
    "                    else:\n",
    "                        pos = 2\n",
    "                    if i < 500:\n",
    "                        fa.write(\">\"+line.split()[0]+'\\n'+line.split()[pos]+\"\\n\")\n",
    "                    else:\n",
    "                        bg.write(\">\"+line.split()[0]+'\\n'+line.split()[pos]+\"\\n\")\n",
    "                    i += 1\n",
    "\n",
    "def meme2gimme(meme, gimme):\n",
    "    \"\"\"\n",
    "    Convert the motifs in meme format to gimme format\n",
    "    \"\"\"\n",
    "    with open(meme) as motif:\n",
    "        with open(gimme, 'w') as gmotif:\n",
    "            for line in motif:\n",
    "                if line.startswith(\"MOTIF\"):\n",
    "                    if len(line.split(\" \")) > 2:\n",
    "                        gmotif.write(\">\"+line.split(\" \")[1]+\"\\n\")\n",
    "                    else:\n",
    "                        gmotif.write(\">\"+line.split(\" \")[1])\n",
    "                elif line.startswith('letter-probability'):\n",
    "                    continue\n",
    "                elif line.startswith('  '):\n",
    "                    a = line.split()\n",
    "                    if len(a)>0:\n",
    "                        gmotif.write(a[0]+'\\t'+a[1]+'\\t'+a[2]+'\\t'+a[3]+'\\n')\n",
    "                    else:\n",
    "                        continue\n",
    "                elif line.startswith(\"\\n\"):\n",
    "                    continue\n",
    "                else:\n",
    "                    continue\n",
    "\n",
    "def run_gimme(tf_id, meme_path, chip_seq_list, results_path):\n",
    "    \"\"\"\n",
    "    Run complete analysis from extracting the right sequneces \n",
    "    to computing roc metrics\n",
    "    \"\"\"\n",
    "    import os\n",
    "    import glob\n",
    "    #mkdir_p(results_path)\n",
    "    if os.path.isdir(results_path):\n",
    "        pass\n",
    "    else:\n",
    "        os.makedirs(results_path)\n",
    "    \n",
    "    #run_all(tf_id,'energyscore',meme_path,chip_seq_list,results_path)\n",
    "    #files_path = '%s/%s' % (results_path, tf_id)\n",
    "    pwm = '%s/%s.pwm' % (results_path, tf_id)\n",
    "    meme2gimme(meme_path, pwm)\n",
    "    \n",
    "    for chip_seq in chip_seq_list:\n",
    "        file_name = chip_seq.split('/')[-1].split('.')[0]\n",
    "        \n",
    "        Tf_path = '%s/%s' % (results_path, file_name)\n",
    "        \n",
    "        tab2fasta(chip_seq, \"%s.fa\" % Tf_path, '%s.bg' % Tf_path)\n",
    "    \n",
    "        \n",
    "        !gimme roc {pwm} {Tf_path}.fa {Tf_path}.bg >>{results_path}/{tf_id}_gimme_metrics.txt\n",
    "        \n",
    "        #os.system(\"gimme roc %s/%s.pwm %s/%s.fa %s/%s.bg >>%s/%s_gimme_metrics.txt\" %\n",
    "#                   #(files_path, tf, files_path, file_name, files_path, file_name, files_path, tf))\n",
    "    for i in glob.glob('%s/*.bg' % results_path):\n",
    "        os.remove(i)\n",
    "    for i in glob.glob('%s/*.fa' % results_path):\n",
    "        os.remove(i)\n",
    "\n",
    "def clean_gimme(gimme_in, gimme_out):\n",
    "    \"\"\"\n",
    "    Function that cleans the GIMME output for the purpose of plotting the data\n",
    "    \"\"\"\n",
    "    with open(gimme_in) as gim:\n",
    "        with open(gimme_out, 'w') as outs:\n",
    "            outs.write(\"Motif\tROC AUC\tMNCP\tMax f-measure\tSens @ max f-measure\\n\")\n",
    "            for line in gim:\n",
    "                if line.startswith(\"Motif\"):\n",
    "                    continue\n",
    "                else:\n",
    "                    outs.write(line)"
   ]
  },
  {
   "cell_type": "markdown",
   "metadata": {},
   "source": [
    "#### Again we demonstrate this using Jun\n",
    "\n",
    "Data is located in the Example folde"
   ]
  },
  {
   "cell_type": "code",
   "execution_count": 194,
   "metadata": {
    "collapsed": false
   },
   "outputs": [],
   "source": [
    "import glob\n",
    "tf_id = \"Jun\"\n",
    "meme_path = \"./Example_data/Jun.meme\"\n",
    "posneg_path = \"./Example_data\"\n",
    "\n",
    "# Get a list of posneg formatted ChIP-seq data\n",
    "chip_seq_list = glob.glob('./Example_data/%s/*' % tf_id)\n",
    "results_path = \"./Example_data/%s_GimmeRoc\" % tf_id\n",
    "\n",
    "#Compute roc metrics using available data\n",
    "run_gimme(tf_id, meme_path, chip_seq_list, results_path)\n",
    "\n",
    "\n",
    "gimme_in = \"%s/%s_gimme_metrics.txt\" % (results_path, tf_id)\n",
    "gimme_out = \"%s/%s.gimme\" % (results_path, tf_id)\n",
    "\n",
    "#Clean the gimme roc output\n",
    "clean_gimme(gimme_in, gimme_out)\n",
    "\n",
    "gimme = pd.read_table(gimme_out)\n",
    "\n",
    "new_gimme = pd.pivot_table(gimme, index=['Motif'])\n",
    "\n",
    "new_gimme = new_gimme.sort_values(by=\"ROC AUC\", axis=0, ascending=False)\n",
    "labels = new_gimme.index\n",
    "new_gimme.to_csv(gimme_out,sep=\"\\t\")"
   ]
  },
  {
   "cell_type": "markdown",
   "metadata": {},
   "source": [
    "#### First we remove the TFs that did not have approapriate test data\""
   ]
  },
  {
   "cell_type": "code",
   "execution_count": 20,
   "metadata": {
    "collapsed": false
   },
   "outputs": [],
   "source": [
    "for tf_id in ('2.3.3.0.6', '4.1.6.1.1'):\n",
    "    chipseq.remove(tf_id)"
   ]
  },
  {
   "cell_type": "markdown",
   "metadata": {},
   "source": [
    "#### Finally, we can run complete *gimme roc*  for all the ChIP-seq data available"
   ]
  },
  {
   "cell_type": "code",
   "execution_count": 21,
   "metadata": {
    "collapsed": false
   },
   "outputs": [],
   "source": [
    "import pandas as pd\n",
    "import glob\n",
    "for tf_id in chipseq:\n",
    "    results_path = \"../GimmeRoc/%s\" % tf_id\n",
    "    if tf_id == \"Tf_id\":\n",
    "        continue\n",
    "    elif os.path.isdir(results_path):\n",
    "        continue\n",
    "    else:\n",
    "        \n",
    "        run_gimme(tf_id, meme_path, chip_seq_list, results_path)\n",
    "        gimme_in = \"%s/%s_gimme_metrics.txt\" % (results_path, tf_id)\n",
    "        gimme_out = \"%s/%s.gimme\" % (results_path, tf_id)\n",
    "\n",
    "        clean_gimme(gimme_in, gimme_out)\n",
    "\n",
    "        gimme = pd.read_table(gimme_out)\n",
    "        \n",
    "        new_gimme = pd.pivot_table(gimme, index=['Motif'])\n",
    "        \n",
    "        new_gimme = new_gimme.sort_values(by=\"ROC AUC\", axis=0, ascending=False)\n",
    "        labels = new_gimme.index\n",
    "        new_gimme.to_csv(gimme_out,sep=\"\\t\")\n",
    "\n"
   ]
  },
  {
   "cell_type": "markdown",
   "metadata": {},
   "source": [
    "#### Combine Gimme and Energy data for plotting"
   ]
  },
  {
   "cell_type": "code",
   "execution_count": 22,
   "metadata": {
    "collapsed": true
   },
   "outputs": [],
   "source": [
    "gimme_ennergy_frame=pd.DataFrame()\n",
    "for tf_id in chipseq:\n",
    "    results_path =\"/home/kipkurui/Project/Motif_Assessment/PAPER_Assessment_Data/NAR_Paper/GimmeRoc/%s\" % tf_id\n",
    "    energy = pd.read_table(\"/home/kipkurui/Project/Motif_Assessment/PAPER_Assessment_Data/NAR_Paper/ChIP-seq/Results/%s/%s.energy\" % (tf_id,tf_id), index_col=\"Motif\")\n",
    "    \n",
    "    auc_raw = energy.sort_index()\n",
    "    \n",
    "    tests = pd.read_table(\"%s/%s.gimme\" % (results_path,tf_id), index_col=\"Motif\")\n",
    "    b = tests.sort_index()\n",
    "    if len(auc_raw) == len(b):\n",
    "        added = auc_raw.T.append(b.T).T\n",
    "        gimme_energy = added[['AUC','ROC AUC']]\n",
    "        a = gimme_energy.mean().to_frame(name=pbmchip2name[tf_id])\n",
    "        gimme_ennergy_frame = gimme_ennergy_frame.append(a.T)\n",
    "\n",
    "gimme_ennergy_frame.columns = [\"Energy Scoring\", 'Gimme roc']  "
   ]
  },
  {
   "cell_type": "code",
   "execution_count": null,
   "metadata": {
    "collapsed": true
   },
   "outputs": [],
   "source": [
    "st"
   ]
  },
  {
   "cell_type": "markdown",
   "metadata": {},
   "source": [
    "<a id='figure7'></a>\n",
    "### Figure 7: Joint scatter plot and histogram for gimme roc and Energy scoring Correlation scores"
   ]
  },
  {
   "cell_type": "code",
   "execution_count": 27,
   "metadata": {
    "collapsed": false
   },
   "outputs": [
    {
     "data": {
      "image/png": "[encoded data removed]",
      "text/plain": [
       "<matplotlib.figure.Figure at 0x7f9d76acbc10>"
      ]
     },
     "metadata": {},
     "output_type": "display_data"
    }
   ],
   "source": [
    "sp = stats.spearmanr(gimme_ennergy_frame[\"Energy Scoring\"],gimme_ennergy_frame['Gimme roc'])[0]\n",
    "pv = stats.spearmanr(gimme_ennergy_frame[\"Energy Scoring\"],gimme_ennergy_frame['Gimme roc'])[1]\n",
    "\n",
    "p = sns.jointplot(x=\"Energy Scoring\", y=\"Gimme roc\", data=gimme_ennergy_frame)\n",
    "sns.set_context(\"notebook\")\n",
    "#Annotate Spearmans correlation details into the figure\n",
    "p.fig.text(0.5, 0.75, \"spearmanr = %.3f; p = %.1e\"%(sp,pv), ha ='left', fontsize = 10)\n",
    "plt.savefig('/home/kipkurui/Dropbox/PHD/Documents/NAR_Paper/Working_draft/Figs/Gimme_energy-jointplot.pdf', bbox_inches='tight')"
   ]
  },
  {
   "cell_type": "markdown",
   "metadata": {},
   "source": [
    "#### Doing the above in the least number of lines\n",
    "\n",
    "I will jsut need to find the best way to use this: df.reindex(np.random.permutation(df.index)) to shuffle the bed files and then at the same processing step also extrat the negative sequences that will be used for the validation step. The idea is to run the get bed, return a bed data frame and use that to combine all the data frames for a given TF, shuffle them up and finally extract the respective sequences using pybedtools. This idea should be able to combine all the data prpcessing steps quickly. The only tricky step is to be able to gte negative sequences without repeats.\n",
    "\n",
    "The solution for this is to get all the positive and negatoive data, especially specific to the test question. Remember, it really doesn't matter is teh negative sequence do not match with positive in terms of position, as long as they are in regions not known tpo contain binding sites. \n",
    "\n",
    "That way, we can only retain data that is necessary for teh analsysis. Having too much unused data is just a waste of memory"
   ]
  },
  {
   "cell_type": "markdown",
   "metadata": {
    "collapsed": true
   },
   "source": [
    "<a id='discover_meme'></a>\n",
    "### Motif discovery with GIMME\n",
    "\n",
    "We use this to test the utility of consistency based motif assessment, especially using Tomtom in motif discovery. The steps are as follows:\n",
    "1. Perform motif discovery using gimme motifs and keep intermediate data (Use 50%)\n",
    "2. Use Tomtom and motif clustering to get the best three motifs from motif discovery\n",
    "3. Compare the perofmance of teh motufs identified purely buy gimme versus those based on tomtom\n",
    "4. Report"
   ]
  },
  {
   "cell_type": "markdown",
   "metadata": {},
   "source": [
    "#### 1. Data processing\n",
    "\n",
    "For a given TF, we querried the database for the raw chiP-seq peaks, but for demonsration purpose we just use a single peak file located in teh Example folder. Remeber, some Tfs will have upto 50 peak files. "
   ]
  },
  {
   "cell_type": "code",
   "execution_count": 68,
   "metadata": {
    "collapsed": true
   },
   "outputs": [],
   "source": [
    "def get_bed_from_peaks(peak, width, downstream_distance):\n",
    "    \"\"\"\n",
    "    Given a bed file, extract the fasta in tab format and eliminate the masked sequences,\n",
    "    and extract the negative version of the file\n",
    "    \n",
    "    \"\"\"\n",
    "    #Read the narrow peak file into a pandas DataFrame\n",
    "    \n",
    "    peak_file = pd.read_table(peak, header=None)[[0,1,2]]\n",
    "    \n",
    "    #Lets widden the coordinates to 100bp centered around the center\n",
    "    mid = (peak_file[2] + peak_file[1])/2\n",
    "    peak_file[1] = (mid - width/2+0.5).apply(int)\n",
    "    peak_file[2]  = (mid + width/2+0.5).apply(int)\n",
    "    \n",
    "    #Extract the negative set located 500bp downstream\n",
    "    neg_bed = peak_file.copy(deep=True)\n",
    "    \n",
    "    neg_bed[1] = neg_bed[1]+downstream_distance\n",
    "    neg_bed[2] = neg_bed[2]+downstream_distance\n",
    "    \n",
    "    # Eliminate repeat masked regions from the bed file\n",
    "    peak_file = remove_repeats(peak_file) #.to_csv(pos_bed_out, index=None, header=None, sep=\"\\t\")\n",
    "    neg_bed = remove_repeats(neg_bed) #.to_csv(neg_bed_out, index=None, header=None, sep=\"\\t\")\n",
    "    \n",
    "    #hg = \"/home/kipkurui/Project/MAT_server/Data/hg19.fa\"\n",
    "    return peak_file, neg_bed\n",
    "    #pybedtools.BedTool.from_dataframe(peak_file).sequence(fi=hg,).save_seqs(negfa_out)"
   ]
  },
  {
   "cell_type": "code",
   "execution_count": 53,
   "metadata": {
    "collapsed": false
   },
   "outputs": [],
   "source": [
    "import glob\n",
    "jun_peaks = glob.glob(\"./Example_data/Raw_chip/Jun/*\")\n",
    "\n",
    "pos_bed_cum = pd.DataFrame()\n",
    "neg_bed_cum = pd.DataFrame()\n",
    "for peak in jun_peaks:\n",
    "    width = 100\n",
    "    downstream_distance = 500\n",
    "    \n",
    "    bed_df = get_bed_from_peaks(peak, width, downstream_distance)\n",
    "    \n",
    "    pos_bed_cum = pos_bed_cum.append(bed_df[0], ignore_index=True)\n",
    "    neg_bed_cum = neg_bed_cum.append(bed_df[1], ignore_index=True)"
   ]
  },
  {
   "cell_type": "code",
   "execution_count": 67,
   "metadata": {
    "collapsed": false
   },
   "outputs": [
    {
     "data": {
      "text/plain": [
       "<BedTool(/tmp/pybedtools.bLD_pn.tmp)>"
      ]
     },
     "execution_count": 67,
     "metadata": {},
     "output_type": "execute_result"
    }
   ],
   "source": [
    "discover_out = \"./Example_data/Jun_discover.fa\"\n",
    "test_pos_out = \"./Example_data/Jun_test_pos.fa\"\n",
    "test_neg_out = \"./Example_data/Jun_test_neg.fa\"\n",
    "\n",
    "randomized_pos = pos_bed_cum.reindex(np.random.permutation(pos_bed_cum.index))\n",
    "\n",
    "discover = randomized_pos.head(len(pos_bed_cum)*4/5)\n",
    "\n",
    "test_pos = randomized_pos.tail(len(pos_bed_cum)/5)\n",
    "\n",
    "#for negative, we just sample a subset similar to the test positive set\n",
    "test_neg = neg_bed_cum.sample(len(pos_bed_cum)/5)\n",
    "\n",
    "hg = \"/home/kipkurui/Project/MAT_server/Data/hg19.fa\"\n",
    "#Then for each of the sets, lets get the fasta sequences\n",
    "pybedtools.BedTool.from_dataframe(discover).sequence(fi=hg,).save_seqs(discover_out)\n",
    "\n",
    "pybedtools.BedTool.from_dataframe(test_pos).sequence(fi=hg,).save_seqs(test_pos_out)\n",
    "\n",
    "pybedtools.BedTool.from_dataframe(test_neg).sequence(fi=hg,).save_seqs(test_neg_out)"
   ]
  },
  {
   "cell_type": "markdown",
   "metadata": {},
   "source": [
    "#### 2. Run Gimme motif discovery\n",
    "\n",
    "Using the discover fasta sequences, we can now peroform motif discovery on the sequences. Using shuffled sequences ensures that we generate a generalized model. \n",
    "\n",
    "Gimme internally perfoms m"
   ]
  },
  {
   "cell_type": "code",
   "execution_count": 69,
   "metadata": {
    "collapsed": false
   },
   "outputs": [],
   "source": [
    "for tf_id in chipseq:\n",
    "    results_path = \"../GimmeMars/%s\" % tf_id\n",
    "    if tf_id == \"Tf_id\":\n",
    "        continue\n",
    "    else:\n",
    "        !gimme motifs {results_path}/{tf_id}_discover.fa -k -t MDmodule,MEME,MotifSampler,trawler,Improbizer,BioProspector,Posmo,ChIPMunk,AMD,HMS,Homer -n {results_path}/{tf_id}_discover\n",
    "    "
   ]
  },
  {
   "cell_type": "markdown",
   "metadata": {},
   "source": [
    "#### 4. Run complete clustering of the motifs discovered by GimmeMotifs\n",
    "\n",
    "In order to us Tomtom ranking, the motifs are first clustred in that, when predicting motifs, the best three located in different clusters can be extracted. This is the first ooption, the other is to just use the fisim clustering, whcihactually takes a shorter time and produces similar results. \n",
    "\n",
    "##### a) Usng gimme cluster"
   ]
  },
  {
   "cell_type": "code",
   "execution_count": 18,
   "metadata": {
    "collapsed": false,
    "scrolled": true
   },
   "outputs": [],
   "source": [
    "for tf_id in chipseq:\n",
    "    results_path = \"../GimmeMars/%s\" % tf_id\n",
    "    if tf_id == \"Tf_id\":\n",
    "        continue\n",
    "    else:\n",
    "        pfm_in = \"%s/%s_discover_all_motifs.pfm\" % (results_path, tf_id)\n",
    "        out_folder = \"%s/%s_discover_cluster\" % (results_path,tf_id)\n",
    "        if os.path.isdir(out_folder):\n",
    "            continue\n",
    "        else:\n",
    "            !gimme cluster {pfm_in} {out_folder}"
   ]
  },
  {
   "cell_type": "markdown",
   "metadata": {},
   "source": [
    "##### b) using kcmeans by FISim\n",
    "\n",
    "This is the shorter and faster way directly clustering the similarity scores from Tomtom\n",
    "\n",
    "NB: I need to chnage the loctation of the scripts and just use a relative path"
   ]
  },
  {
   "cell_type": "code",
   "execution_count": 70,
   "metadata": {
    "collapsed": false,
    "scrolled": true
   },
   "outputs": [],
   "source": [
    "for tf_id in chipseq:\n",
    "    if tf_id == \"Tf_id\":\n",
    "        continue\n",
    "    else:\n",
    "        results_path = \"../GimmeMars/%s\" % tf_id\n",
    "        tomtom_raw = \"%s/%s.tomtom_raw.txt\" % (results_path, tf_id)\n",
    "\n",
    "        !python /home/kipkurui/Project/MAT_server/MARST_Suite/FISIM/kcmeans.py -fileIn {tomtom_raw} -o {results_path}/{tf_id}_cluster.txt -k 20  >\"delete_this\"      "
   ]
  },
  {
   "cell_type": "code",
   "execution_count": null,
   "metadata": {
    "collapsed": true
   },
   "outputs": [],
   "source": []
  },
  {
   "cell_type": "markdown",
   "metadata": {},
   "source": [
    "#### 5. Motif ranking using Tomtom and clustering\n",
    "\n",
    "This is carried out in two stages; first we rank the motifs using pairwise similarity, then we get the best non-redubdant motifs by combining with clustering done above. \n",
    "\n",
    "##### a) Ranking with Tomtom (Consisency-based motif assessment)"
   ]
  },
  {
   "cell_type": "code",
   "execution_count": null,
   "metadata": {
    "collapsed": true
   },
   "outputs": [],
   "source": [
    "for tf_id in chipseq:\n",
    "    if tf_id == \"Tf_id\":\n",
    "        continue\n",
    "    else:\n",
    "        print(tf_id)\n",
    "        results_path = \"../GimmeMars/%s\" % tf_id\n",
    "        pfm_all = \"%s/%s_discover_all_motifs.pfm\" % (results_path, tf_id)\n",
    "        meme_all = \"%s/%s_discover_all_motifs.meme\" % (results_path, tf_id)\n",
    "        tomtom_raw = \"%s/%s.tomtom_raw.txt\" % (results_path, tf_id)\n",
    "        gimmepfm2meme(pfm_all,meme_all)\n",
    "        run_tomtom(tf_id, meme_all,results_path)"
   ]
  },
  {
   "cell_type": "markdown",
   "metadata": {},
   "source": [
    "##### b) Extract the best three motifs based on each of the clustering aproaches for comparison"
   ]
  },
  {
   "cell_type": "code",
   "execution_count": null,
   "metadata": {
    "collapsed": true
   },
   "outputs": [],
   "source": [
    "for tf_id in chipseq:\n",
    "    if tf_id == \"Tf_id\":\n",
    "        continue\n",
    "    else:\n",
    "\n",
    "        results_path = \"../GimmeMars/%s\" % tf_id\n",
    "        tomtom_raw = \"%s/%s.tomtom_raw.txt\" % (results_path, tf_id)\n",
    "        pfm_all = \"%s/%s_discover_all_motifs.pfm\" % (results_path, tf_id)\n",
    "        \n",
    "        mot_list = !cut -f1 {tomtom_raw}\n",
    "        \n",
    "        #get top three from gimme clustering\n",
    "        cluster_key = \"%s/%s_discover_cluster/cluster_key.txt\" % (results_path, tf_id)\n",
    "        prefix = \"gimme_top3\"\n",
    "        discover_three_gimme = get_top_from_gimme(cluster_key, mot_list)\n",
    "        discover_best_gimme = \"%s/%s_discover_best_gimme_top3.pwm\" % (results_path,tf_id)\n",
    "        extract_pfm(pfm_all,discover_best_gimme,discover_three_gimme)\n",
    "            \n",
    "        #get top three from FISim clustering\n",
    "        cluster_key = \"%s/%s_cluster.txt\" % (results_path, tf_id)\n",
    "        prefix = \"fisim_top3\"        \n",
    "        discover_three_fisim = get_top_from_fisim(cluster_key, mot_list)\n",
    "        discover_best_fisim = \"%s/%s_discover_best_fisim_top3.pwm\" % (results_path,tf_id)\n",
    "        extract_pfm(pfm_all,discover_best_fisim,discover_three_fisim)\n",
    "        \n",
    "\n",
    "\n",
    "        \n",
    "        pfm_gimme = '%s/%s_discover_motifs.pwm' % (results_path,tf_id)\n",
    "\n",
    "        #Get the best motifs discovered using a given technique\n",
    "        \n",
    "        gimme_len = !wc -l {results_path}/{tf_id}_discover_motif_report.tsv |cut -f1 -d\" \"\n",
    "        \n",
    "        #First check the number of motifs identified by Gimme\n",
    "        if int(gimme_len[0])-1 <3:\n",
    "            n = int(gimme_len[0])-1\n",
    "            #n=1\n",
    "        else:\n",
    "            n = 3\n",
    "        \n",
    "        # Get a list of the best three motifs in Gimme \n",
    "        gimme_three = ! cut -f1 {results_path}/{tf_id}_discover_motif_report.tsv |head -4 |tail -{n}\n",
    "        \n",
    "        gimme_out = '%s/%s_gimme_best_three.pwm' % (results_path,tf_id)\n",
    "        extract_pfm(pfm_gimme,gimme_out,gimme_three)\n"
   ]
  },
  {
   "cell_type": "markdown",
   "metadata": {},
   "source": [
    "##### c) Then we can compare the perfomance of each of the clusteirng techniques against Gimme motifs. \n",
    "\n",
    "At this stage we use the test or validation partition of the data"
   ]
  },
  {
   "cell_type": "code",
   "execution_count": null,
   "metadata": {
    "collapsed": true
   },
   "outputs": [],
   "source": [
    "for tf_id in chipseq::\n",
    "    results_path = \"../GimmeMars/%s\" % tf_id\n",
    "    for prefix in (\"fisim\", \"gimme\")\n",
    "    \n",
    "        !cat {results_path}/{tf_id}_gimme_best_{prefix}.pwm {results_path}/{tf_id}_discover_best.pwm >{results_path}/{tf_id}_combined_best_{prefix}.pwm\n",
    "\n",
    "        !gimme roc {results_path}/{tf_id}_combined_best_{prefix}.pwm {results_path}/{tf_id}_test.fa {results_path}/{tf_id}_bg.fa >{results_path}/{tf_id}_roc-{prefix}.tcx"
   ]
  },
  {
   "cell_type": "markdown",
   "metadata": {},
   "source": [
    "#### Then try and compare how the two clustering algorithms compare with each other. "
   ]
  },
  {
   "cell_type": "code",
   "execution_count": 18,
   "metadata": {
    "collapsed": false
   },
   "outputs": [],
   "source": [
    "def get_top_from_fisim(cluster_key, yylist, get_no):\n",
    "    with open(cluster_key) as cluster:\n",
    "        all_clusters = cluster.readlines()\n",
    "    mot_lits = []\n",
    "    for mot in yylist:\n",
    "        for i in all_clusters:\n",
    "            new_list = i.split()\n",
    "            if mot in new_list:\n",
    "                mot_lits.append(mot)\n",
    "                all_clusters.remove(i)\n",
    "    discover_three = mot_lits[:get_no]\n",
    "\n",
    "    return discover_three\n",
    "\n",
    "def get_top_from_gimme(cluster_key, yylist):\n",
    "    with open(cluster_key) as cluster:\n",
    "        all_clusters = cluster.readlines()\n",
    "    mot_lits = []\n",
    "    for mot in yylist:\n",
    "        for i in all_clusters:\n",
    "            new_list = i.split()[1].split(',')\n",
    "            if mot in new_list:\n",
    "                mot_lits.append(mot)\n",
    "                all_clusters.remove(i)\n",
    "    discover_three = mot_lits[:get_no]\n",
    "\n",
    "    return discover_three"
   ]
  },
  {
   "cell_type": "markdown",
   "metadata": {},
   "source": [
    "Now we can get the best non-redudant motifs uising Fisim or gimme clustering"
   ]
  },
  {
   "cell_type": "markdown",
   "metadata": {},
   "source": [
    "##### Compare the perfomance of fisim and gimme clustering for motif choice"
   ]
  },
  {
   "cell_type": "code",
   "execution_count": 463,
   "metadata": {
    "collapsed": false
   },
   "outputs": [],
   "source": [
    "#all_scores_fisim = []\n",
    "sizes_gimme = []\n",
    "for tf_id in chipseq:\n",
    "    results_path = \"/home/kipkurui/Project/Motif_Assessment/PAPER_Assessment_Data/NAR_Paper/GimmeMars/%s\" % tf_id\n",
    "    prefix = \"fisim_top3\" \n",
    "    #wc -l {results_path}/{tf_id}_roc-{prefix}.tcx |cut -f1\n",
    "    #cluster_key = \"%s/%s_cluster.txt\" % (results_path, tf_id)\n",
    "    cluster_key = \"%s/%s_discover_cluster/cluster_key.txt\" % (results_path, tf_id)\n",
    "    \n",
    "    a = !wc -l {cluster_key} | cut -f1 -d\" \"\n",
    "    sizes_gimme.append(int(a[0]))\n",
    "    #res = \"%s/%s_roc-%s.tcx\" % (results_path, tf_id, prefix)\n",
    "    #all_scores_fisim.append(pd.read_table(res)['ROC AUC'].mean())"
   ]
  },
  {
   "cell_type": "code",
   "execution_count": 465,
   "metadata": {
    "collapsed": false
   },
   "outputs": [
    {
     "data": {
      "text/plain": [
       "15.881818181818181"
      ]
     },
     "execution_count": 465,
     "metadata": {},
     "output_type": "execute_result"
    }
   ],
   "source": [
    "np.mean(sizes)"
   ]
  },
  {
   "cell_type": "code",
   "execution_count": 450,
   "metadata": {
    "collapsed": false
   },
   "outputs": [
    {
     "data": {
      "text/plain": [
       "0.74337954545454554"
      ]
     },
     "execution_count": 450,
     "metadata": {},
     "output_type": "execute_result"
    }
   ],
   "source": [
    "np.mean(all_scores_fisim)"
   ]
  },
  {
   "cell_type": "code",
   "execution_count": 445,
   "metadata": {
    "collapsed": false
   },
   "outputs": [],
   "source": [
    "all_scores_gimme = []\n",
    "for tf_id in chipseq:\n",
    "    results_path = \"../GimmeMars/%s\" % tf_id\n",
    "    prefix = \"gimme_top3\" \n",
    "    res = \"%s/%s_roc-%s.tcx\" % (results_path, tf_id, prefix)\n",
    "    all_scores_gimme.append(pd.read_table(res)['ROC AUC'].mean())"
   ]
  },
  {
   "cell_type": "code",
   "execution_count": 449,
   "metadata": {
    "collapsed": false
   },
   "outputs": [
    {
     "data": {
      "text/plain": [
       "0.71444621212121218"
      ]
     },
     "execution_count": 449,
     "metadata": {},
     "output_type": "execute_result"
    }
   ],
   "source": [
    "np.mean(all_scores_gimme)"
   ]
  },
  {
   "cell_type": "markdown",
   "metadata": {},
   "source": [
    "This quick and dirty approach actually tells us that the clustering by Fisim, or rather teh cut-off used generates motifs of  ahigher quality. The next question of coz would be, how big are the clusters? Interstingly the cluster sizes are bigger from gimme, meaning that highly similar ones are clustered closely"
   ]
  },
  {
   "cell_type": "code",
   "execution_count": 688,
   "metadata": {
    "collapsed": true
   },
   "outputs": [],
   "source": [
    "for tf_id in Compare_big_diff:\n",
    "    if tf_id == \"Tf_id\":\n",
    "        continue\n",
    "    else:\n",
    "        \n",
    "        results_path = \"/home/kipkurui/Project/Motif_Assessment/PAPER_Assessment_Data/NAR_Paper/GimmeMars/%s\" % tf_id\n",
    "        tomtom_raw = \"%s/%s.tomtom_raw.txt\" % (results_path, tf_id)\n",
    "        cluster_key = \"%s/%s_discover_cluster/cluster_key.txt\" % (results_path, tf_id)\n",
    "        yylist = !cut -f1 {tomtom_raw}\n",
    "        with open(cluster_key) as cluster:\n",
    "            all_clusters = cluster.readlines()\n",
    "        mot_lits = []\n",
    "        for mot in yylist:\n",
    "            for i in all_clusters:\n",
    "                new_list = i.split()[1].split(',')\n",
    "                if mot in new_list:\n",
    "                    mot_lits.append(mot)\n",
    "                    all_clusters.remove(i)\n",
    "        discover_three = mot_lits[:1]\n",
    "        #print(discover_three)\n",
    "        pfm_all = \"%s/%s_discover_all_motifs.pfm\" % (results_path, tf_id)\n",
    "        pfm_gimme = '%s/%s_discover_motifs.pwm' % (results_path,tf_id)\n",
    "\n",
    "        discover_best = \"%s/%s_discover_best.pwm\" % (results_path,tf_id)\n",
    "        extract_pfm(pfm_all,discover_best,discover_three)\n",
    "\n",
    "\n",
    "        gimme_len = !wc -l {results_path}/{tf_id}_discover_motif_report.tsv |cut -f1 -d\" \"\n",
    "\n",
    "        if int(gimme_len[0])-1 <3:\n",
    "            #n = int(gimme_len[0])-1\n",
    "            n=1\n",
    "        else:\n",
    "            n = 1\n",
    "        gimme_three = ! cut -f1 {results_path}/{tf_id}_discover_motif_report.tsv |head -4 |tail -{n}\n",
    "        gimme_out = '%s/%s_gimme_best.pwm' % (results_path,tf_id)\n",
    "        extract_pfm(pfm_gimme,gimme_out,gimme_three)\n",
    "\n",
    "        !cat {results_path}/{tf_id}_gimme_best.pwm {results_path}/{tf_id}_discover_best.pwm >{results_path}/{tf_id}_combined_best.pwm\n",
    "\n",
    "        #print(chipid2name[tf_id])\n",
    "\n",
    "        !gimme roc {results_path}/{tf_id}_combined_best.pwm {results_path}/{tf_id}_test.fa {results_path}/{tf_id}_bg.fa >{results_path}/{tf_id}_roc-third.tcx"
   ]
  },
  {
   "cell_type": "markdown",
   "metadata": {},
   "source": [
    "##### d) Prepare the Gimme and Tomtom motifs for plotting. \n",
    "\n",
    "The intention here is to compare the best motifs generated using Tomtom and those generated using Gimmes own ranking system. For comparison we, get the best motif identified by gimme and Tomtom and compare their roc scores on the held pout data "
   ]
  },
  {
   "cell_type": "code",
   "execution_count": 175,
   "metadata": {
    "collapsed": false,
    "scrolled": true
   },
   "outputs": [],
   "source": [
    "all_roc = pd.DataFrame()\n",
    "for tf_id in chipseq:\n",
    "    #print(tf_id,pbmchip2name[tf_id])\n",
    "    results_path = \"../GimmeMars/%s\" % tf_id\n",
    "    roc_code =\"%s/%s_roc.tcx\" % (results_path, tf_id)\n",
    "    roc_data = pd.read_table(roc_code, index_col=\"Motif\")\n",
    "    keep = pd.read_table(roc_code, index_col=\"Motif\")\n",
    "    if 'GimmeMotifs' in keep.index[0]:\n",
    "        g_i = 0\n",
    "        c_i =1\n",
    "    else:\n",
    "        g_i = 1\n",
    "        c_i = 0\n",
    "    c = roc_data['ROC AUC'].to_frame(name=tf_id).T\n",
    "    new_columns = c.columns.values; new_columns[g_i] = 'Gimme'; new_columns[c_i] = 'Compare'; c.columns = new_columns\n",
    "    \n",
    "    all_roc = all_roc.append(c)   \n",
    "Gimme_all_roc = all_roc.sort_values(by=\"Compare\", ascending=True)"
   ]
  },
  {
   "cell_type": "code",
   "execution_count": 1,
   "metadata": {
    "collapsed": false
   },
   "outputs": [
    {
     "ename": "NameError",
     "evalue": "name 'pd' is not defined",
     "output_type": "error",
     "traceback": [
      "\u001b[1;31m---------------------------------------------------------------------------\u001b[0m",
      "\u001b[1;31mNameError\u001b[0m                                 Traceback (most recent call last)",
      "\u001b[1;32m<ipython-input-1-9b890236e32f>\u001b[0m in \u001b[0;36m<module>\u001b[1;34m()\u001b[0m\n\u001b[0;32m      1\u001b[0m \u001b[0mtau_file\u001b[0m \u001b[1;33m=\u001b[0m\u001b[1;34m\"/home/kipkurui/Project/Data/Clean/hg_dn_backround_noise3.txt\"\u001b[0m\u001b[1;33m\u001b[0m\u001b[0m\n\u001b[1;32m----> 2\u001b[1;33m \u001b[0mtau_2\u001b[0m \u001b[1;33m=\u001b[0m \u001b[0mpd\u001b[0m\u001b[1;33m.\u001b[0m\u001b[0mread_table\u001b[0m\u001b[1;33m(\u001b[0m\u001b[0mtau_file\u001b[0m\u001b[1;33m,\u001b[0m \u001b[0mheader\u001b[0m\u001b[1;33m=\u001b[0m\u001b[0mNone\u001b[0m\u001b[1;33m)\u001b[0m\u001b[1;33m\u001b[0m\u001b[0m\n\u001b[0m",
      "\u001b[1;31mNameError\u001b[0m: name 'pd' is not defined"
     ]
    }
   ],
   "source": []
  },
  {
   "cell_type": "markdown",
   "metadata": {},
   "source": [
    "###### Further investigation of the TFs that significantly differeed in perofmance, by 0.1\n",
    "\n",
    "Using this to change the location the position of the chosen motif from the Tomtom values"
   ]
  },
  {
   "cell_type": "code",
   "execution_count": 183,
   "metadata": {
    "collapsed": false
   },
   "outputs": [],
   "source": [
    "Compare_big_diff2 =[]\n",
    "for index, row in Gimme_all_roc.iterrows():\n",
    "    if row.Compare - (row.Gimme) >0.1:\n",
    "        Compare_big_diff2.append(index)"
   ]
  },
  {
   "cell_type": "code",
   "execution_count": 185,
   "metadata": {
    "collapsed": true
   },
   "outputs": [],
   "source": [
    "labels2 = []\n",
    "new_index = []\n",
    "\n",
    "for tf_id in Compare_big_diff2:\n",
    "    labels2.append(tf_classdisct[tf_id[:3]])\n",
    "    #new_index.append(pbmchip2name[tf_id])\n",
    "#pbm_chip_corr.index = new_index"
   ]
  },
  {
   "cell_type": "code",
   "execution_count": 689,
   "metadata": {
    "collapsed": false
   },
   "outputs": [],
   "source": [
    "check_roc = pd.DataFrame()\n",
    "for tf_id in Compare_big_diff:\n",
    "    results_path = \"/home/kipkurui/Project/Motif_Assessment/PAPER_Assessment_Data/NAR_Paper/GimmeMars/%s\" % tf_id\n",
    "    roc_code =\"%s/%s_roc-third.tcx\" % (results_path, tf_id)\n",
    "    roc_data = pd.read_table(roc_code, index_col=\"Motif\")\n",
    "    #print(chipid2name[tf_id], roc_data)\n",
    "    keep = pd.read_table(roc_code, index_col=\"Motif\")\n",
    "    if 'GimmeMotifs' in keep.index[0]:\n",
    "        g_i = 0\n",
    "        c_i =1\n",
    "    else:\n",
    "        g_i = 1\n",
    "        c_i = 0\n",
    "    c = roc_data['ROC AUC'].to_frame(name=pbmchip2name[tf_id]).T\n",
    "    new_columns = c.columns.values; new_columns[g_i] = 'Gimme'; new_columns[c_i] = 'Compare'; c.columns = new_columns\n",
    "    \n",
    "    check_roc = check_roc.append(c)   \n",
    "check_gimme3 = check_roc.sort_values(by=\"Compare\", ascending=True)"
   ]
  },
  {
   "cell_type": "markdown",
   "metadata": {},
   "source": [
    "#### Adjust the colum names "
   ]
  },
  {
   "cell_type": "code",
   "execution_count": 693,
   "metadata": {
    "collapsed": true
   },
   "outputs": [],
   "source": [
    "check_gimme1.columns = [\"Compare\",\"Gimme1\"]\n",
    "check_gimme2.columns = [\"Compare\", \"Gimme2\"]\n",
    "check_gimme3.columns = [\"Compare\",\"Gimme3\" ]"
   ]
  },
  {
   "cell_type": "code",
   "execution_count": 698,
   "metadata": {
    "collapsed": true
   },
   "outputs": [],
   "source": [
    "Gimme_top3 = check_gimme1.reset_index().merge(check_gimme2, how=\"left\").set_index('index')\n",
    "Gimme_top3 = Gimme_top3.reset_index().merge(check_gimme3, how=\"left\").set_index('index')\n",
    "Gimme_top3 = Gimme_top3.sort_values(by=\"Compare\") #This sorting was just doen to ensure teh lgened is properly placed\n",
    "Gimme_top3.index.name = \"Motifs\""
   ]
  },
  {
   "cell_type": "code",
   "execution_count": 700,
   "metadata": {
    "collapsed": false
   },
   "outputs": [],
   "source": [
    "Gimme_top3.to_csv(\"Gimme_top3.txt\", sep=\"\\t\")"
   ]
  },
  {
   "cell_type": "code",
   "execution_count": 187,
   "metadata": {
    "collapsed": true
   },
   "outputs": [],
   "source": [
    "Gimme_top3 = pd.read_table(\"Gimme_top3.txt\", index_col=\"Motifs\")"
   ]
  },
  {
   "cell_type": "code",
   "execution_count": 702,
   "metadata": {
    "collapsed": false
   },
   "outputs": [
    {
     "data": {
      "image/png": "[encoded data removed]",
      "text/plain": [
       "<matplotlib.figure.Figure at 0x7f4bfaaf4350>"
      ]
     },
     "metadata": {},
     "output_type": "display_data"
    }
   ],
   "source": [
    "sns.set(style=\"ticks\")\n",
    "ax = Gimme_top3.plot(kind=\"bar\", fontsize=12, rot=0,cmap='gray')\n",
    "ax.set_xlabel(\"Transcription factors\")\n",
    "ax.set_ylabel(\"AUC values\")\n",
    "sns.despine()\n",
    "plt.savefig('../Figs/Gimme_top3-greys.pdf', bbox_inches='tight')"
   ]
  },
  {
   "cell_type": "code",
   "execution_count": 509,
   "metadata": {
    "collapsed": false
   },
   "outputs": [],
   "source": [
    "all_roc.columns = [\"Compare1\",\"Gimme\"]\n",
    "check_second.columns = [\"Compare2\", \"Gimme\"]\n",
    "check_third.columns = [\"Compare3\",\"Gimme\" ]"
   ]
  },
  {
   "cell_type": "markdown",
   "metadata": {},
   "source": [
    "#### Then Merge the data"
   ]
  },
  {
   "cell_type": "code",
   "execution_count": 529,
   "metadata": {
    "collapsed": false
   },
   "outputs": [],
   "source": [
    "new_merge = all_roc2.reset_index().merge(check_second, how=\"left\").set_index('index')\n",
    "new_merge = new_merge.reset_index().merge(check_third, how=\"left\").set_index('index')\n",
    "new_merge = new_merge.sort_values(by=\"Gimme\") #This sorting was just doen to ensure teh lgened is properly placed\n",
    "new_merge.index.name = \"Motifs\""
   ]
  },
  {
   "cell_type": "code",
   "execution_count": 687,
   "metadata": {
    "collapsed": false
   },
   "outputs": [],
   "source": [
    "new_merge.to_csv(\"Consistency_top3_motifs.txt\", sep=\"\\t\")"
   ]
  },
  {
   "cell_type": "code",
   "execution_count": 531,
   "metadata": {
    "collapsed": false
   },
   "outputs": [
    {
     "data": {
      "image/png": "[encoded data removed]",
      "text/plain": [
       "<matplotlib.figure.Figure at 0x7f4c0a30fd90>"
      ]
     },
     "metadata": {},
     "output_type": "display_data"
    }
   ],
   "source": [
    "sns.set(style=\"ticks\")\n",
    "ax = new_merge.plot(kind=\"bar\", fontsize=12, rot=0,cmap='gray')\n",
    "ax.set_xlabel(\"Transcription factors\")\n",
    "ax.set_ylabel(\"AUC values\")\n",
    "sns.despine()\n",
    "plt.savefig('/home/kipkurui/Dropbox/PHD/Documents/NAR_Paper/Working_draft/Figs/Consistency_top3-greys.pdf', bbox_inches='tight')"
   ]
  },
  {
   "cell_type": "markdown",
   "metadata": {},
   "source": [
    "We observer some improvement in the peromance of the chosen motifs when the second best motif predicted by our approach is chosen. In these cases, we can argue that since a user would normally select more than one motif for comparison, we consider our approach validated as a useful tool for performing data independednt validation of the motifs predicted. This avoids any scoring bias that may arise, especially when the data were predicted from different algorithms. In choosing the third motif, the quality of Irf3 motif improved by close to 0.1. "
   ]
  },
  {
   "cell_type": "code",
   "execution_count": 38,
   "metadata": {
    "collapsed": true
   },
   "outputs": [],
   "source": [
    "new_merge = pd.read_table(\"Consistency_top3_motifs.txt\", index_col=\"Motifs\")\n",
    "Gimme_top3 = pd.read_table(\"Gimme_top3.txt\", index_col=\"Motifs\")"
   ]
  },
  {
   "cell_type": "markdown",
   "metadata": {
    "collapsed": true
   },
   "source": [
    "<a id='figure8'></a>\n",
    "### Figure 8: Comparing performance of top three motifs in Gimme and CB-MAR"
   ]
  },
  {
   "cell_type": "code",
   "execution_count": 62,
   "metadata": {
    "collapsed": false
   },
   "outputs": [
    {
     "data": {
      "image/png": "[encoded data removed]",
      "text/plain": [
       "<matplotlib.figure.Figure at 0x7f9d76a6d210>"
      ]
     },
     "metadata": {},
     "output_type": "display_data"
    }
   ],
   "source": [
    "sns.set_style(\"ticks\")\n",
    "f, (ax1, ax2) = plt.subplots(1, 2, sharey=False, figsize=(16, 8))\n",
    "new_merge.plot(kind=\"bar\", fontsize=12, rot=0,cmap='gist_earth', ax=ax1)\n",
    "Gimme_top3.plot(kind=\"bar\", fontsize=12, rot=0,cmap='gist_earth', ax=ax2)\n",
    "ax1.set_xlabel(\"Transcription factors\")\n",
    "ax1.set_title(\"A\")\n",
    "ax2.set_xlabel(\"Transcription factors\")\n",
    "\n",
    "ax2.set_title(\"B\")\n",
    "ax1.set_ylabel(\"AUC values\")\n",
    "sns.despine()\n",
    "\n",
    "plt.savefig('/home/kipkurui/Dropbox/PHD/Documents/NAR_Paper/Working_draft/Figs/Consistency_Gimme_top3_gist_earth.png', bbox_inches='tight')"
   ]
  },
  {
   "cell_type": "code",
   "execution_count": 144,
   "metadata": {
    "collapsed": true
   },
   "outputs": [],
   "source": [
    "results_path = \"/home/kipkurui/Project/Motif_Assessment/PAPER_Assessment_Data/NAR_Paper/GimmeMars/%s\" % tf_id\n",
    "roc_code =\"%s/%s_roc_top3.tcx\" % (results_path, tf_id)\n",
    "roc_data = pd.read_table(roc_code, index_col=\"Motif\")"
   ]
  },
  {
   "cell_type": "markdown",
   "metadata": {},
   "source": [
    "Get those scenarios in which my approach differes from the other by 0.05 AUC score. This is to see if the difference can be alleviated is I am to focus on the second motif. "
   ]
  },
  {
   "cell_type": "code",
   "execution_count": 738,
   "metadata": {
    "collapsed": false,
    "scrolled": true
   },
   "outputs": [
    {
     "data": {
      "text/plain": [
       "(0.74382633825937983, 1.2931687371175491e-20)"
      ]
     },
     "execution_count": 738,
     "metadata": {},
     "output_type": "execute_result"
    }
   ],
   "source": [
    "stats.pearsonr(Gimme_all_roc['Compare'],Gimme_all_roc['Gimme'])\n",
    "#stats.spearmanr(Gimme_all_roc['Compare'],Gimme_all_roc['Gimme'])\n",
    "# sp = stats.spearmanr(gimme_ennergy_frame['AUC'],gimme_ennergy_frame['ROC AUC'])[0]\n",
    "# pv = stats.spearmanr(gimme_ennergy_frame['AUC'],gimme_ennergy_frame['ROC AUC'])[1]"
   ]
  },
  {
   "cell_type": "markdown",
   "metadata": {},
   "source": [
    "<a id='figs1'></a>\n",
    "### Supplementary Figure 1: Gimme motifs and consistency motif ranking comparison. "
   ]
  },
  {
   "cell_type": "code",
   "execution_count": 741,
   "metadata": {
    "collapsed": false
   },
   "outputs": [
    {
     "data": {
      "image/png": "[encoded data removed]",
      "text/plain": [
       "<matplotlib.figure.Figure at 0x7f4bf8bac750>"
      ]
     },
     "metadata": {},
     "output_type": "display_data"
    }
   ],
   "source": [
    "sns.set(style=\"ticks\")\n",
    "ax = Gimme_all_roc.plot(kind=\"barh\", title=\"Performance of Consistency-based approach in Motif discovery\", figsize=(8,18), fontsize=12)\n",
    "ax.set_xlabel(\"Transcription factors\")\n",
    "ax.set_ylabel(\"AUC scores\")\n",
    "ax.set_axis_on()\n",
    "sns.despine()\n",
    "#ax.set_gid()\n",
    "#ax.set_axis_bgcolor('W')\n",
    "#ax.annotate(\"Tomtom correlation mean: %f\" % overall.mean()[\"Tomtom\"], (5,-0.1))\n",
    "#ax.annotate(\"FISim correlation mean:   %f\" % overall.mean()[\"Fisim\"], (5,-0.15))\n",
    "#ax.annotate(\"p-value (wilcoxon ranksum test):   %f\" % ranksums(overall['Fisim'],overall['Tomtom'])[1], (5,-0.05))\n",
    "fig = ax.get_figure()\n",
    "#fig.savefig('/home/kipkurui/Dropbox/PHD/Documents/Phd_Thesis/Chapter4/Figs/tomtom_discover-new.pdf', bbox_inches='tight')"
   ]
  },
  {
   "cell_type": "markdown",
   "metadata": {},
   "source": [
    "The figure above shows how the motifs identified using TOmtom compare with the Gimme scores. We find that, overally, our approach seems to id better motifs. Howver, there are multiple situations in which the identified motifs differ greatly. Investigating what causes such a difference would be useful for highlighting some of teh factors that influence the performance of our approach. "
   ]
  },
  {
   "cell_type": "code",
   "execution_count": 747,
   "metadata": {
    "collapsed": false
   },
   "outputs": [
    {
     "data": {
      "text/plain": [
       "RanksumsResult(statistic=0.0338939187220633, pvalue=0.97296174256042756)"
      ]
     },
     "execution_count": 747,
     "metadata": {},
     "output_type": "execute_result"
    }
   ],
   "source": [
    "ranksums(Gimme_all_roc[\"Gimme\"],Gimme_all_roc[\"Compare\"])"
   ]
  },
  {
   "cell_type": "code",
   "execution_count": null,
   "metadata": {
    "collapsed": true
   },
   "outputs": [],
   "source": [
    "stats.pearsonr(gimme_ennergy_frame['AUC'],gimme_ennergy_frame['ROC AUC'])\n",
    "sp = stats.spearmanr(gimme_ennergy_frame['AUC'],gimme_ennergy_frame['ROC AUC'])[0]\n",
    "pv = stats.spearmanr(gimme_ennergy_frame['AUC'],gimme_ennergy_frame['ROC AUC'])[1]"
   ]
  },
  {
   "cell_type": "code",
   "execution_count": 267,
   "metadata": {
    "collapsed": false,
    "scrolled": true
   },
   "outputs": [],
   "source": [
    "gimme_roc = pd.read_table(\"/home/kipkurui/Project/Motif_Assessment/PAPER_Assessment_Data/NAR_Paper/GimmeMars/1.1.1.2.1/1.1.1.2.1_discover_stats.txt\", index_col=\"Motif\")\n",
    "gimme_roc = gimme_roc[\"roc_auc\"].to_frame()\n",
    "gimme_roc = gimme_roc.sort_values(by=\"roc_auc\", ascending=False)"
   ]
  },
  {
   "cell_type": "code",
   "execution_count": 266,
   "metadata": {
    "collapsed": false
   },
   "outputs": [],
   "source": [
    "tomtom_rank = pd.read_table(\"/home/kipkurui/Project/Motif_Assessment/PAPER_Assessment_Data/NAR_Paper/GimmeMars/1.1.1.2.1/1.1.1.2.1.tomtom_raw.txt\", index_col=\"Test\")\n",
    "tomtom_rank =tomtom_rank[\"Average\"].to_frame(name=\"Tomtom\")\n",
    "tomtom_rank.index.names = [\"Motif\"]"
   ]
  },
  {
   "cell_type": "code",
   "execution_count": 275,
   "metadata": {
    "collapsed": false
   },
   "outputs": [],
   "source": [
    "gimme_roc_list = list(gimme_roc.index)\n",
    "tomtom_list = list(tomtom_rank.index)"
   ]
  },
  {
   "cell_type": "code",
   "execution_count": 278,
   "metadata": {
    "collapsed": false
   },
   "outputs": [],
   "source": [
    "merged = tomtom_list + gimme_roc_list"
   ]
  },
  {
   "cell_type": "code",
   "execution_count": 307,
   "metadata": {
    "collapsed": false
   },
   "outputs": [],
   "source": [
    "for mot in tomtom_list:\n",
    "    if mot in merged2:\n",
    "        #print(mot)\n",
    "        continue\n",
    "    else:\n",
    "        print(mot)"
   ]
  },
  {
   "cell_type": "code",
   "execution_count": 300,
   "metadata": {
    "collapsed": false
   },
   "outputs": [],
   "source": [
    "merged2 = set(merged)"
   ]
  },
  {
   "cell_type": "code",
   "execution_count": 292,
   "metadata": {
    "collapsed": false
   },
   "outputs": [],
   "source": [
    "a = tomtom_rank.drop_duplicates()"
   ]
  },
  {
   "cell_type": "code",
   "execution_count": 103,
   "metadata": {
    "collapsed": true
   },
   "outputs": [],
   "source": [
    "all_roc.to_csv(\"Compare\", sep=\"\\t\")"
   ]
  },
  {
   "cell_type": "code",
   "execution_count": 115,
   "metadata": {
    "collapsed": false
   },
   "outputs": [],
   "source": [
    "test = pd.read_table(\"Compare\")"
   ]
  },
  {
   "cell_type": "code",
   "execution_count": 116,
   "metadata": {
    "collapsed": true
   },
   "outputs": [
    {
     "data": {
      "text/plain": [
       "<matplotlib.axes._subplots.AxesSubplot at 0x7f014b7062d0>"
      ]
     },
     "execution_count": 116,
     "metadata": {},
     "output_type": "execute_result"
    },
    {
     "data": {
      "image/png": "[encoded data removed]",
      "text/plain": [
       "<matplotlib.figure.Figure at 0x7f014bfdc290>"
      ]
     },
     "metadata": {},
     "output_type": "display_data"
    }
   ],
   "source": [
    "test.plot()"
   ]
  },
  {
   "cell_type": "code",
   "execution_count": 96,
   "metadata": {
    "collapsed": false
   },
   "outputs": [
    {
     "name": "stdout",
     "output_type": "stream",
     "text": [
      "Motif\tROC AUC\tMNCP\tEnr. at 5% FDR\tMax enr.\n",
      "Posmo_4\t0.818\t1.750373\t13.29\t116.50\n",
      "BioProspector_w6_5\t0.784\t1.629351\t8.16\t21.67\n",
      "GimmeMotifs_2\t0.492\t0.986362\t1.06\t6.50\n",
      "GimmeMotifs_1\t0.767\t1.675174\t11.37\t180.50\n",
      "Posmo_3\t0.492\t0.986397\t1.06\t6.50\n"
     ]
    }
   ],
   "source": [
    "!gimme roc {results_path}/{tf_id}_combined_best.pwm {results_path}/{tf_id}_test.fa {results_path}/{tf_id}_bg.fa"
   ]
  },
  {
   "cell_type": "code",
   "execution_count": null,
   "metadata": {
    "collapsed": true
   },
   "outputs": [],
   "source": [
    "tf_list = \"cebpb ctcf egr1 elf1 ets1 gata3 hnf4a mafk max mef2a nrf1 pax5 pou2f2 prdm1 sp1 srf tcf3 yy1\".split()\n",
    "gimme_ennergy_frame=pd.DataFrame()\n",
    "for tf in tf_list:\n",
    "    tests = pd.read_table(\"/home/kipkurui/Project/Motif_Assessment/GIMME_ROC/%s/%s.gimme\" % (tf.capitalize(),tf.capitalize()), index_col=\"Motif\")\n",
    "    b = tests.sort_index()[['ROC AUC']]\n",
    "    raw_score = \"/home/kipkurui/Project/Motif_Assessment/PAPER_Assessment_Data/Kibet-F1000Research/ChIP_seq/Results\"\n",
    "    auc_raw = pd.read_table(\"%s/%s/%s_auc.rawscores\" % (raw_score,tf,tf), index_col=\"Motif\")\n",
    "    auc_raw = auc_raw.sort_index()\n",
    "    added = auc_raw.T.append(b.T).T\n",
    "    gimme_energy = added[['energy','ROC AUC']]\n",
    "    \n",
    "    #gimme_energy = gimme_energy.corr()\n",
    "    \n",
    "    #a = gimme_energy['energy']\n",
    "    a = gimme_energy.mean().to_frame(name=tf)\n",
    "    gimme_ennergy_frame = gimme_ennergy_frame.append(a.T)\n",
    "    \n",
    "    #sns.clustermap(added.corr(method=\"spearman\"), annot=True)"
   ]
  },
  {
   "cell_type": "code",
   "execution_count": 461,
   "metadata": {
    "collapsed": false
   },
   "outputs": [],
   "source": [
    "#3.5.3.0.3, 1.2.4.1.12\n",
    "chipseq.remove(\"3.5.3.0.3\")"
   ]
  },
  {
   "cell_type": "markdown",
   "metadata": {},
   "source": [
    "### Reomove this code below\n",
    "\n",
    "We refer to these as mainmodules for now, but teh intebtion is to tranfer them to theri respective location to allow for further analsysis. "
   ]
  },
  {
   "cell_type": "code",
   "execution_count": null,
   "metadata": {
    "collapsed": true
   },
   "outputs": [],
   "source": [
    "def gomeroccupancyscore(pwm_dictionary, seq):\n",
    "    \"\"\"\n",
    "    Takes as input a PWM dictionary, and a sequences and\n",
    "    computes the gomer score\n",
    "    \"\"\"\n",
    "    if \"N\" in seq:\n",
    "        return 0\n",
    "    else:\n",
    "        pwm_length = len(pwm_dictionary[\"A\"])\n",
    "        gomer_occupancy = 1\n",
    "        area_pwm_rc = rc_pwm(pwm_dictionary, pwm_length)\n",
    "        for i in range(pwm_length - 1, 1, -1):\n",
    "            prod_gomer = 1\n",
    "            prod_gomer_rc = 1\n",
    "            for j in range(pwm_length):\n",
    "                if j <= i:\n",
    "                    prod_gomer *= 0.25\n",
    "                    prod_gomer_rc *= 0.25\n",
    "                elif (j + i) > len(seq)-1:\n",
    "                    prod_gomer *= 0.25\n",
    "                    prod_gomer_rc *= 0.25\n",
    "                else:\n",
    "                    # print \"got to else\"\n",
    "                    s = seq[j + i]\n",
    "                    prod_gomer *= pwm_dictionary[s][j]\n",
    "                    prod_gomer_rc *= area_pwm_rc[s][j]\n",
    "            gomer_occupancy *= (1 - prod_gomer) * (1 - prod_gomer_rc)\n",
    "        for i in range(len(seq) - 1):\n",
    "            prod_gomer = 1\n",
    "            prod_gomer_rc = 1\n",
    "            for j in range(pwm_length - 1):\n",
    "                if (j + i) >= len(seq)-1:\n",
    "                    prod_gomer *= 0.25\n",
    "                    prod_gomer_rc *= 0.25\n",
    "                else:\n",
    "                    prod_gomer *= pwm_dictionary[seq[j + i]][j]\n",
    "                    prod_gomer_rc *= area_pwm_rc[seq[j + i]][j]\n",
    "            gomer_occupancy *= (1 - prod_gomer) * (1 - prod_gomer_rc)\n",
    "        gomer_occupancy = 1 - gomer_occupancy\n",
    "        return gomer_occupancy\n",
    "\n",
    "from math import exp\n",
    "\n",
    "def energyscore(pwm_dictionary, seq):\n",
    "    \"\"\"\n",
    "    Score sequences using the beeml energy scoring approach.\n",
    "\n",
    "    Borrowed greatly from the work of Zhao and Stormo\n",
    "\n",
    "    P(Si)=1/(1+e^Ei-u)\n",
    "\n",
    "    Ei=sumsum(Si(b,k)e(b,k))\n",
    "\n",
    "    Previous approaches seem to be using the the minimum sum of the\n",
    "    energy contribution of each of the bases of a specific region.\n",
    "\n",
    "    This is currently showing some promise but further testing is\n",
    "    needed to ensure that I have a robust algorithm.\n",
    "    \"\"\"\n",
    "    if \"N\" in seq:\n",
    "        return 0\n",
    "    else:\n",
    "        energy_list = []\n",
    "        pwm_length = len(pwm_dictionary[\"A\"])\n",
    "        pwm_dictionary_rc = rc_pwm(pwm_dictionary, pwm_length)\n",
    "        for i in range(len(seq) - 1):\n",
    "            energy = 0\n",
    "            energy_rc = 0\n",
    "            for j in range(pwm_length - 1):\n",
    "                if (j + i) >= len(seq):\n",
    "                    energy += 0.25\n",
    "                    energy_rc += 0.25\n",
    "                else:\n",
    "                    energy += pwm_dictionary[seq[j + i]][j]\n",
    "                    energy_rc += pwm_dictionary_rc[seq[j + i]][j]\n",
    "\n",
    "                energy_list.append(1 / (1 + (exp(energy))))\n",
    "                energy_list.append(1 / (1 + (exp(energy_rc))))\n",
    "        energy_score = min(energy_list)\n",
    "        return energy_score\n",
    "\n",
    "    \n",
    "def get_from_cluster_key(cluster_key, top_10):\n",
    "    \"\"\"\n",
    "    Given top ten motifs based on \n",
    "    \"\"\"\n",
    "    extract =[]\n",
    "    for i in top_10:\n",
    "        with open(cluster_key) as cluster:\n",
    "            for line in cluster:\n",
    "                if i in line:\n",
    "                    lines = line.split()\n",
    "                    if len(lines)> 1:\n",
    "                        adds = lines[1].split(\",\")\n",
    "                        extract.extend(adds)\n",
    "                    else:\n",
    "                        extract.extend(lines)\n",
    "    return extract\n",
    "\n",
    "def extract_pfm(pfm_in, pfm_out, extract):\n",
    "    with open(pfm_out, \"w\") as pfm_o:\n",
    "        stat = 0\n",
    "        for mot in extract:\n",
    "            with open(pfm_in) as pfm_i:\n",
    "                for line in pfm_i:\n",
    "                    if \">\" in line:\n",
    "                        if mot == line.strip().split(\">\")[1]:\n",
    "                            pfm_o.write(line)\n",
    "                            #print line,\n",
    "                            stat = 1\n",
    "                            continue\n",
    "                    if \">\" in line:\n",
    "                        if mot in line:\n",
    "                            continue\n",
    "                        else:\n",
    "                            stat = 0\n",
    "                    if stat == 1:\n",
    "                        pfm_o.write(line)\n",
    "\n",
    "def extract_meme(meme_in, motif, meme_out, raw_dict):\n",
    "    with open(meme_in) as f1:\n",
    "        with open(meme_out, \"a\") as out_meme:\n",
    "            lines = f1.readlines()\n",
    "            for i, line in enumerate(lines):\n",
    "                head = line.split()\n",
    "                if motif in line and motif == head[1]:\n",
    "                    k = i\n",
    "                    out_meme.write(\"\\n\"+lines[i].strip()+\"_\"+raw_dict[motif]+\"\\n\\n\")\n",
    "                    if \"log-odds\" in lines[i+1]:\n",
    "                        odds = lines[k+2].split()\n",
    "                        for j in range(2, (int(odds[5])+3)*2):\n",
    "                            out_meme.write(lines[i+j]),\n",
    "                    elif \"letter-probability\" in lines[i+2]:\n",
    "                        out_meme.write(lines[i+2])\n",
    "                        odds = lines[k+2].split()\n",
    "                        for j in range(0, (int(odds[5]))):\n",
    "                            out_meme.write(lines[i+3+j])\n",
    "                    else:\n",
    "                        pass\n",
    "\n",
    "\n",
    "def get_dict(raw_file):\n",
    "    from collections import OrderedDict\n",
    "    raw_dict = OrderedDict()\n",
    "    with open(raw_file) as raw_in:\n",
    "        for line in raw_in:\n",
    "            raw_dict[line.split()[0]] = line.split()[-1]\n",
    "    return raw_dict\n",
    "\n",
    "\n",
    "def extract_scored_meme(meme_in, out_meme, raw_dict):\n",
    "    meme_head = \"\"\"MEME version 4.4\\n\\nALPHABET= ACGT\\n\\nstrands: + -\\n\n",
    "Background letter frequencies (from uniform background):\n",
    "A 0.25000 C 0.25000 G 0.25000 T 0.25000\\n\"\"\"\n",
    "    with open(out_meme, \"w\") as meme_out:\n",
    "        meme_out.write(meme_head)\n",
    "    for key in raw_dict.iterkeys():\n",
    "        extract_meme(meme_in, key, out_meme, raw_dict)\n",
    "\n",
    "def extract_meme_list(meme_in, out_meme, mot_list):\n",
    "    \"\"\"\n",
    "    Use this to extract motifs in a given list from the main file. This differes\n",
    "    from extract_scored since it does not add the scores of the motifs to the \n",
    "    meme header name\n",
    "    \"\"\"\n",
    "    meme_head = \"\"\"MEME version 4.4\\n\\nALPHABET= ACGT\\n\\nstrands: + -\\n\n",
    "Background letter frequencies (from uniform background):\n",
    "A 0.25000 C 0.25000 G 0.25000 T 0.25000\\n\"\"\"\n",
    "    with open(out_meme, \"w\") as meme_out:\n",
    "        meme_out.write(meme_head)\n",
    "    for mot in mot_list:\n",
    "        extract_meme_clean(meme_in, mot, out_meme)\n",
    "\n",
    "def extract_meme_clean(meme_in, motif, meme_out):\n",
    "    \"\"\"\n",
    "    Get the given motif from file\n",
    "    \"\"\"\n",
    "    with open(meme_in) as f1:\n",
    "        with open(meme_out, \"a\") as out_meme:\n",
    "            lines = f1.readlines()\n",
    "            for i, line in enumerate(lines):\n",
    "                head = line.split()\n",
    "                if motif in line and motif == head[1]:\n",
    "                    k = i\n",
    "                    out_meme.write(\"\\n\"+lines[i].strip()+\"\\n\\n\")\n",
    "                    if \"log-odds\" in lines[i+1]:\n",
    "                        odds = lines[k+2].split()\n",
    "                        for j in range(2, (int(odds[5])+3)*2):\n",
    "                            out_meme.write(lines[i+j]),\n",
    "                    elif \"letter-probability\" in lines[i+2]:\n",
    "                        out_meme.write(lines[i+2])\n",
    "                        odds = lines[k+2].split()\n",
    "                        for j in range(0, (int(odds[5]))):\n",
    "                            out_meme.write(lines[i+3+j])\n",
    "                    else:\n",
    "                        pass\n",
    "\n",
    "def meme2gimme(meme, gimme):\n",
    "    with open(meme) as motif:\n",
    "        with open(gimme, 'w') as gmotif:\n",
    "            for line in motif:\n",
    "                if line.startswith(\"MOTIF\"):\n",
    "                    if len(line.split(\" \")) > 2:\n",
    "                        gmotif.write(\">\"+line.split(\" \")[1]+\"\\n\")\n",
    "                    else:\n",
    "                        gmotif.write(\">\"+line.split(\" \")[1])\n",
    "                elif line.startswith('letter-probability'):\n",
    "                    continue\n",
    "                elif line.startswith('  '):\n",
    "                    a = line.split()\n",
    "                    if len(a)>0:\n",
    "                        gmotif.write(a[0]+'\\t'+a[1]+'\\t'+a[2]+'\\t'+a[3]+'\\n')\n",
    "                    else:\n",
    "                        continue\n",
    "                elif line.startswith(\"\\n\"):\n",
    "                    continue\n",
    "                else:\n",
    "                    continue\n",
    "\n",
    "def gimme2meme(gimme_in,meme_out):\n",
    "\n",
    "    As=[]\n",
    "    Cs=[]\n",
    "    Gs=[]\n",
    "    Ts=[]\n",
    "    motifname=\"motifname\"\n",
    "    with open(meme_out, \"w\") as f3:\n",
    "        f3.write(\"\"\"MEME version 4.4\\n\\nALPHABET= ACGT\\n\\n\n",
    "strands: + -\\n\\nBackground letter frequencies (from uniform background):\\nA 0.25000 C 0.25000 G 0.25000 T 0.25000\\n\n",
    "        \"\"\")\n",
    "        with open(gimme_in) as f1:\n",
    "            for line in f1:\n",
    "                if line.startswith(\">\"):\n",
    "                    if len(As)>0:\n",
    "                        motif=(\"\\nMOTIF %s\\n\\n\"% (motifname))\n",
    "                        f3.write(motif)\n",
    "                        header=(\"letter-probability matrix: alength= 4 w= %s nsites= 20 E= 0\\n\" % (str(len(As)))) \n",
    "                        f3.write(header)\n",
    "                        for i in range(0,len(As)):\n",
    "                            out=(\"  %.6f\\t  %.6f\\t  %.6f\\t  %.6f\\t\\n\" %(float(As[i]),float(Cs[i]),float(Gs[i]),float(Ts[i])))\n",
    "                            f3.write(out)\n",
    "                    else:\n",
    "                        f3.write(\"\\n\")\n",
    "                    As=[]\n",
    "                    Cs=[]\n",
    "                    Gs=[]\n",
    "                    Ts=[]\n",
    "                    motifname=line.strip().split(\">\")[1]\n",
    "                else:\n",
    "                    As+=[line.strip().split()[0]]\n",
    "                    Cs+=[line.strip().split()[1]]\n",
    "                    Gs+=[line.strip().split()[2]]\n",
    "                    Ts+=[line.strip().split()[3]]\n",
    "        motif=(\"\\nMOTIF %s\\n\\n\"% (motifname))\n",
    "        f3.write(motif)\n",
    "        header=(\"letter-probability matrix: alength= 4 w= %s nsites= 20 E= 0\\n\" % (str(len(As)))) \n",
    "        f3.write(header)\n",
    "        for i in range(0,len(As)):\n",
    "            out=(\"  %.6f\\t  %.6f\\t  %.6f\\t  %.6f\\t\\n\" %(float(As[i]),float(Cs[i]),float(Gs[i]),float(Ts[i])))\n",
    "            f3.write(out)\n",
    "\n",
    "\n",
    "\n",
    "def gimmepfm2meme(pfm_in, meme_out):\n",
    "    \n",
    "    import sys\n",
    "    As=[]\n",
    "    Cs=[]\n",
    "    Gs=[]\n",
    "    Ts=[]\n",
    "    in_file = pfm_in\n",
    "\n",
    "    motifname=\"motifname\"\n",
    "    with open(meme_out, \"w\") as f3:\n",
    "        f3.write(\"\"\"MEME version 4.4\\n\\nALPHABET= ACGT\\n\\n\n",
    "strands: + -\\n\\nBackground letter frequencies (from uniform background):\\nA 0.25000 C 0.25000 G 0.25000 T 0.25000\\n\n",
    "        \"\"\")\n",
    "        with open(in_file) as f1:\n",
    "            for line in f1:\n",
    "                if line.startswith(\">\"):\n",
    "                    if len(As)>0:\n",
    "                        motif=(\"\\nMOTIF %s\\n\\n\"% (motifname))\n",
    "                        f3.write(motif)\n",
    "                        header=(\"letter-probability matrix: alength= 4 w= %s nsites= 20 E= 0\\n\" % (str(len(As)))) \n",
    "                        f3.write(header)\n",
    "                        for i in range(0,len(As)):\n",
    "                            totals = float(As[i])+float(Cs[i])+float(Gs[i])+float(Ts[i])\n",
    "                            out=(\"  %.6f\\t  %.6f\\t  %.6f\\t  %.6f\\t\\n\" %\n",
    "                                 (float(As[i])/totals,float(Cs[i])/totals,float(Gs[i])/totals,float(Ts[i])/totals))\n",
    "                            f3.write(out)\n",
    "                    else:\n",
    "                        f3.write(\"\\n\")\n",
    "                    As=[]\n",
    "                    Cs=[]\n",
    "                    Gs=[]\n",
    "                    Ts=[]\n",
    "                    motifname=line.strip().split(\">\")[1]\n",
    "                else:\n",
    "                    As+=[line.strip().split()[0]]\n",
    "                    Cs+=[line.strip().split()[1]]\n",
    "                    Gs+=[line.strip().split()[2]]\n",
    "                    Ts+=[line.strip().split()[3]]\n",
    "            motif=(\"\\nMOTIF %s\\n\\n\"% (motifname))\n",
    "            f3.write(motif)\n",
    "            header=(\"letter-probability matrix: alength= 4 w= %s nsites= 20 E= 0\\n\" % (str(len(As)))) \n",
    "            f3.write(header)\n",
    "            for i in range(0,len(As)):\n",
    "                totals = float(As[i])+float(Cs[i])+float(Gs[i])+float(Ts[i])\n",
    "                out=(\"  %.6f\\t  %.6f\\t  %.6f\\t  %.6f\\t\\n\" %\n",
    "                     (float(As[i])/totals,float(Cs[i])/totals,float(Gs[i])/totals,float(Ts[i])/totals))\n",
    "                f3.write(out)"
   ]
  },
  {
   "cell_type": "markdown",
   "metadata": {},
   "source": [
    "# Back-up scripts"
   ]
  },
  {
   "cell_type": "code",
   "execution_count": null,
   "metadata": {
    "collapsed": true
   },
   "outputs": [],
   "source": [
    "newes[4] = newes[2].apply(lambda seq: \"http://hgdownload.cse.ucsc.edu/goldenPath/hg19/encodeDCC/wgEncodeAwgTfbsUniform/%s.gz\" % seq)\n",
    "\n",
    "newes.columns = [[\"Raw_name\", \"path\", \"Tf_name\", \"Download_link\"]]\n",
    "\n",
    "newes.to_csv(\"./Example_data/Raw_encode.txt\", columns=[\"Tf_name\", \"Raw_name\", \"Download_link\"], sep=\"\\t\", index=None)\n",
    "\n",
    "for tf_id in chipseq:    \n",
    "    with open(\"./Example_data/raw_chipseq.txt\") as pbm_chip:\n",
    "        with open(\"./Example_data/All_raw_Encode.txt\", \"a\") as chip_out:\n",
    "            for line in pbm_chip:\n",
    "                if pbmchip2name[tf_id] in line:\n",
    "                    down = \"http://hgdownload.cse.ucsc.edu/goldenPath/hg19/encodeDCC/wgEncodeAwgTfbsUniform/%s.gz\" % line.split()[0]\n",
    "                    chip_out.write(\"%s\\t%s\\n\" % (pbmchip2name[tf_id], down))"
   ]
  }
 ],
 "metadata": {
  "kernelspec": {
   "display_name": "Python 2",
   "language": "python",
   "name": "python2"
  },
  "language_info": {
   "codemirror_mode": {
    "name": "ipython",
    "version": 2
   },
   "file_extension": ".py",
   "mimetype": "text/x-python",
   "name": "python",
   "nbconvert_exporter": "python",
   "pygments_lexer": "ipython2",
   "version": "2.7.12"
  }
 },
 "nbformat": 4,
 "nbformat_minor": 0
}
