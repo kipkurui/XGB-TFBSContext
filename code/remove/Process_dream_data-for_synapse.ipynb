{
 "cells": [
  {
   "cell_type": "markdown",
   "metadata": {},
   "source": [
    "## Processing and uploading data to Synapse"
   ]
  },
  {
   "cell_type": "code",
   "execution_count": null,
   "metadata": {
    "collapsed": true
   },
   "outputs": [],
   "source": [
    "import synapseclient\n",
    "syn = synapseclient.Synapse()\n",
    "syn.login()"
   ]
  },
  {
   "cell_type": "code",
   "execution_count": null,
   "metadata": {
    "collapsed": true
   },
   "outputs": [],
   "source": []
  },
  {
   "cell_type": "code",
   "execution_count": 1,
   "metadata": {
    "collapsed": true
   },
   "outputs": [],
   "source": [
    "!cd /home/kipkurui/Dream_challenge/annotations/"
   ]
  },
  {
   "cell_type": "code",
   "execution_count": null,
   "metadata": {
    "collapsed": true
   },
   "outputs": [],
   "source": [
    "!cd /home/kipkurui/Dream_challenge/annotations/\n",
    "\n",
    "a = \"\"\"TF Name\tTraining Cell Types\tLeaderboard Cell Types\tFinal Submission Cell Types\n",
    "ARID3A\tHepG2\tK562\t\n",
    "ATF2\tGM12878, H1-hESC, MCF-7\tK562\tHepG2\n",
    "ATF3\tHCT116, H1-hESC, HepG2, K562\tliver\t\n",
    "ATF7\tGM12878, HepG2, K562\tMCF-7\t\n",
    "CEBPB\tA549, H1-hESC, HCT116, HeLa-S3, HepG2, IMR-90, K562\tMCF-7\t\n",
    "CREB1\tGM12878, H1-hESC, HepG2, K562\tMCF-7\t\n",
    "CTCF\tA549, H1-hESC, HeLa-S3, HepG2, IMR-90, K562, MCF-7\tGM12878\tPC-3, induced_pluripotent_stem_cell\n",
    "E2F1\tGM12878, HeLa-S3\t\tK562\n",
    "E2F6\tA549, H1-hESC, HeLa-S3\tK562\t\n",
    "EGR1\tGM12878, H1-hESC, HCT116, MCF-7\tK562\tliver\n",
    "EP300\tGM12878, H1-hESC, HeLa-S3, HepG2, K562, SK-N-SH\tMCF-7\t\n",
    "FOXA1\tHepG2\tMCF-7\tliver\n",
    "FOXA2\tHepG2\t\tliver\n",
    "GABPA\tGM12878, H1-hESC, HeLa-S3, HepG2, MCF-7, SK-N-SH\tK562\tliver\n",
    "GATA3\tA549, SK-N-SH\tMCF-7\t\n",
    "HNF4A\tHepG2\t\tliver\n",
    "JUND\tHCT116, HeLa-S3, HepG2, K562, MCF-7, SK-N-SH\tH1-hESC\tliver\n",
    "MAFK\tGM12878, H1-hESC, HeLa-S3, HepG2, IMR-90\tK562, MCF-7\t\n",
    "MAX\tA549, GM12878, H1-hESC, HCT116, HeLa-S3, HepG2, K562, SK-N-SH\tMCF-7\tliver\n",
    "MYC\tA549, HeLa-S3, K562, MCF-7\tHepG2\t\n",
    "NANOG\tH1-hESC\t\tinduced_pluripotent_stem_cell\n",
    "REST\tH1-hESC, HeLa-S3, HepG2, MCF-7, Panc1, SK-N-SH\tK562\tliver\n",
    "RFX5\tGM12878, HeLa-S3, MCF-7, SK-N-SH\tHepG2\t\n",
    "SPI1\tGM12878\tK562\t\n",
    "SRF\tGM12878, H1-hESC, HCT116, HepG2, K562\tMCF-7\t\n",
    "STAT3\tHeLa-S3\tGM12878\t\n",
    "TAF1\tGM12878, H1-hESC, HeLa-S3, K562, SK-N-SH\tHepG2\tliver\n",
    "TCF12\tGM12878, H1-hESC, MCF-7, SK-N-SH\tK562\t\n",
    "TCF7L2\tHCT116, HeLa-S3, Panc1\tMCF-7\t\n",
    "TEAD4\tA549, H1-hESC, HCT116, HepG2, K562, SK-N-SH\tMCF-7\t\n",
    "YY1\tGM12878, H1-hESC, HCT116, HepG2, SK-N-SH\tK562\t\n",
    "ZNF143\tGM12878, H1-hESC, HeLa-S3, HepG2\tK562\t\"\"\".split(\"\\n\")\n",
    "\n",
    "TF_dict = {}\n",
    "for i in a:\n",
    "    line = i.split(\"\\t\")\n",
    "    TF_dict[line[0]] = line[1:]\n",
    "    \n",
    "\n",
    "# for tfs in \"FOXA1 EGR1\".split():\n",
    "#     cl = TF_dict[tfs][1].split(\",\")[0]\n",
    "#     !paste --d='\\t'  ladder_regions.blacklistfiltered.bed  ladder/{tfs}/{tfs}_xgb_v2.txt >ladder/{tfs}/L.{tfs}.{cl}.tab\n",
    "#     !gzip ladder/{tfs}/L.{tfs}.{cl}.tab"
   ]
  },
  {
   "cell_type": "markdown",
   "metadata": {},
   "source": [
    "### Get the Data from CHPC"
   ]
  },
  {
   "cell_type": "code",
   "execution_count": null,
   "metadata": {
    "collapsed": true
   },
   "outputs": [],
   "source": [
    "for tf in \"EGR1 ATF2 FOXA1 FOXA2 HNF4A NANOG REST JUND MAX GABPA\".split():\n",
    "    !scp -r ckibet@lengau.chpc.ac.za:/home/ckibet/lustre/Dream_challenge/annotations/{tf} final/"
   ]
  },
  {
   "cell_type": "markdown",
   "metadata": {},
   "source": [
    "### Convert the dat into a format ready for upload"
   ]
  },
  {
   "cell_type": "code",
   "execution_count": null,
   "metadata": {
    "collapsed": true
   },
   "outputs": [],
   "source": [
    "for tf in [\"TAF1\"]: #.split():\n",
    "    tfs = \"GABPA\"\n",
    "    cl = TF_dict[tf][2].split(\",\")[-1].strip()\n",
    "    !paste --d='\\t'  test_regions.blacklistfiltered.bed  final/{tfs}/{tfs}_xgb_final.txt >final/{tf}/F.{tf}.{cl}.tab\n",
    "    !gzip final/{tf}/F.{tf}.{cl}.tab"
   ]
  },
  {
   "cell_type": "markdown",
   "metadata": {},
   "source": [
    "### Upload the data to Synapse"
   ]
  },
  {
   "cell_type": "code",
   "execution_count": null,
   "metadata": {
    "collapsed": true
   },
   "outputs": [],
   "source": [
    "from synapseclient import Project\n",
    "\n",
    "project = Project('TEAMKE_DREAM_submissions')\n",
    "project = syn.store(project)\n",
    "\n",
    "submissions_folder = \"syn7317365\"\n",
    "\n",
    "from synapseclient import File, Activity\n",
    "\n",
    "for tfs in [\"TAF1\"]: #.split():#\"ATF2 EGR1 FOXA1 FOXA2 HNF4A NANOG REST JUND MAX\".split():\n",
    "    cl = TF_dict[tfs][2].split(\",\")[-1].strip()\n",
    "    test_entity = File('final/%s/F.%s.%s.tab.gz' % (tfs,tfs,cl), description='Final submission', parent=submissions_folder)\n",
    "    test_entity = syn.store(test_entity)\n",
    "\n",
    "    evaluation = syn.getEvaluation(7212779)\n",
    "    #entity = syn.get(test_entity.uri.split(\"/\")[-1])\n",
    "    submission = syn.submit(evaluation, test_entity, name='Final Submission', team='TeamKE')"
   ]
  }
 ],
 "metadata": {
  "kernelspec": {
   "display_name": "Python 2",
   "language": "python",
   "name": "python2"
  },
  "language_info": {
   "codemirror_mode": {
    "name": "ipython",
    "version": 2
   },
   "file_extension": ".py",
   "mimetype": "text/x-python",
   "name": "python",
   "nbconvert_exporter": "python",
   "pygments_lexer": "ipython2",
   "version": "2.7.12"
  }
 },
 "nbformat": 4,
 "nbformat_minor": 0
}
