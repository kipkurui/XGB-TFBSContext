{
 "cells": [
  {
   "cell_type": "code",
   "execution_count": 3,
   "metadata": {
    "collapsed": false
   },
   "outputs": [
    {
     "name": "stdout",
     "output_type": "stream",
     "text": [
      "/home/kipkurui/Project/MAT_server\n"
     ]
    }
   ],
   "source": [
    "cd ../../MAT_server/"
   ]
  },
  {
   "cell_type": "code",
   "execution_count": 3,
   "metadata": {
    "collapsed": true
   },
   "outputs": [],
   "source": [
    "import pandas as pd\n",
    "hg_dn = pd.read_table(\"/home/kipkurui/Project/Data/hg-dn\", names=[\"hg\", \"dn\"])"
   ]
  },
  {
   "cell_type": "code",
   "execution_count": 19,
   "metadata": {
    "collapsed": false
   },
   "outputs": [],
   "source": [
    "hg_dn_chunk = pd.read_table(\"/home/kipkurui/Project/Data/hg-dn\", names=[\"hg\", \"dn\"], chunksize=1000)"
   ]
  },
  {
   "cell_type": "code",
   "execution_count": 5,
   "metadata": {
    "collapsed": false
   },
   "outputs": [],
   "source": [
    "hg_dn_max = hg_dn.max()"
   ]
  },
  {
   "cell_type": "code",
   "execution_count": 20,
   "metadata": {
    "collapsed": false
   },
   "outputs": [],
   "source": [
    "new_df = pd.DataFrame()\n",
    "for chunk in hg_dn_chunk:\n",
    "    appends = chunk/hg_dn_max\n",
    "    new_df = new_df.append(appends)\n",
    "    "
   ]
  },
  {
   "cell_type": "code",
   "execution_count": 29,
   "metadata": {
    "collapsed": false
   },
   "outputs": [],
   "source": [
    "new_df.to_csv(\"../Data/Hg_df_max_normalized.txt\", index=False, sep=\"\\t\")"
   ]
  },
  {
   "cell_type": "code",
   "execution_count": 15,
   "metadata": {
    "collapsed": false
   },
   "outputs": [],
   "source": [
    "new_df = new_df.append(chunk/hg_dn_max)"
   ]
  },
  {
   "cell_type": "code",
   "execution_count": 43,
   "metadata": {
    "collapsed": false
   },
   "outputs": [],
   "source": [
    "dn_hn_diff = new_df['dn'] - new_df['hg'] "
   ]
  },
  {
   "cell_type": "code",
   "execution_count": 44,
   "metadata": {
    "collapsed": false
   },
   "outputs": [],
   "source": [
    "hg_dn_diff.to_csv(\"../Data/Dn_hg_max_normalized_diff.txt\", index=False, sep=\"\\t\")"
   ]
  },
  {
   "cell_type": "code",
   "execution_count": 45,
   "metadata": {
    "collapsed": false
   },
   "outputs": [
    {
     "name": "stderr",
     "output_type": "stream",
     "text": [
      "/home/kipkurui/anaconda2/envs/MAT_server/lib/python2.7/site-packages/sklearn/preprocessing/data.py:324: DeprecationWarning: Passing 1d arrays as data is deprecated in 0.17 and will raise ValueError in 0.19. Reshape your data either using X.reshape(-1, 1) if your data has a single feature or X.reshape(1, -1) if it contains a single sample.\n",
      "  warnings.warn(DEPRECATION_MSG_1D, DeprecationWarning)\n",
      "/home/kipkurui/anaconda2/envs/MAT_server/lib/python2.7/site-packages/sklearn/preprocessing/data.py:359: DeprecationWarning: Passing 1d arrays as data is deprecated in 0.17 and will raise ValueError in 0.19. Reshape your data either using X.reshape(-1, 1) if your data has a single feature or X.reshape(1, -1) if it contains a single sample.\n",
      "  warnings.warn(DEPRECATION_MSG_1D, DeprecationWarning)\n"
     ]
    }
   ],
   "source": [
    "from sklearn import preprocessing\n",
    "min_max_scaler = preprocessing.MinMaxScaler((0.001,1))\n",
    "X_train_minmax = min_max_scaler.fit_transform(dn_hn_diff)"
   ]
  },
  {
   "cell_type": "code",
   "execution_count": 36,
   "metadata": {
    "collapsed": false
   },
   "outputs": [],
   "source": [
    "dns = pd.read_table(\"/home/kipkurui/Project/Data/dn_hgdiff.txt\", header=None)"
   ]
  },
  {
   "cell_type": "code",
   "execution_count": 33,
   "metadata": {
    "collapsed": false
   },
   "outputs": [],
   "source": [
    "hg_dn_diff_scalled = pd.DataFrame(X_train_minmax)"
   ]
  },
  {
   "cell_type": "code",
   "execution_count": 46,
   "metadata": {
    "collapsed": false
   },
   "outputs": [],
   "source": [
    "scalled_data = pd.DataFrame(dns[0])\n",
    "scalled_data = scalled_data.T.append(pd.Series(X_train_minmax), ignore_index=True).T"
   ]
  },
  {
   "cell_type": "code",
   "execution_count": 47,
   "metadata": {
    "collapsed": false
   },
   "outputs": [],
   "source": [
    "scalled_data.to_csv(\"../Data/DN_Hg_max_normalized_diff_scalled.txt\", index=False, sep=\"\\t\")"
   ]
  },
  {
   "cell_type": "code",
   "execution_count": 2,
   "metadata": {
    "collapsed": false
   },
   "outputs": [
    {
     "data": {
      "text/plain": [
       "('/home/kipkurui/Project/MAT_server/MATOM/static/files/',\n",
       " '/home/kipkurui/meme/bin')"
      ]
     },
     "execution_count": 2,
     "metadata": {},
     "output_type": "execute_result"
    }
   ],
   "source": [
    "get_path('')"
   ]
  },
  {
   "cell_type": "code",
   "execution_count": 3,
   "metadata": {
    "collapsed": false
   },
   "outputs": [],
   "source": [
    "from MATOM.models import *"
   ]
  },
  {
   "cell_type": "code",
   "execution_count": 2,
   "metadata": {
    "collapsed": false
   },
   "outputs": [],
   "source": [
    "tfs = TranscriptionFactor.objects.all()"
   ]
  },
  {
   "cell_type": "markdown",
   "metadata": {},
   "source": [
    "### Count the number of motifs available in the database"
   ]
  },
  {
   "cell_type": "code",
   "execution_count": 4,
   "metadata": {
    "collapsed": false
   },
   "outputs": [
    {
     "data": {
      "text/plain": [
       "1712"
      ]
     },
     "execution_count": 4,
     "metadata": {},
     "output_type": "execute_result"
    }
   ],
   "source": [
    "len(tfs)"
   ]
  },
  {
   "cell_type": "code",
   "execution_count": 12,
   "metadata": {
    "collapsed": false
   },
   "outputs": [],
   "source": [
    "motifs = []\n",
    "for tf in tfs:\n",
    "    tf_class_id = tf.tf_id\n",
    "    if Matrix.objects.filter(tf_id=tf_class_id).exists():\n",
    "          motifs.append(len(Matrix.objects.filter(tf_id=tf_class_id).all()))\n",
    "    "
   ]
  },
  {
   "cell_type": "code",
   "execution_count": 10,
   "metadata": {
    "collapsed": false
   },
   "outputs": [
    {
     "data": {
      "text/plain": [
       "19"
      ]
     },
     "execution_count": 10,
     "metadata": {},
     "output_type": "execute_result"
    }
   ],
   "source": [
    "len(Matrix.objects.filter(tf_id=\"1.1.1.1.1\").all())"
   ]
  },
  {
   "cell_type": "code",
   "execution_count": 19,
   "metadata": {
    "collapsed": false
   },
   "outputs": [
    {
     "data": {
      "text/plain": [
       "4.474852071005917"
      ]
     },
     "execution_count": 19,
     "metadata": {},
     "output_type": "execute_result"
    }
   ],
   "source": [
    "sum(motifs)/float(len(motifs))"
   ]
  },
  {
   "cell_type": "code",
   "execution_count": 21,
   "metadata": {
    "collapsed": false
   },
   "outputs": [
    {
     "ename": "NameError",
     "evalue": "name 'mean' is not defined",
     "output_type": "error",
     "traceback": [
      "\u001b[1;31m---------------------------------------------------------------------------\u001b[0m",
      "\u001b[1;31mNameError\u001b[0m                                 Traceback (most recent call last)",
      "\u001b[1;32m<ipython-input-21-00039f431a88>\u001b[0m in \u001b[0;36m<module>\u001b[1;34m()\u001b[0m\n\u001b[1;32m----> 1\u001b[1;33m \u001b[0mmean\u001b[0m\u001b[1;33m(\u001b[0m\u001b[0mmotifs\u001b[0m\u001b[1;33m)\u001b[0m\u001b[1;33m\u001b[0m\u001b[0m\n\u001b[0m",
      "\u001b[1;31mNameError\u001b[0m: name 'mean' is not defined"
     ]
    }
   ],
   "source": [
    "mean(motifs)"
   ]
  },
  {
   "cell_type": "code",
   "execution_count": 20,
   "metadata": {
    "collapsed": false
   },
   "outputs": [
    {
     "data": {
      "text/plain": [
       "4.291925465838509"
      ]
     },
     "execution_count": 20,
     "metadata": {},
     "output_type": "execute_result"
    }
   ],
   "source": [
    "691/161.0"
   ]
  },
  {
   "cell_type": "code",
   "execution_count": 5,
   "metadata": {
    "collapsed": false
   },
   "outputs": [],
   "source": [
    "chipseq = []\n",
    "for tf in tfs:\n",
    "    tf_class_id = tf.tf_id\n",
    "    if Matrix.objects.filter(tf_id=tf_class_id).exists() and ChipSeq.objects.filter(tf_id=tf_class_id).exists():\n",
    "        chipseq.append(tf_class_id)\n",
    "        \n",
    "    "
   ]
  },
  {
   "cell_type": "code",
   "execution_count": 6,
   "metadata": {
    "collapsed": false
   },
   "outputs": [],
   "source": [
    "pbms = []\n",
    "for tf in tfs:\n",
    "    tf_class_id = tf.tf_id\n",
    "    if Matrix.objects.filter(tf_id=tf_class_id).exists() and Pbm.objects.filter(tf_id=tf_class_id).exists():\n",
    "        pbms.append(tf_class_id)"
   ]
  },
  {
   "cell_type": "code",
   "execution_count": 7,
   "metadata": {
    "collapsed": false
   },
   "outputs": [
    {
     "ename": "NameError",
     "evalue": "name 'pbm_chip' is not defined",
     "output_type": "error",
     "traceback": [
      "\u001b[1;31m---------------------------------------------------------------------------\u001b[0m",
      "\u001b[1;31mNameError\u001b[0m                                 Traceback (most recent call last)",
      "\u001b[1;32m<ipython-input-7-62051dc372ca>\u001b[0m in \u001b[0;36m<module>\u001b[1;34m()\u001b[0m\n\u001b[0;32m      1\u001b[0m \u001b[0mover_10\u001b[0m \u001b[1;33m=\u001b[0m \u001b[1;33m[\u001b[0m\u001b[1;33m]\u001b[0m\u001b[1;33m\u001b[0m\u001b[0m\n\u001b[1;32m----> 2\u001b[1;33m \u001b[1;32mfor\u001b[0m \u001b[0mtf_class_id\u001b[0m \u001b[1;32min\u001b[0m \u001b[0mpbm_chip\u001b[0m\u001b[1;33m:\u001b[0m\u001b[1;33m\u001b[0m\u001b[0m\n\u001b[0m\u001b[0;32m      3\u001b[0m     \u001b[1;31m#tf_class_id = tf.tf_id\u001b[0m\u001b[1;33m\u001b[0m\u001b[1;33m\u001b[0m\u001b[0m\n\u001b[0;32m      4\u001b[0m     \u001b[1;32mif\u001b[0m \u001b[0mlen\u001b[0m\u001b[1;33m(\u001b[0m\u001b[0mMatrix\u001b[0m\u001b[1;33m.\u001b[0m\u001b[0mobjects\u001b[0m\u001b[1;33m.\u001b[0m\u001b[0mfilter\u001b[0m\u001b[1;33m(\u001b[0m\u001b[0mtf_id\u001b[0m\u001b[1;33m=\u001b[0m\u001b[0mtf_class_id\u001b[0m\u001b[1;33m)\u001b[0m\u001b[1;33m.\u001b[0m\u001b[0mall\u001b[0m\u001b[1;33m(\u001b[0m\u001b[1;33m)\u001b[0m\u001b[1;33m)\u001b[0m \u001b[1;33m>\u001b[0m \u001b[1;36m10\u001b[0m\u001b[1;33m:\u001b[0m\u001b[1;33m\u001b[0m\u001b[0m\n\u001b[0;32m      5\u001b[0m         \u001b[0mover_10\u001b[0m\u001b[1;33m.\u001b[0m\u001b[0mappend\u001b[0m\u001b[1;33m(\u001b[0m\u001b[0mtf_class_id\u001b[0m\u001b[1;33m)\u001b[0m\u001b[1;33m\u001b[0m\u001b[0m\n",
      "\u001b[1;31mNameError\u001b[0m: name 'pbm_chip' is not defined"
     ]
    }
   ],
   "source": [
    "over_10 = []\n",
    "for tf_class_id in pbm_chip:\n",
    "    #tf_class_id = tf.tf_id\n",
    "    if len(Matrix.objects.filter(tf_id=tf_class_id).all()) > 10:\n",
    "        over_10.append(tf_class_id)"
   ]
  },
  {
   "cell_type": "code",
   "execution_count": null,
   "metadata": {
    "collapsed": false
   },
   "outputs": [],
   "source": [
    "len(over_10)"
   ]
  },
  {
   "cell_type": "code",
   "execution_count": 8,
   "metadata": {
    "collapsed": true
   },
   "outputs": [],
   "source": [
    "full_list = open('/home/kipkurui/Project/Motif_Assessment/PAPER_Assessment_Data/NAR_Paper/Data/Pbm_Chip_details.txt')\n",
    "pbm_chip = []\n",
    "for line in full_list:\n",
    "    if line.startswith('Tf_id'):\n",
    "        continue\n",
    "    else:\n",
    "        pbm_chip.append(line.split()[0])"
   ]
  },
  {
   "cell_type": "code",
   "execution_count": 9,
   "metadata": {
    "collapsed": false,
    "scrolled": false
   },
   "outputs": [
    {
     "ename": "NameError",
     "evalue": "name 'in_all' is not defined",
     "output_type": "error",
     "traceback": [
      "\u001b[1;31m---------------------------------------------------------------------------\u001b[0m",
      "\u001b[1;31mNameError\u001b[0m                                 Traceback (most recent call last)",
      "\u001b[1;32m<ipython-input-9-407e846ea806>\u001b[0m in \u001b[0;36m<module>\u001b[1;34m()\u001b[0m\n\u001b[0;32m      1\u001b[0m \u001b[0mc\u001b[0m \u001b[1;33m=\u001b[0m \u001b[1;36m1\u001b[0m\u001b[1;33m\u001b[0m\u001b[0m\n\u001b[1;32m----> 2\u001b[1;33m \u001b[1;32mfor\u001b[0m \u001b[0mtf_id\u001b[0m \u001b[1;32min\u001b[0m \u001b[0min_all\u001b[0m\u001b[1;33m:\u001b[0m\u001b[1;33m\u001b[0m\u001b[0m\n\u001b[0m\u001b[0;32m      3\u001b[0m \u001b[1;33m\u001b[0m\u001b[0m\n\u001b[0;32m      4\u001b[0m     \u001b[1;32mif\u001b[0m \u001b[0mlen\u001b[0m\u001b[1;33m(\u001b[0m\u001b[0mMatrix\u001b[0m\u001b[1;33m.\u001b[0m\u001b[0mobjects\u001b[0m\u001b[1;33m.\u001b[0m\u001b[0mfilter\u001b[0m\u001b[1;33m(\u001b[0m\u001b[0mtf_id\u001b[0m\u001b[1;33m=\u001b[0m\u001b[0mtf_id\u001b[0m\u001b[1;33m)\u001b[0m\u001b[1;33m.\u001b[0m\u001b[0mall\u001b[0m\u001b[1;33m(\u001b[0m\u001b[1;33m)\u001b[0m\u001b[1;33m)\u001b[0m \u001b[1;33m>\u001b[0m \u001b[1;36m10\u001b[0m\u001b[1;33m:\u001b[0m\u001b[1;33m\u001b[0m\u001b[0m\n\u001b[0;32m      5\u001b[0m         \u001b[0mc\u001b[0m\u001b[1;33m+=\u001b[0m\u001b[1;36m1\u001b[0m\u001b[1;33m\u001b[0m\u001b[0m\n",
      "\u001b[1;31mNameError\u001b[0m: name 'in_all' is not defined"
     ]
    }
   ],
   "source": [
    "c = 1\n",
    "for tf_id in in_all:\n",
    "    \n",
    "    if len(Matrix.objects.filter(tf_id=tf_id).all()) > 10:\n",
    "        c+=1\n",
    "        print tf_id, ChipSeq.objects.filter(tf_id=tf_id).all()[0].tf_name, Pbm.objects.filter(tf_id=tf_id).all()[0].tf_name, len(Matrix.objects.filter(tf_id=tf_id).all())\n",
    "    #print "
   ]
  },
  {
   "cell_type": "code",
   "execution_count": 28,
   "metadata": {
    "collapsed": true
   },
   "outputs": [],
   "source": [
    "with open('/home/kipkurui/Project/Motif_Assessment/PAPER_Assessment_Data/NAR_Paper/Data/failed_pbm_details.txt', 'w') as details:\n",
    "    details.write('Tf_id\\tPbm_name\\n')\n",
    "    for tf_id in failed_pbm:\n",
    "#         if ChipSeq.objects.filter(tf_id=tf_id).exists():\n",
    "#             chip_name = ChipSeq.objects.filter(tf_id=tf_id).all()[0].tf_name\n",
    "#         else:\n",
    "#             chip_name = \"\"\n",
    "        if Pbm.objects.filter(tf_id=tf_id).exists():\n",
    "            pbm_name =  Pbm.objects.filter(tf_id=tf_id).all()[0].tf_name\n",
    "        else:\n",
    "            pbm_name = \"\"\n",
    "        \n",
    "        details.write('%s\\t%s\\n' % (tf_id, pbm_name))\n",
    "        "
   ]
  },
  {
   "cell_type": "markdown",
   "metadata": {},
   "source": [
    "### Extract the meme data from the database"
   ]
  },
  {
   "cell_type": "code",
   "execution_count": 8,
   "metadata": {
    "collapsed": true
   },
   "outputs": [],
   "source": [
    "def get_meme(ids, out):\n",
    "    data = MatrixData.objects.filter(matrix_id=ids.id)\n",
    "    a = []\n",
    "    c = []\n",
    "    g = []\n",
    "    t = []\n",
    "\n",
    "    for r in range(len(data)):\n",
    "        if data[r].row == \"A\":\n",
    "            a.append(data[r].val)\n",
    "        elif data[r].row == \"C\":\n",
    "            c.append(data[r].val)\n",
    "        elif data[r].row == \"G\":\n",
    "            g.append(data[r].val)\n",
    "        else:\n",
    "            t.append(data[r].val)\n",
    "    mid = ids.motif_id+\".\"+ids.collection\n",
    "    motif = (\"\\nMOTIF %s %s\\n\\n\" % (mid, ids.motif_name))\n",
    "    out.write(motif)\n",
    "\n",
    "    header = (\"letter-probability matrix: alength= 4 w= %s nsites= 20 E= 0\\n\" % (str(len(a)-1)))\n",
    "    out.write(header)\n",
    "    for j in range(1, len(a)):\n",
    "        write_out = (\"  %.6f\\t  %.6f\\t  %.6f\\t  %.6f\\t\\n\" % (a[j], float(c[j]), float(g[j]), float(t[j])))\n",
    "        out.write(write_out)"
   ]
  },
  {
   "cell_type": "code",
   "execution_count": 9,
   "metadata": {
    "collapsed": true
   },
   "outputs": [],
   "source": [
    "def run_get_meme_id(tf_class, out):\n",
    "    \"\"\"\n",
    "    Runs the fetch_motif.get_meme function that reads from database and writes output in meme format\n",
    "    :param tf_class:\n",
    "    :param out:\n",
    "    :return: Writes to file\n",
    "    \"\"\"\n",
    "    with open(out, 'a') as meme_out:\n",
    "        motifs = Matrix.objects.filter(tf_id=tf_class)\n",
    "        for i in motifs:\n",
    "            get_meme(i, meme_out)\n",
    "        meme_out.write(\"\\n\")"
   ]
  },
  {
   "cell_type": "code",
   "execution_count": 10,
   "metadata": {
    "collapsed": true
   },
   "outputs": [],
   "source": [
    "meme_head = '''MEME version 4.4\\n\n",
    "ALPHABET= ACGT\\n\\nstrands: + -\\n\n",
    "Background letter frequencies (from uniform background):\n",
    "A 0.25000 C 0.25000 G 0.25000 T 0.25000 \\n'''"
   ]
  },
  {
   "cell_type": "code",
   "execution_count": 90,
   "metadata": {
    "collapsed": false
   },
   "outputs": [],
   "source": [
    "for tf_id in pbm_chip:\n",
    "    out_meme_f = '/home/kipkurui/Project/Motif_Assessment/PAPER_Assessment_Data/NAR_Paper/Motifs/%s.meme' % tf_id\n",
    "    with open(out_meme_f, \"w\") as out_meme:\n",
    "        out_meme.write(meme_head)\n",
    "    run_get_meme_id(tf_id, out_meme_f)"
   ]
  },
  {
   "cell_type": "code",
   "execution_count": 7,
   "metadata": {
    "collapsed": true
   },
   "outputs": [],
   "source": [
    "def mkdir_p(path):\n",
    "    import os\n",
    "    try:\n",
    "        os.makedirs(path)\n",
    "    except OSError as exc:\n",
    "        if exc.errno == errno.EEXIST and os.path.isdir(path):\n",
    "            pass\n",
    "        else:\n",
    "            raise"
   ]
  },
  {
   "cell_type": "code",
   "execution_count": 10,
   "metadata": {
    "collapsed": true
   },
   "outputs": [],
   "source": [
    "chipid2name = {}\n",
    "for tf_id in chipseq:\n",
    "    chipid2name[tf_id] = ChipSeq.objects.filter(tf_id=tf_id).all()[0].tf_name"
   ]
  },
  {
   "cell_type": "code",
   "execution_count": 11,
   "metadata": {
    "collapsed": true
   },
   "outputs": [],
   "source": [
    "pbmid2name = {}\n",
    "for tf_id in pbms:\n",
    "    pbmid2name[tf_id] = Pbm.objects.filter(tf_id=tf_id).all()[0].tf_name"
   ]
  },
  {
   "cell_type": "code",
   "execution_count": 9,
   "metadata": {
    "collapsed": true
   },
   "outputs": [],
   "source": [
    "posneg_path = \"/home/kipkurui/Project/MAT_server/Data/ChIP-seq/Derived/Posneg\"\n",
    "import glob\n",
    "chip_seq_list = glob.glob('%s/%s/*' % (posneg_path, chipid2name['1.1.1.1.1']))"
   ]
  },
  {
   "cell_type": "code",
   "execution_count": 39,
   "metadata": {
    "collapsed": true
   },
   "outputs": [],
   "source": [
    "from MARST_Suite.Assess_by_score import run_all\n",
    "def run_chip(tf_id):\n",
    "    import glob\n",
    "    meme_path = \"/home/kipkurui/Project/Motif_Assessment/PAPER_Assessment_Data/NAR_Paper/Motifs/%s.meme\" % tf_id\n",
    "    posneg_path = \"/home/kipkurui/Project/MAT_server/Data/ChIP-seq/Derived/Posneg\"\n",
    "    chip_seq_list = glob.glob('%s/%s/*' % (posneg_path, chipid2name[tf_id]))\n",
    "    results_path = \"/home/kipkurui/Project/Motif_Assessment/PAPER_Assessment_Data/NAR_Paper/ChIP-seq/Results/%s\" % tf_id\n",
    "    #mkdir_p(results_path)\n",
    "    if os.path.isdir(results_path):\n",
    "        pass\n",
    "    else:\n",
    "        os.makedirs(results_path)\n",
    "    run_all(tf_id,'energyscore',meme_path,chip_seq_list,results_path)\n",
    "    "
   ]
  },
  {
   "cell_type": "code",
   "execution_count": 24,
   "metadata": {
    "collapsed": false
   },
   "outputs": [],
   "source": [
    "run_chip(tf_id)"
   ]
  },
  {
   "cell_type": "code",
   "execution_count": 35,
   "metadata": {
    "collapsed": true
   },
   "outputs": [],
   "source": [
    "from MARST_Suite.Assess_by_score_pbm import run_all_pbm, get_pbm_possitives\n",
    "import os\n",
    "passed_pbm = []\n",
    "failed_pbm = []\n",
    "def run_pbm(tf_id):\n",
    "    import glob\n",
    "    meme_path = \"/home/kipkurui/Project/Motif_Assessment/PAPER_Assessment_Data/NAR_Paper/Motifs/%s.meme\" % tf_id\n",
    "    posneg_path = \"/home/kipkurui/Project/MAT_server/Data/PBM\"\n",
    "    pbm_list = glob.glob('%s/%s/*' % (posneg_path, pbmid2name[tf_id]))\n",
    "\n",
    "    pbm_list_clean = []\n",
    "    for pbm in pbm_list:\n",
    "        if get_pbm_possitives(pbm) > 10:\n",
    "            pbm_list_clean.append(pbm)\n",
    "    if len(pbm_list_clean) > 0:\n",
    "        results_path = \"/home/kipkurui/Project/Motif_Assessment/PAPER_Assessment_Data/NAR_Paper/PBM/Results/%s\" % tf_id\n",
    "        #mkdir_p(results_path)\n",
    "        passed_pbm.append(tf_id)\n",
    "        #run_all_pbm(tf_id,'energyscore',meme_path, pbm_list_clean,results_path)\n",
    "    else:\n",
    "        failed_pbm.append(tf_id)\n",
    "    "
   ]
  },
  {
   "cell_type": "code",
   "execution_count": 24,
   "metadata": {
    "collapsed": false
   },
   "outputs": [],
   "source": [
    "for tf_id in pbms:\n",
    "    run_pbm(tf_id)"
   ]
  },
  {
   "cell_type": "code",
   "execution_count": 45,
   "metadata": {
    "collapsed": false
   },
   "outputs": [],
   "source": [
    "for tf_id in chip_seq:\n",
    "    run_chip(tf_id)"
   ]
  },
  {
   "cell_type": "markdown",
   "metadata": {
    "collapsed": true
   },
   "source": [
    "### Run Gimme analsysis"
   ]
  },
  {
   "cell_type": "code",
   "execution_count": 10,
   "metadata": {
    "collapsed": true
   },
   "outputs": [],
   "source": [
    "def tab2fasta(posneg, fasta, background):\n",
    "    i = 0\n",
    "    #print fasta\n",
    "    with open(posneg) as tab:\n",
    "        with open(fasta, 'w') as fa:\n",
    "            with open(background, 'w') as bg:\n",
    "                for line in tab:\n",
    "                    details = line.split()\n",
    "                    if len(details) == 2:\n",
    "                        pos = 1\n",
    "                    else:\n",
    "                        pos = 2\n",
    "                    if i < 500:\n",
    "                        fa.write(\">\"+line.split()[0]+'\\n'+line.split()[pos]+\"\\n\")\n",
    "                    else:\n",
    "                        bg.write(\">\"+line.split()[0]+'\\n'+line.split()[pos]+\"\\n\")\n",
    "                    i += 1\n",
    "\n",
    "def meme2gimme(meme, gimme):\n",
    "    with open(meme) as motif:\n",
    "        with open(gimme, 'w') as gmotif:\n",
    "            for line in motif:\n",
    "                if line.startswith(\"MOTIF\"):\n",
    "                    if len(line.split(\" \")) > 2:\n",
    "                        gmotif.write(\">\"+line.split(\" \")[1]+\"\\n\")\n",
    "                    else:\n",
    "                        gmotif.write(\">\"+line.split(\" \")[1])\n",
    "                elif line.startswith('letter-probability'):\n",
    "                    continue\n",
    "                elif line.startswith('  '):\n",
    "                    a = line.split()\n",
    "                    if len(a)>0:\n",
    "                        gmotif.write(a[0]+'\\t'+a[1]+'\\t'+a[2]+'\\t'+a[3]+'\\n')\n",
    "                    else:\n",
    "                        continue\n",
    "                elif line.startswith(\"\\n\"):\n",
    "                    continue\n",
    "                else:\n",
    "                    continue\n",
    "\n",
    "def run_gimme(tf_id):\n",
    "    import os\n",
    "    import glob\n",
    "    meme_path = \"/home/kipkurui/Project/Motif_Assessment/PAPER_Assessment_Data/NAR_Paper/Motifs/%s.meme\" % tf_id\n",
    "    posneg_path = \"/home/kipkurui/Project/MAT_server/Data/ChIP-seq/Derived/Posneg\"\n",
    "    chip_seq_list = glob.glob('%s/%s/*' % (posneg_path, chipid2name[tf_id]))\n",
    "    results_path = \"/home/kipkurui/Project/Motif_Assessment/PAPER_Assessment_Data/NAR_Paper/GimmeRoc/%s\" % tf_id\n",
    "    #mkdir_p(results_path)\n",
    "    if os.path.isdir(results_path):\n",
    "        pass\n",
    "    else:\n",
    "        os.makedirs(results_path)\n",
    "    \n",
    "    #run_all(tf_id,'energyscore',meme_path,chip_seq_list,results_path)\n",
    "    #files_path = '%s/%s' % (results_path, tf_id)\n",
    "    pwm = '%s/%s.pwm' % (results_path, tf_id)\n",
    "    meme2gimme(meme_path, pwm)\n",
    "    \n",
    "    for chip_seq in chip_seq_list:\n",
    "        file_name = chip_seq.split('/')[-1].split('.')[0]\n",
    "        \n",
    "        Tf_path = '%s/%s' % (results_path, file_name)\n",
    "        \n",
    "        tab2fasta(chip_seq, \"%s.fa\" % Tf_path, '%s.bg' % Tf_path)\n",
    "    \n",
    "        \n",
    "        !gimme roc {pwm} {Tf_path}.fa {Tf_path}.bg >>{results_path}/{tf_id}_gimme_metrics.txt\n",
    "        \n",
    "        #os.system(\"gimme roc %s/%s.pwm %s/%s.fa %s/%s.bg >>%s/%s_gimme_metrics.txt\" %\n",
    "#                   #(files_path, tf, files_path, file_name, files_path, file_name, files_path, tf))\n",
    "#     import glob\n",
    "#     for i in glob.glob('tmp/*'):\n",
    "#         os.remove(i)\n",
    "\n",
    "def clean_gimme(gimme_in, gimme_out):\n",
    "    \"\"\"\n",
    "    Function that cleans the GIMME output for the purpose of plotting the data\n",
    "    \"\"\"\n",
    "    with open(gimme_in) as gim:\n",
    "        with open(gimme_out, 'w') as outs:\n",
    "            outs.write(\"Motif\tROC AUC\tMNCP\tMax f-measure\tSens @ max f-measure\\n\")\n",
    "            for line in gim:\n",
    "                if line.startswith(\"Motif\"):\n",
    "                    continue\n",
    "                else:\n",
    "                    outs.write(line)"
   ]
  },
  {
   "cell_type": "code",
   "execution_count": 18,
   "metadata": {
    "collapsed": false
   },
   "outputs": [
    {
     "name": "stdout",
     "output_type": "stream",
     "text": [
      "failed to initialize cache\n",
      "global name 'make_region' is not defined\n",
      "Traceback (most recent call last):\n",
      "  File \"/home/kipkurui/anaconda2/envs/MAT_server/bin/gimme\", line 469, in <module>\n",
      "    args.func(args)\n",
      "  File \"/home/kipkurui/anaconda2/envs/MAT_server/lib/python2.7/site-packages/gimmemotifs/commands/roc.py\", line 40, in roc\n",
      "    for scores in s.best_score(fg_file):\n",
      "  File \"/home/kipkurui/anaconda2/envs/MAT_server/lib/python2.7/site-packages/gimmemotifs/scanner.py\", line 270, in best_score\n",
      "    for matches in self.scan(seqs, 1, scan_rc, cutoff=0):\n",
      "  File \"/home/kipkurui/anaconda2/envs/MAT_server/lib/python2.7/site-packages/gimmemotifs/scanner.py\", line 355, in scan\n",
      "    for result in it:\n",
      "  File \"/home/kipkurui/anaconda2/envs/MAT_server/lib/python2.7/site-packages/gimmemotifs/scanner.py\", line 418, in _scan_sequences\n",
      "    motif_digest = self.checksum[motif_file]\n",
      "KeyError: '/home/kipkurui/Project/Motif_Assessment/PAPER_Assessment_Data/NAR_Paper/GimmeRoc/1.1.1.1.1/1.1.1.1.1.pwm'\n",
      "failed to initialize cache\n",
      "global name 'make_region' is not defined\n",
      "Traceback (most recent call last):\n",
      "  File \"/home/kipkurui/anaconda2/envs/MAT_server/bin/gimme\", line 469, in <module>\n",
      "    args.func(args)\n",
      "  File \"/home/kipkurui/anaconda2/envs/MAT_server/lib/python2.7/site-packages/gimmemotifs/commands/roc.py\", line 40, in roc\n",
      "    for scores in s.best_score(fg_file):\n",
      "  File \"/home/kipkurui/anaconda2/envs/MAT_server/lib/python2.7/site-packages/gimmemotifs/scanner.py\", line 270, in best_score\n",
      "    for matches in self.scan(seqs, 1, scan_rc, cutoff=0):\n",
      "  File \"/home/kipkurui/anaconda2/envs/MAT_server/lib/python2.7/site-packages/gimmemotifs/scanner.py\", line 355, in scan\n",
      "    for result in it:\n",
      "  File \"/home/kipkurui/anaconda2/envs/MAT_server/lib/python2.7/site-packages/gimmemotifs/scanner.py\", line 418, in _scan_sequences\n",
      "    motif_digest = self.checksum[motif_file]\n",
      "KeyError: '/home/kipkurui/Project/Motif_Assessment/PAPER_Assessment_Data/NAR_Paper/GimmeRoc/1.1.1.1.1/1.1.1.1.1.pwm'\n",
      "failed to initialize cache\n",
      "global name 'make_region' is not defined\n",
      "Traceback (most recent call last):\n",
      "  File \"/home/kipkurui/anaconda2/envs/MAT_server/bin/gimme\", line 469, in <module>\n",
      "    args.func(args)\n",
      "  File \"/home/kipkurui/anaconda2/envs/MAT_server/lib/python2.7/site-packages/gimmemotifs/commands/roc.py\", line 40, in roc\n",
      "    for scores in s.best_score(fg_file):\n",
      "  File \"/home/kipkurui/anaconda2/envs/MAT_server/lib/python2.7/site-packages/gimmemotifs/scanner.py\", line 270, in best_score\n",
      "    for matches in self.scan(seqs, 1, scan_rc, cutoff=0):\n",
      "  File \"/home/kipkurui/anaconda2/envs/MAT_server/lib/python2.7/site-packages/gimmemotifs/scanner.py\", line 355, in scan\n",
      "    for result in it:\n",
      "  File \"/home/kipkurui/anaconda2/envs/MAT_server/lib/python2.7/site-packages/gimmemotifs/scanner.py\", line 418, in _scan_sequences\n",
      "    motif_digest = self.checksum[motif_file]\n",
      "KeyError: '/home/kipkurui/Project/Motif_Assessment/PAPER_Assessment_Data/NAR_Paper/GimmeRoc/1.1.1.1.1/1.1.1.1.1.pwm'\n",
      "failed to initialize cache\n",
      "global name 'make_region' is not defined\n",
      "Traceback (most recent call last):\n",
      "  File \"/home/kipkurui/anaconda2/envs/MAT_server/bin/gimme\", line 469, in <module>\n",
      "    args.func(args)\n",
      "  File \"/home/kipkurui/anaconda2/envs/MAT_server/lib/python2.7/site-packages/gimmemotifs/commands/roc.py\", line 40, in roc\n",
      "    for scores in s.best_score(fg_file):\n",
      "  File \"/home/kipkurui/anaconda2/envs/MAT_server/lib/python2.7/site-packages/gimmemotifs/scanner.py\", line 270, in best_score\n",
      "    for matches in self.scan(seqs, 1, scan_rc, cutoff=0):\n",
      "  File \"/home/kipkurui/anaconda2/envs/MAT_server/lib/python2.7/site-packages/gimmemotifs/scanner.py\", line 355, in scan\n",
      "    for result in it:\n",
      "  File \"/home/kipkurui/anaconda2/envs/MAT_server/lib/python2.7/site-packages/gimmemotifs/scanner.py\", line 418, in _scan_sequences\n",
      "    motif_digest = self.checksum[motif_file]\n",
      "KeyError: '/home/kipkurui/Project/Motif_Assessment/PAPER_Assessment_Data/NAR_Paper/GimmeRoc/1.1.1.1.1/1.1.1.1.1.pwm'\n",
      "failed to initialize cache\n",
      "global name 'make_region' is not defined\n",
      "Traceback (most recent call last):\n",
      "  File \"/home/kipkurui/anaconda2/envs/MAT_server/bin/gimme\", line 469, in <module>\n",
      "    args.func(args)\n",
      "  File \"/home/kipkurui/anaconda2/envs/MAT_server/lib/python2.7/site-packages/gimmemotifs/commands/roc.py\", line 40, in roc\n",
      "    for scores in s.best_score(fg_file):\n",
      "  File \"/home/kipkurui/anaconda2/envs/MAT_server/lib/python2.7/site-packages/gimmemotifs/scanner.py\", line 270, in best_score\n",
      "    for matches in self.scan(seqs, 1, scan_rc, cutoff=0):\n",
      "  File \"/home/kipkurui/anaconda2/envs/MAT_server/lib/python2.7/site-packages/gimmemotifs/scanner.py\", line 355, in scan\n",
      "    for result in it:\n",
      "  File \"/home/kipkurui/anaconda2/envs/MAT_server/lib/python2.7/site-packages/gimmemotifs/scanner.py\", line 418, in _scan_sequences\n",
      "    motif_digest = self.checksum[motif_file]\n",
      "KeyError: '/home/kipkurui/Project/Motif_Assessment/PAPER_Assessment_Data/NAR_Paper/GimmeRoc/1.1.1.1.1/1.1.1.1.1.pwm'\n",
      "failed to initialize cache\n",
      "global name 'make_region' is not defined\n",
      "Traceback (most recent call last):\n",
      "  File \"/home/kipkurui/anaconda2/envs/MAT_server/bin/gimme\", line 469, in <module>\n",
      "    args.func(args)\n",
      "  File \"/home/kipkurui/anaconda2/envs/MAT_server/lib/python2.7/site-packages/gimmemotifs/commands/roc.py\", line 40, in roc\n",
      "    for scores in s.best_score(fg_file):\n",
      "  File \"/home/kipkurui/anaconda2/envs/MAT_server/lib/python2.7/site-packages/gimmemotifs/scanner.py\", line 270, in best_score\n",
      "    for matches in self.scan(seqs, 1, scan_rc, cutoff=0):\n",
      "  File \"/home/kipkurui/anaconda2/envs/MAT_server/lib/python2.7/site-packages/gimmemotifs/scanner.py\", line 355, in scan\n",
      "    for result in it:\n",
      "  File \"/home/kipkurui/anaconda2/envs/MAT_server/lib/python2.7/site-packages/gimmemotifs/scanner.py\", line 418, in _scan_sequences\n",
      "    motif_digest = self.checksum[motif_file]\n",
      "KeyError: '/home/kipkurui/Project/Motif_Assessment/PAPER_Assessment_Data/NAR_Paper/GimmeRoc/1.1.1.1.1/1.1.1.1.1.pwm'\n",
      "failed to initialize cache\n",
      "global name 'make_region' is not defined\n",
      "Traceback (most recent call last):\n",
      "  File \"/home/kipkurui/anaconda2/envs/MAT_server/bin/gimme\", line 469, in <module>\n",
      "    args.func(args)\n",
      "  File \"/home/kipkurui/anaconda2/envs/MAT_server/lib/python2.7/site-packages/gimmemotifs/commands/roc.py\", line 40, in roc\n",
      "    for scores in s.best_score(fg_file):\n",
      "  File \"/home/kipkurui/anaconda2/envs/MAT_server/lib/python2.7/site-packages/gimmemotifs/scanner.py\", line 270, in best_score\n",
      "    for matches in self.scan(seqs, 1, scan_rc, cutoff=0):\n",
      "  File \"/home/kipkurui/anaconda2/envs/MAT_server/lib/python2.7/site-packages/gimmemotifs/scanner.py\", line 355, in scan\n",
      "    for result in it:\n",
      "  File \"/home/kipkurui/anaconda2/envs/MAT_server/lib/python2.7/site-packages/gimmemotifs/scanner.py\", line 418, in _scan_sequences\n",
      "    motif_digest = self.checksum[motif_file]\n",
      "KeyError: '/home/kipkurui/Project/Motif_Assessment/PAPER_Assessment_Data/NAR_Paper/GimmeRoc/1.1.1.1.1/1.1.1.1.1.pwm'\n",
      "failed to initialize cache\n",
      "global name 'make_region' is not defined\n",
      "Traceback (most recent call last):\n",
      "  File \"/home/kipkurui/anaconda2/envs/MAT_server/bin/gimme\", line 469, in <module>\n",
      "    args.func(args)\n",
      "  File \"/home/kipkurui/anaconda2/envs/MAT_server/lib/python2.7/site-packages/gimmemotifs/commands/roc.py\", line 40, in roc\n",
      "    for scores in s.best_score(fg_file):\n",
      "  File \"/home/kipkurui/anaconda2/envs/MAT_server/lib/python2.7/site-packages/gimmemotifs/scanner.py\", line 270, in best_score\n",
      "    for matches in self.scan(seqs, 1, scan_rc, cutoff=0):\n",
      "  File \"/home/kipkurui/anaconda2/envs/MAT_server/lib/python2.7/site-packages/gimmemotifs/scanner.py\", line 355, in scan\n",
      "    for result in it:\n",
      "  File \"/home/kipkurui/anaconda2/envs/MAT_server/lib/python2.7/site-packages/gimmemotifs/scanner.py\", line 418, in _scan_sequences\n",
      "    motif_digest = self.checksum[motif_file]\n",
      "KeyError: '/home/kipkurui/Project/Motif_Assessment/PAPER_Assessment_Data/NAR_Paper/GimmeRoc/1.1.1.1.1/1.1.1.1.1.pwm'\n",
      "failed to initialize cache\n",
      "global name 'make_region' is not defined\n",
      "Traceback (most recent call last):\n",
      "  File \"/home/kipkurui/anaconda2/envs/MAT_server/bin/gimme\", line 469, in <module>\n",
      "    args.func(args)\n",
      "  File \"/home/kipkurui/anaconda2/envs/MAT_server/lib/python2.7/site-packages/gimmemotifs/commands/roc.py\", line 40, in roc\n",
      "    for scores in s.best_score(fg_file):\n",
      "  File \"/home/kipkurui/anaconda2/envs/MAT_server/lib/python2.7/site-packages/gimmemotifs/scanner.py\", line 270, in best_score\n",
      "    for matches in self.scan(seqs, 1, scan_rc, cutoff=0):\n",
      "  File \"/home/kipkurui/anaconda2/envs/MAT_server/lib/python2.7/site-packages/gimmemotifs/scanner.py\", line 355, in scan\n",
      "    for result in it:\n",
      "  File \"/home/kipkurui/anaconda2/envs/MAT_server/lib/python2.7/site-packages/gimmemotifs/scanner.py\", line 418, in _scan_sequences\n",
      "    motif_digest = self.checksum[motif_file]\n",
      "KeyError: '/home/kipkurui/Project/Motif_Assessment/PAPER_Assessment_Data/NAR_Paper/GimmeRoc/1.1.1.1.1/1.1.1.1.1.pwm'\n"
     ]
    }
   ],
   "source": [
    "tf_id = \"1.1.1.1.1\"\n",
    "#meme_path = \"/home/kipkurui/Project/Motif_Assessment/PAPER_Assessment_Data/NAR_Paper/Motifs/1.1.1.1.1.meme\"\n",
    "run_gimme(tf_id)"
   ]
  },
  {
   "cell_type": "code",
   "execution_count": 40,
   "metadata": {
    "collapsed": false,
    "scrolled": true
   },
   "outputs": [
    {
     "data": {
      "text/plain": [
       "[u'1.1.1.1.1',\n",
       " u'1.1.1.1.2',\n",
       " u'1.1.1.1.3',\n",
       " u'1.1.1.2.1',\n",
       " u'1.1.1.2.2',\n",
       " u'1.1.1.2.5',\n",
       " u'1.1.1.3.1',\n",
       " u'1.1.2.1.1',\n",
       " u'1.1.2.1.3',\n",
       " u'1.1.2.1.4',\n",
       " u'1.1.2.2.1',\n",
       " u'1.1.3.2.1',\n",
       " u'1.1.3.2.3',\n",
       " u'1.1.4.0.1',\n",
       " u'1.1.7.1.1',\n",
       " u'1.1.7.1.2',\n",
       " u'1.1.8.1.2',\n",
       " u'1.1.8.1.4',\n",
       " u'1.2.1.0.1',\n",
       " u'1.2.1.0.3',\n",
       " u'1.2.3.1.1',\n",
       " u'1.2.4.1.12',\n",
       " u'1.2.6.2.1',\n",
       " u'1.2.6.2.2',\n",
       " u'1.2.6.5.1',\n",
       " u'1.2.6.5.5',\n",
       " u'1.2.6.7.5',\n",
       " u'1.3.1.0.1',\n",
       " u'2.1.1.1.1',\n",
       " u'2.1.1.2.1',\n",
       " u'2.1.1.2.3',\n",
       " u'2.1.3.1.1',\n",
       " u'2.1.3.2.1',\n",
       " u'2.1.3.2.2',\n",
       " u'2.1.3.4.2',\n",
       " u'2.1.3.5.2',\n",
       " u'2.2.1.1.1',\n",
       " u'2.2.1.1.2',\n",
       " u'2.2.1.1.3',\n",
       " u'2.2.1.2.7',\n",
       " u'2.3.1.1.1',\n",
       " u'2.3.1.1.2',\n",
       " u'2.3.1.1.4',\n",
       " u'2.3.1.3.1',\n",
       " u'2.3.2.1.12',\n",
       " u'2.3.3.0.6',\n",
       " u'2.3.3.0.79',\n",
       " u'2.3.3.10.6',\n",
       " u'2.3.3.12.1',\n",
       " u'2.3.3.28.2',\n",
       " u'2.3.3.50.1',\n",
       " u'2.3.3.50.2',\n",
       " u'2.3.3.8.1',\n",
       " u'2.3.3.9.1',\n",
       " u'2.3.4.0.27',\n",
       " u'2.3.4.15.1',\n",
       " u'2.3.4.2.4',\n",
       " u'2.3.4.4.1',\n",
       " u'2.3.4.8.1',\n",
       " u'2.9.1.0.1',\n",
       " u'3.1.10.2.2',\n",
       " u'3.1.10.5.1',\n",
       " u'3.1.2.12.1',\n",
       " u'3.1.4.4.3',\n",
       " u'3.1.6.3.2',\n",
       " u'3.1.8.3.1',\n",
       " u'3.2.2.2.2',\n",
       " u'3.3.1.1.1',\n",
       " u'3.3.1.1.2',\n",
       " u'3.3.1.13.1',\n",
       " u'3.3.1.16.2',\n",
       " u'3.3.2.1.1',\n",
       " u'3.3.2.1.4',\n",
       " u'3.3.2.1.6',\n",
       " u'3.3.3.0.5',\n",
       " u'3.4.1.0.1',\n",
       " u'3.5.1.1.1',\n",
       " u'3.5.1.6.3',\n",
       " u'3.5.1.6.4',\n",
       " u'3.5.2.1.1',\n",
       " u'3.5.2.1.4',\n",
       " u'3.5.2.2.1',\n",
       " u'3.5.2.2.3',\n",
       " u'3.5.2.3.1',\n",
       " u'3.5.2.5.1',\n",
       " u'3.5.3.0.1',\n",
       " u'3.5.3.0.3',\n",
       " u'3.5.3.0.4',\n",
       " u'3.6.1.0.2',\n",
       " u'3.7.1.3.1',\n",
       " u'3.7.1.4.2',\n",
       " u'3.7.1.6.1',\n",
       " u'3.7.1.6.2',\n",
       " u'4.1.3.0.3',\n",
       " u'4.1.3.0.5',\n",
       " u'4.1.6.1.1',\n",
       " u'4.2.1.0.1',\n",
       " u'4.2.1.0.2',\n",
       " u'5.1.1.1.1',\n",
       " u'5.1.1.1.3',\n",
       " u'5.1.2.0.1',\n",
       " u'6.1.1.2.1',\n",
       " u'6.1.2.1.8',\n",
       " u'6.1.3.0.1',\n",
       " u'6.1.5.0.1',\n",
       " u'6.2.1.0.1',\n",
       " u'6.2.1.0.2',\n",
       " u'6.2.1.0.3',\n",
       " u'6.2.1.0.5',\n",
       " u'6.4.1.0.3',\n",
       " u'7.1.2.0.3',\n",
       " u'8.1.1.0.1']"
      ]
     },
     "execution_count": 40,
     "metadata": {},
     "output_type": "execute_result"
    }
   ],
   "source": [
    "chipseq"
   ]
  },
  {
   "cell_type": "code",
   "execution_count": 21,
   "metadata": {
    "collapsed": false
   },
   "outputs": [
    {
     "data": {
      "text/plain": [
       "26L"
      ]
     },
     "execution_count": 21,
     "metadata": {},
     "output_type": "execute_result"
    }
   ],
   "source": [
    "chi_id"
   ]
  },
  {
   "cell_type": "code",
   "execution_count": 46,
   "metadata": {
    "collapsed": false
   },
   "outputs": [
    {
     "name": "stdout",
     "output_type": "stream",
     "text": [
      "['wgEncodeAwgTfbsUchicagoK562EjunbUniPk.narrowPeak']\n",
      "/home/kipkurui/Project/MAT_server/Data/ChIP-seq/Downloaded/wgEncodeAwgTfbsUchicagoK562EjunbUniPk.narrowPeak\n",
      "cut: write error: Broken pipe\n",
      "(echo -n \">\"; cat <&0) | sed \"s/^>/\\x0>/\""
     ]
    }
   ],
   "source": [
    "import os\n",
    "\n",
    "#for tf_id in chipseq:\n",
    "tf_id = '1.1.1.1.2'\n",
    "results_path = \"/home/kipkurui/Project/Motif_Assessment/PAPER_Assessment_Data/NAR_Paper/GimmeMars/%s\" % tf_id\n",
    "if os.path.isdir(results_path):\n",
    "    pass\n",
    "else:\n",
    "    os.makedirs(results_path)\n",
    "\n",
    "\n",
    "chip_id = ChipSeq.objects.filter(tf_id=tf_id).all()[0].chip_id\n",
    "i = 1\n",
    "peaks = ChipData.objects.filter(chip_id=chip_id).all()\n",
    "peaks = ['wgEncodeAwgTfbsUchicagoK562EjunbUniPk.narrowPeak']\n",
    "print peaks\n",
    "for raw in peaks:\n",
    "    raw_chip = \"/home/kipkurui/Project/MAT_server/Data/ChIP-seq/Downloaded/%s\" % raw\n",
    "    print raw_chip\n",
    "    !cut -f1,2,3 {raw_chip}| head -500 |bed-widen -width 100 >{results_path}/{tf_id}-{i}.bed\n",
    "    i+=1\n",
    "for i in range(1,len(peaks)+1):\n",
    "    !fastaFromBed -fi /home/kipkurui/Project/MAT_server/Data/hg19.fa -bed {results_path}/{tf_id}-{i}.bed -fo {results_path}/{tf_id}-{i}.fa\n",
    "\n",
    "!cat {results_path}/{tf_id}-*.fa | /home/kipkurui/Project/Others_work/seq-shuf.pl >{results_path}/Combined_{tf_id}.fa\n",
    "\n",
    "a = !wc -l {results_path}/Combined_{tf_id}.fa |cut -f1 -d\" \"\n",
    "\n",
    "!head -{(int(a[0])*4)/5} {results_path}/Combined_{tf_id}.fa >{results_path}/{tf_id}_discover.fa\n",
    "\n",
    "!tail -{int(a[0])/5} {results_path}/Combined_{tf_id}.fa >{results_path}/{tf_id}_test.fa"
   ]
  },
  {
   "cell_type": "code",
   "execution_count": 39,
   "metadata": {
    "collapsed": false
   },
   "outputs": [
    {
     "name": "stdout",
     "output_type": "stream",
     "text": [
      "Invalid value for background argument\r\n"
     ]
    }
   ],
   "source": [
    "!gimme motifs {results_path}/{tf_id}_discover.fa -k -t MDmodule,MEME,MotifSampler,trawler,Improbizer,BioProspector,Posmo,ChIPMunk,AMD,HMS,Homer -n {results_path}/{tf_id}_discover"
   ]
  },
  {
   "cell_type": "markdown",
   "metadata": {},
   "source": [
    "### Prepare the data for CentriMo analysis"
   ]
  },
  {
   "cell_type": "code",
   "execution_count": 35,
   "metadata": {
    "collapsed": false
   },
   "outputs": [
    {
     "name": "stdout",
     "output_type": "stream",
     "text": [
      "cut: write error: Broken pipe\n",
      "cut: write error: Broken pipe\n",
      "cut: write error: Broken pipe\n",
      "cut: write error: Broken pipe\n",
      "cut: write error: Broken pipe\n",
      "cut: write error: Broken pipe\n",
      "cut: write error: Broken pipe\n",
      "cut: write error: Broken pipe\n",
      "cut: write error: Broken pipe\n",
      "cut: write error: Broken pipe\n"
     ]
    }
   ],
   "source": [
    "import os\n",
    "# top_10 = [u'5.1.1.1.3', u'1.1.2.1.4', u'6.4.1.0.3', u'3.1.10.5.1', u'6.2.1.0.3',\n",
    "#        u'2.1.3.2.1', u'4.2.1.0.1', u'3.5.2.5.1', u'1.2.6.2.1', u'3.3.1.1.1']\n",
    "bottom_10 = [u'3.5.2.1.1', u'2.1.3.4.2', u'6.1.3.0.1', u'3.3.1.16.2', u'3.7.1.3.1',\n",
    "       u'2.3.1.1.1', u'2.3.1.1.2', u'2.3.4.2.4', u'6.1.2.1.8', u'3.5.3.0.3']\n",
    "for tf_id in bottom_10:\n",
    "    results_path = \"/home/kipkurui/Project/Motif_Assessment/PAPER_Assessment_Data/NAR_Paper/Centrimo/%s\" % tf_id\n",
    "    if os.path.isdir(results_path):\n",
    "        pass\n",
    "    else:\n",
    "        os.makedirs(results_path)\n",
    "    chip_id = ChipSeq.objects.filter(tf_id=tf_id).all()[0].chip_id\n",
    "    peaks = ChipData.objects.filter(chip_id=chip_id).all()\n",
    "    raw = peaks[0].raw\n",
    "    raw_chip = \"/home/kipkurui/Project/MAT_server/Data/ChIP-seq/Downloaded/%s\" % raw\n",
    "    !cut -f1,2,3 {raw_chip}| head -1000 |bed-widen -width 500 >{results_path}/{tf_id}.bed\n",
    "    !fastaFromBed -fi /home/kipkurui/Project/MAT_server/Data/hg19.fa -bed {results_path}/{tf_id}.bed -fo {results_path}/{tf_id}.fa"
   ]
  },
  {
   "cell_type": "code",
   "execution_count": 39,
   "metadata": {
    "collapsed": false
   },
   "outputs": [],
   "source": [
    "bottom_10 = [u'3.5.2.1.1', u'2.1.3.4.2', u'6.1.3.0.1', u'3.3.1.16.2', u'3.7.1.3.1',\n",
    "       u'2.3.1.1.1', u'2.3.1.1.2', u'2.3.4.2.4', u'6.1.2.1.8', u'3.5.3.0.3']"
   ]
  },
  {
   "cell_type": "code",
   "execution_count": 42,
   "metadata": {
    "collapsed": false
   },
   "outputs": [
    {
     "name": "stdout",
     "output_type": "stream",
     "text": [
      "(u'3.5.2.1.1', u'Ets1')\n",
      "(u'2.1.3.4.2', u'Tr4')\n",
      "(u'6.1.3.0.1', u'Nfatc1')\n",
      "(u'3.3.1.16.2', u'Foxp2')\n",
      "(u'3.7.1.3.1', u'Arid3a')\n",
      "(u'2.3.1.1.1', u'Sp1')\n",
      "(u'2.3.1.1.2', u'Sp2')\n",
      "(u'2.3.4.2.4', u'Znf217')\n",
      "(u'6.1.2.1.8', u'Bcl3')\n",
      "(u'3.5.3.0.3', u'Irf3')\n"
     ]
    }
   ],
   "source": [
    "for tf_id in bottom_10:\n",
    "    print(tf_id, chipid2name[tf_id])"
   ]
  },
  {
   "cell_type": "code",
   "execution_count": 44,
   "metadata": {
    "collapsed": false
   },
   "outputs": [
    {
     "name": "stdout",
     "output_type": "stream",
     "text": [
      "(u'5.1.1.1.3', u'Mef2c')\n",
      "(u'1.1.2.1.4', u'Fosl2')\n",
      "(u'6.4.1.0.3', u'Runx3')\n",
      "(u'3.1.10.5.1', u'Pou5f1')\n",
      "(u'6.2.1.0.3', u'Stat3')\n",
      "(u'2.1.3.2.1', u'Hnf4a')\n",
      "(u'4.2.1.0.1', u'Nfya')\n",
      "(u'3.5.2.5.1', u'Pu1')\n",
      "(u'1.2.6.2.1', u'Usf1')\n",
      "(u'3.3.1.1.1', u'Foxa1')\n"
     ]
    }
   ],
   "source": [
    "for tf_id in top_10:\n",
    "    print(tf_id, chipid2name[tf_id])"
   ]
  },
  {
   "cell_type": "code",
   "execution_count": 16,
   "metadata": {
    "collapsed": false
   },
   "outputs": [
    {
     "data": {
      "text/plain": [
       "u'wgEncodeAwgTfbsSydhH1hescCjunIggrabUniPk.narrowPeak'"
      ]
     },
     "execution_count": 16,
     "metadata": {},
     "output_type": "execute_result"
    }
   ],
   "source": [
    "peaks[0].raw"
   ]
  },
  {
   "cell_type": "code",
   "execution_count": 21,
   "metadata": {
    "collapsed": false
   },
   "outputs": [
    {
     "name": "stdout",
     "output_type": "stream",
     "text": [
      "/bin/sh: 1: meme_file: not found\r\n"
     ]
    }
   ],
   "source": [
    "meme_file = \"/home/kipkurui/Project/Motif_Assessment/PAPER_Assessment_Data/NAR_Paper/Motifs/All_motifs.meme\""
   ]
  },
  {
   "cell_type": "code",
   "execution_count": 31,
   "metadata": {
    "collapsed": true
   },
   "outputs": [],
   "source": [
    "top_10 = [u'5.1.1.1.3', u'1.1.2.1.4', u'6.4.1.0.3', u'3.1.10.5.1', u'6.2.1.0.3',\n",
    "       u'2.1.3.2.1', u'4.2.1.0.1', u'3.5.2.5.1', u'1.2.6.2.1', u'3.3.1.1.1']"
   ]
  },
  {
   "cell_type": "code",
   "execution_count": 36,
   "metadata": {
    "collapsed": true
   },
   "outputs": [],
   "source": [
    "meme_file = \"/home/kipkurui/Project/Motif_Assessment/PAPER_Assessment_Data/NAR_Paper/Motifs/All_motifs.meme\""
   ]
  },
  {
   "cell_type": "code",
   "execution_count": 37,
   "metadata": {
    "collapsed": false
   },
   "outputs": [],
   "source": [
    "for tf_id in bottom_10:\n",
    "    results_path = \"/home/kipkurui/Project/Motif_Assessment/PAPER_Assessment_Data/NAR_Paper/Centrimo/%s\" % tf_id\n",
    "    !centrimo --oc {results_path}/{tf_id}-centrimo --verbosity 1 --score 5.0 --ethresh 10.0 {results_path}/{tf_id}.fa {meme_file}\n"
   ]
  },
  {
   "cell_type": "code",
   "execution_count": 38,
   "metadata": {
    "collapsed": true
   },
   "outputs": [],
   "source": [
    "for tf_id in top_10:\n",
    "    results_path = \"/home/kipkurui/Project/Motif_Assessment/PAPER_Assessment_Data/NAR_Paper/Centrimo/%s\" % tf_id\n",
    "    !centrimo --oc {results_path}/{tf_id}-centrimo --verbosity 1 --score 5.0 --ethresh 10.0 {results_path}/{tf_id}.fa {meme_file}\n"
   ]
  },
  {
   "cell_type": "code",
   "execution_count": 5,
   "metadata": {
    "collapsed": true
   },
   "outputs": [],
   "source": [
    "import pandas as pd\n",
    "import numpy as np"
   ]
  },
  {
   "cell_type": "code",
   "execution_count": 37,
   "metadata": {
    "collapsed": true
   },
   "outputs": [],
   "source": [
    "def get_meme(ids, out):\n",
    "    data = MatrixData.objects.filter(matrix_id=ids.id)\n",
    "    a = []\n",
    "    c = []\n",
    "    g = []\n",
    "    t = []\n",
    "\n",
    "    for r in range(len(data)):\n",
    "        if data[r].row == \"A\":\n",
    "            a.append(data[r].val)\n",
    "        elif data[r].row == \"C\":\n",
    "            c.append(data[r].val)\n",
    "        elif data[r].row == \"G\":\n",
    "            g.append(data[r].val)\n",
    "        else:\n",
    "            t.append(data[r].val)\n",
    "    mid = ids.motif_id+\".\"+ids.collection\n",
    "    motif = (\"\\nMOTIF %s %s\\n\\n\" % (mid, ids.motif_name))\n",
    "    out.write(motif)\n",
    "\n",
    "    header = (\"letter-probability matrix: alength= 4 w= %s nsites= 20 E= 0\\n\" % (str(len(a)-1)))\n",
    "    out.write(header)\n",
    "    for j in range(1, len(a)):\n",
    "        write_out = (\"  %.6f\\t  %.6f\\t  %.6f\\t  %.6f\\t\\n\" % (a[j], float(c[j]), float(g[j]), float(t[j])))\n",
    "        out.write(write_out)"
   ]
  },
  {
   "cell_type": "code",
   "execution_count": 64,
   "metadata": {
    "collapsed": true
   },
   "outputs": [],
   "source": [
    "def gibbs2meme(motif_name, motif_file):\n",
    "    motif = pd.read_table(motif_file)\n",
    "    with open(motif_file.replace(\"seq.pwm\", \"meme\"), \"w\") as out:\n",
    "        out.write(\"\"\"MEME version 4.4\n",
    "\n",
    "ALPHABET= ACGT\n",
    "\n",
    "strands: + -\n",
    "\n",
    "Background letter frequencies (from uniform background):\n",
    "A 0.25000 C 0.25000 G 0.25000 T 0.25000 \"\"\")\n",
    "        motif = (\"\\nMOTIF %s %s\\n\\n\" % (motif_name, motif_name))\n",
    "        out.write(motif)\n",
    "\n",
    "        header = (\"letter-probability matrix: alength= 4 w= %s nsites= 20 E= 0\\n\" % (str(len(mot_prob[\"A\"])-1)))\n",
    "        out.write(header)\n",
    "        for j in range(1, len(mot_prob[\"A\"])):\n",
    "            write_out = (\"  %.6f\\t  %.6f\\t  %.6f\\t  %.6f\\t\\n\" % (mot_prob[\"A\"][j], float(mot_prob[\"C\"][j]), float(mot_prob[\"G\"][j]), float(mot_prob[\"T\"][j])))\n",
    "            out.write(write_out)"
   ]
  },
  {
   "cell_type": "code",
   "execution_count": 68,
   "metadata": {
    "collapsed": true
   },
   "outputs": [],
   "source": [
    "motif = pd.read_clipboard()\n",
    "mot_prob = np.exp(motif)\n",
    "gibbs2meme(mot_prob, \"observed_hnf4a\", \"observed_hnf4a.meme\")"
   ]
  },
  {
   "cell_type": "code",
   "execution_count": 70,
   "metadata": {
    "collapsed": false
   },
   "outputs": [],
   "source": [
    "!ceqlogo -i corrected_hnf4a.meme -m 1 >corrected_hnf4a.eps"
   ]
  }
 ],
 "metadata": {
  "kernelspec": {
   "display_name": "Django Shell-Plus",
   "language": "python",
   "name": "django_extensions"
  },
  "language_info": {
   "codemirror_mode": {
    "name": "ipython",
    "version": 2
   },
   "file_extension": ".py",
   "mimetype": "text/x-python",
   "name": "python",
   "nbconvert_exporter": "python",
   "pygments_lexer": "ipython2",
   "version": "2.7.12"
  }
 },
 "nbformat": 4,
 "nbformat_minor": 0
}
