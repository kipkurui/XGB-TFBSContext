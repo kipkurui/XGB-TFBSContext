{
 "cells": [
  {
   "cell_type": "markdown",
   "metadata": {},
   "source": [
    "# Working pipeline"
   ]
  },
  {
   "cell_type": "code",
   "execution_count": 2,
   "metadata": {
    "collapsed": false
   },
   "outputs": [
    {
     "name": "stderr",
     "output_type": "stream",
     "text": [
      "/home/kipkurui/anaconda2/envs/dream_challenge/lib/python2.7/site-packages/matplotlib/__init__.py:872: UserWarning: axes.color_cycle is deprecated and replaced with axes.prop_cycle; please use the latter.\n",
      "  warnings.warn(self.msg_depr % (key, alt_key))\n"
     ]
    }
   ],
   "source": [
    "##Pure python\n",
    "from multiprocessing import Pool, cpu_count\n",
    "import subprocess\n",
    "import pandas as pd\n",
    "import numpy as np\n",
    "from math import  exp\n",
    "import seaborn as sns\n",
    "\n",
    "#import os moduls\n",
    "import os\n",
    "\n",
    "## Bioconda\n",
    "import pybedtools\n",
    "import pyBigWig\n",
    "import pysam\n",
    "\n",
    "#Biopython\n",
    "from Bio.SeqUtils import GC\n",
    "%matplotlib inline"
   ]
  },
  {
   "cell_type": "code",
   "execution_count": 3,
   "metadata": {
    "collapsed": false
   },
   "outputs": [],
   "source": [
    "import matplotlib.pyplot as plt"
   ]
  },
  {
   "cell_type": "markdown",
   "metadata": {},
   "source": [
    "#### Determine number of Cores for parallel execution"
   ]
  },
  {
   "cell_type": "code",
   "execution_count": 4,
   "metadata": {
    "collapsed": false
   },
   "outputs": [],
   "source": [
    "num_partitions = cpu_count()\n",
    "\n",
    "num_cores = cpu_count()"
   ]
  },
  {
   "cell_type": "code",
   "execution_count": 5,
   "metadata": {
    "collapsed": true
   },
   "outputs": [],
   "source": [
    "def energyscore(pwm_dictionary, seq):\n",
    "    \"\"\"\n",
    "    Score sequences using the beeml energy scoring approach.\n",
    "\n",
    "    Borrowed greatly from the work of Zhao and Stormo\n",
    "\n",
    "    P(Si)=1/(1+e^Ei-u)\n",
    "\n",
    "    Ei=sumsum(Si(b,k)e(b,k))\n",
    "\n",
    "    Previous approaches seem to be using the the minimum sum of the\n",
    "    energy contribution of each of the bases of a specific region.\n",
    "\n",
    "    This is currently showing some promise but further testing is\n",
    "    needed to ensure that I have a robust algorithm.\n",
    "    \"\"\"\n",
    "    \n",
    "    energy_list = []\n",
    "    pwm_length = len(pwm_dictionary[\"A\"])\n",
    "    pwm_dictionary_rc = rc_pwm(pwm_dictionary, pwm_length)\n",
    "    for i in range(len(seq) - 1):\n",
    "        energy = 0\n",
    "        energy_rc = 0\n",
    "        for j in range(pwm_length - 1):\n",
    "            if (j + i) >= len(seq):\n",
    "                energy += 0.25\n",
    "                energy_rc += 0.25\n",
    "            else:\n",
    "                energy += pwm_dictionary[seq[j + i]][j]\n",
    "                energy_rc += pwm_dictionary_rc[seq[j + i]][j]\n",
    "\n",
    "            energy_list.append(1 / (1 + (exp(energy))))\n",
    "            energy_list.append(1 / (1 + (exp(energy_rc))))\n",
    "    energy_score = min(energy_list)\n",
    "    return energy_score\n",
    "\n",
    "def gomeroccupancyscore(pwm_dictionary, seq):\n",
    "    \"\"\"\n",
    "    Takes as input a PWM dictionary, and a sequences and\n",
    "    computes the gomer score\n",
    "    \"\"\"\n",
    "    if \"N\" in seq:\n",
    "        return 0\n",
    "    else:\n",
    "        # pwm_length = len(pwm_dictionary)\n",
    "        pwm_length = len(pwm_dictionary[\"A\"])\n",
    "        gomer_occupancy = 1\n",
    "        area_pwm_rc = rc_pwm(pwm_dictionary, pwm_length)\n",
    "        for i in range(pwm_length - 1, 1, -1):\n",
    "            prod_gomer = 1\n",
    "            prod_gomer_rc = 1\n",
    "            for j in range(pwm_length):\n",
    "                if j <= i:\n",
    "                    prod_gomer *= 0.25\n",
    "                    prod_gomer_rc *= 0.25\n",
    "                elif (j + i) > len(seq) - 1:\n",
    "                    prod_gomer *= 0.25\n",
    "                    prod_gomer_rc *= 0.25\n",
    "                else:\n",
    "                    # print \"got to else\"\n",
    "                    s = seq[j + i]\n",
    "                    prod_gomer *= pwm_dictionary[s][j]\n",
    "                    prod_gomer_rc *= area_pwm_rc[s][j]\n",
    "            gomer_occupancy *= (1 - prod_gomer) * (1 - prod_gomer_rc)\n",
    "        for i in range(len(seq) - 1):\n",
    "            prod_gomer = 1\n",
    "            prod_gomer_rc = 1\n",
    "            for j in range(pwm_length - 1):\n",
    "                if (j + i) >= len(seq) - 1:\n",
    "                    prod_gomer *= 0.25\n",
    "                    prod_gomer_rc *= 0.25\n",
    "                else:\n",
    "                    prod_gomer *= pwm_dictionary[seq[j + i]][j]\n",
    "                    prod_gomer_rc *= area_pwm_rc[seq[j + i]][j]\n",
    "            gomer_occupancy *= (1 - prod_gomer) * (1 - prod_gomer_rc)\n",
    "        gomer_occupancy = 1 - gomer_occupancy\n",
    "\n",
    "        return gomer_occupancy\n",
    "\n",
    "def rc_pwm(area_pwm, pwm_len):\n",
    "    \"\"\"\n",
    "    Takes as input the forward pwm and returns a reverse\n",
    "    complement of the motif\n",
    "    \"\"\"\n",
    "\n",
    "    rcareapwm = {}\n",
    "    rcareapwm[\"A\"] = []\n",
    "    rcareapwm[\"C\"] = []\n",
    "    rcareapwm[\"G\"] = []\n",
    "    rcareapwm[\"T\"] = []\n",
    "    rcareapwm[\"N\"] = []\n",
    "    for i in range(pwm_len):\n",
    "        rcareapwm[\"A\"].append(area_pwm[\"T\"][pwm_len - i - 1])\n",
    "        rcareapwm[\"C\"].append(area_pwm[\"G\"][pwm_len - i - 1])\n",
    "        rcareapwm[\"G\"].append(area_pwm[\"C\"][pwm_len - i - 1])\n",
    "        rcareapwm[\"T\"].append(area_pwm[\"A\"][pwm_len - i - 1])\n",
    "        rcareapwm[\"N\"].append(0.0)\n",
    "    return rcareapwm\n",
    "\n",
    "\n",
    "def get_motif(meme, motif=\"MOTIF\"):\n",
    "    \"\"\"\n",
    "    Extract a motif from meme file given a unique motif\n",
    "    name and create dictionary for sequence scoring\n",
    "\n",
    "    Default motif name is keyword MOTIF for single motif files. \n",
    "    \"\"\"\n",
    "\n",
    "    pwm_dictionary = {}\n",
    "    pwm_dictionary[\"A\"] = []\n",
    "    pwm_dictionary[\"C\"] = []\n",
    "    pwm_dictionary[\"G\"] = []\n",
    "    pwm_dictionary[\"T\"] = []\n",
    "    pwm_dictionary[\"N\"] = []\n",
    "    flag = 0\n",
    "    check = 0\n",
    "    with open(meme, \"r\") as f1:\n",
    "        for line in f1:\n",
    "            if str(motif) in line:\n",
    "                flag += 1\n",
    "            if \"letter-probability\" in line and flag == 1:\n",
    "                w = line.split(\" \")[5]\n",
    "                flag += 1\n",
    "                continue\n",
    "            if flag == 2 and int(check) < int(w):\n",
    "                if line == \"\\n\":\n",
    "                    continue\n",
    "                else:\n",
    "                    words = line.split()\n",
    "                    pwm_dictionary[\"A\"].append(float(words[0]))\n",
    "                    pwm_dictionary[\"C\"].append(float(words[1]))\n",
    "                    pwm_dictionary[\"G\"].append(float(words[2]))\n",
    "                    pwm_dictionary[\"T\"].append(float(words[3]))\n",
    "                    pwm_dictionary[\"N\"].append(0.0)\n",
    "                    check += 1\n",
    "        return pwm_dictionary\n",
    "\n",
    "    \n",
    "def get_motif_details(tfs):\n",
    "    \"\"\"\n",
    "    Given a TF name, create a three pwm dictionaries for scoring. \n",
    "    \"\"\"\n",
    "    \n",
    "    tf_l = tfs.capitalize()\n",
    "\n",
    "    pwm_motif = \"../Motifs/%s.meme\" % tfs\n",
    "\n",
    "    tom_score = \"../Motifs/%s.tomtom\" % tfs\n",
    "    \n",
    "    mots = !cut -f1 {tom_score}\n",
    "    mot = mots[1]\n",
    "    pwm_dictionary = get_motif(pwm_motif, motif=mot)\n",
    "    \n",
    "    return pwm_dictionary\n",
    "\n",
    "#Parallelize DFs\n",
    "def parallelize_dataframe(df, func):\n",
    "    df_split = np.array_split(df, num_partitions)\n",
    "    pool = Pool(num_cores)\n",
    "    df = pd.concat(pool.map(func, df_split))\n",
    "    pool.close()\n",
    "    pool.join()\n",
    "    return df\n",
    "\n",
    "# Sequence scoring  in parallel  \n",
    "def score_from_genome(bed_df):\n",
    "    \n",
    "    return bed_df.apply(lambda row: fetch_and_score_seq(row[0], row[1], row[2]), axis=1)\n",
    "\n",
    "def fetch_and_score_seq(contig, start, end):\n",
    "    genome = pysam.FastaFile('../annotations/hg19.genome.fa')\n",
    "    return score_function(pwm_dictionary, genome.fetch(contig, start, end).upper())\n",
    "\n",
    "\n",
    "#Computing GC on the fly\n",
    "def GC_from_genome(bed_df):\n",
    "    \n",
    "    return bed_df.apply(lambda row: fetch_and_get_gc(row[0], row[1], row[2]), axis=1)\n",
    "\n",
    "def fetch_and_get_gc(contig, start, end):\n",
    "    genome = pysam.FastaFile('../annotations/hg19.genome.fa')\n",
    "    return GC(genome.fetch(contig, start, end).upper())\n",
    "\n",
    "def get_max_dnase(ch, start, end):\n",
    "    \"\"\"\n",
    "    Extract the maximum fold enrichment from Bigwig files\n",
    "    \n",
    "    Keep in mind this error:\n",
    "    \"An error occurred while fetching values!\"\n",
    "    \n",
    "    This error lead to incorrect results. \n",
    "    Will have to re-think way out latter\n",
    "    \n",
    "    SOLVED: The file cannot be accessed concerrently. \n",
    "    Should open a new file handle\n",
    "    for each run. \n",
    "    \"\"\"\n",
    "    bw = pyBigWig.open(\"../DNASE/fold_coverage_wiggles/DNASE.%s.fc.signal.bigwig\" % cl)\n",
    "    try:\n",
    "        return np.max(bw.values(ch, start, end))\n",
    "    except RuntimeError:\n",
    "        return 0\n",
    "\n",
    "def apply_get_fold(bed_df):\n",
    "    \"\"\"\n",
    "    Get max DNase fold enrichment over the whole\n",
    "    dataframe using pandas apply function\n",
    "    \"\"\"\n",
    "    test = bed_df.apply(lambda row: get_max_dnase(row[0], row[1], row[2]), axis=1)\n",
    "    \n",
    "    dnase_max = test.fillna(0)\n",
    "    \n",
    "    return dnase_max\n",
    "\n",
    "def get_mean_shape(ch, start, end):\n",
    "    \"\"\"\n",
    "    Extract the maximum fold enrichment from Bigwig files\n",
    "    \n",
    "    Keep in mind this error:\n",
    "    \"An error occurred while fetching values!\"\n",
    "    \n",
    "    This error lead to incorrect results. \n",
    "    Will have to re-think way out latter\n",
    "    \n",
    "    SOLVED: The file cannot be accessed concerrently. \n",
    "    Should open a new file handle\n",
    "    for each run. \n",
    "    \"\"\"\n",
    "    bw = pyBigWig.open(\"../DNAShape/hg19.Roll.wig.bw\")\n",
    "    try:\n",
    "        return np.mean(bw.values(ch, start, end))\n",
    "    except RuntimeError:\n",
    "        return 0\n",
    "\n",
    "\n",
    "def apply_get_shape(bed_df):\n",
    "    \"\"\"\n",
    "    Get max DNase fold enrichment over the whole\n",
    "    dataframe using pandas apply function\n",
    "    \"\"\"\n",
    "    test = bed_df.apply(lambda row: get_mean_shape(row[0], row[1], row[2]), axis=1)\n",
    "    \n",
    "    mean_shape = test.fillna(0)\n",
    "    \n",
    "    return mean_shape\n",
    "\n",
    "def get_top_from_fisim(cluster_key, yylist, get_no):\n",
    "    with open(cluster_key) as cluster:\n",
    "        all_clusters = cluster.readlines()\n",
    "    mot_lits = []\n",
    "    for mot in yylist:\n",
    "        for i in all_clusters:\n",
    "            new_list = i.split()\n",
    "            if mot in new_list:\n",
    "                mot_lits.append(mot)\n",
    "                all_clusters.remove(i)\n",
    "    if len(mot_lits) >get_no:\n",
    "        discover_three = mot_lits[:get_no]\n",
    "    elif len(mot_lits) == 0:\n",
    "        discover_three = yylist[0]\n",
    "    else:\n",
    "        discover_three = mot_lits\n",
    "    return discover_three"
   ]
  },
  {
   "cell_type": "code",
   "execution_count": 8,
   "metadata": {
    "collapsed": true
   },
   "outputs": [],
   "source": []
  },
  {
   "cell_type": "code",
   "execution_count": 9,
   "metadata": {
    "collapsed": false
   },
   "outputs": [],
   "source": [
    "def run_fisim_cluster(tfs):\n",
    "    tomtom_raw = \"../Motifs/%s.tomtom\" % tfs\n",
    "\n",
    "    dels = !python ../../Project/MAT_server/MARST_Suite/FISIM/kcmeans.py -fileIn {tomtom_raw} -o ../Motifs/{tfs}_cluster.txt -k 20      "
   ]
  },
  {
   "cell_type": "code",
   "execution_count": 27,
   "metadata": {
    "collapsed": true
   },
   "outputs": [],
   "source": [
    "def create_hdf5(tfs, col_names):\n",
    "    hdf =pd.HDFStore('%s.h5' %tfs, mode='w')\n",
    "    tsv_chunk = pd.read_table(\"../ChIPseq/labels/%s.train.labels.tsv\" %tfs, chunksize=500000, skiprows=1, names=col_names)\n",
    "    for chunk in tsv_chunk:\n",
    "        hdf.append('train', chunk, format='table', data_columns=True)\n",
    "    hdf.close()\n",
    "\n",
    "def get_querry(heds, label=\"B\"):\n",
    "    starter= ''\n",
    "    columns = heds[:3]\n",
    "    for i in heds[3:]:\n",
    "        starter+='%s==%s & ' % (i,label)\n",
    "    starter = starter[:-3]\n",
    "    \n",
    "    return columns, starter"
   ]
  },
  {
   "cell_type": "markdown",
   "metadata": {},
   "source": [
    "##### Need to avoid effect below by moving the motifs to the right folder and naming them appropriately"
   ]
  },
  {
   "cell_type": "code",
   "execution_count": 8,
   "metadata": {
    "collapsed": true
   },
   "outputs": [],
   "source": [
    "chip2name = {}\n",
    "with open('../../Project/Motif_Assessment/PAPER_Assessment_Data/NAR_Paper/Data/Chip_details.txt') as chip_det:\n",
    "    for line in chip_det:\n",
    "        if line.startswith('Tf_id'):\n",
    "            continue\n",
    "        else:\n",
    "            chip2name[line.split()[1]] = line.split()[0]"
   ]
  },
  {
   "cell_type": "code",
   "execution_count": 9,
   "metadata": {
    "collapsed": true
   },
   "outputs": [],
   "source": [
    "factor_names = \"\"\"\n",
    "    ARID3A ATF2 ATF3 ATF7 CEBPB CREB1 CTCF E2F1 E2F6 EGR1 EP300 FOXA1 FOXA2 GABPA\n",
    "    GATA3 HNF4A JUND MAFK MAX MYC NANOG REST RFX5 SPI1 SRF STAT3 TAF1 TCF12 TCF7L2\n",
    "    TEAD4 YY1 ZNF143\n",
    "    \"\"\".split()"
   ]
  },
  {
   "cell_type": "markdown",
   "metadata": {},
   "source": [
    "### Start full analyis here"
   ]
  },
  {
   "cell_type": "code",
   "execution_count": 40,
   "metadata": {
    "collapsed": false
   },
   "outputs": [],
   "source": [
    "tfs = \"ARID3A\"\n",
    "cl = \"HepG2\"\n",
    "\n",
    "# How do we get the best size here? Some do not have data for more than 50 seqa\n",
    "#pos_size = !grep -c \"B\" ../ChIPseq/labels/{tfs}.train.labels.tsv\n",
    "#neg_size = !grep -c \"U\" ../ChIPseq/labels/{tfs}.train.labels.tsv"
   ]
  },
  {
   "cell_type": "code",
   "execution_count": 9,
   "metadata": {
    "collapsed": false
   },
   "outputs": [],
   "source": [
    "# neg_size = neg_size[0]\n",
    "# pos_size = pos_size[0]"
   ]
  },
  {
   "cell_type": "markdown",
   "metadata": {},
   "source": [
    "Find a way of converting this to a workablae format without taking so much memory. The current approach is just temporary, but may have to work with hashtables or something to save on memory and space. The storge should in a way that allows quick extraction as well as getting querying for the right labels"
   ]
  },
  {
   "cell_type": "markdown",
   "metadata": {
    "collapsed": true
   },
   "source": [
    "### Get the columns names details"
   ]
  },
  {
   "cell_type": "code",
   "execution_count": 39,
   "metadata": {
    "collapsed": false
   },
   "outputs": [],
   "source": [
    "chip= \"../ChIPseq/labels/%s.train.labels.tsv\" % tfs\n",
    "heads = subprocess.Popen([\"head\", \"-1\", chip], stdout=subprocess.PIPE).stdout.read()\n",
    "col_names = heads.replace(\"-\",\"\").split()"
   ]
  },
  {
   "cell_type": "code",
   "execution_count": 12,
   "metadata": {
    "collapsed": true
   },
   "outputs": [],
   "source": [
    "# Convert the data into an Hdf store\n",
    "#TODO: I should test whether the file is laready available to avoid repetition\n",
    "create_hdf5(tfs, col_names)"
   ]
  },
  {
   "cell_type": "markdown",
   "metadata": {},
   "source": [
    "### Get PWM details from the next stage"
   ]
  },
  {
   "cell_type": "code",
   "execution_count": 43,
   "metadata": {
    "collapsed": false
   },
   "outputs": [],
   "source": [
    "tomtom_raw = \"../Motifs/%s.tomtom\" % tfs\n",
    "\n",
    "mot_list = subprocess.Popen([\"cut\", '-f1', tomtom_raw], stdout=subprocess.PIPE).stdout.read().split(\"\\n\")\n",
    "cluster_key = \"../Motifs/%s_cluster.txt\" % tfs\n",
    "discover_three_fisim = get_top_from_fisim(cluster_key, mot_list, 3)"
   ]
  },
  {
   "cell_type": "code",
   "execution_count": 16,
   "metadata": {
    "collapsed": false
   },
   "outputs": [],
   "source": [
    "#%time pos_bed = pd.read_table(\"../%s_%s.bed\" % (tfs,cl), header=None)\n",
    "#%time !cut -f1,2,3,4 ../ChIPseq/labels/{tfs}.train.labels.tsv | grep \"B\" |shuf -n {pos_size} |cut -f1,2,3 >../{tfs}_{cl}.bed\n",
    "#%time !grep \"U\" ../ChIPseq/labels/{tfs}.train.labels.tsv |cut -f1,2,3 >>../{tfs}_{cl}.bed\n",
    "\n",
    "# score_function = energyscore\n",
    "# mot_scoredf = pd.DataFrame()\n",
    "# for i, mot in enumerate(discover_three_fisim):\n",
    "#     pwm_motif = \"../Motifs/%s.meme\" % tfs\n",
    "#     pwm_dictionary = get_motif(pwm_motif, motif=mot)\n",
    "    \n",
    "#     pwm_score = parallelize_dataframe(hdf_b, score_from_genome)\n",
    "#     i = i+1\n",
    "#     mot_scoredf[\"pwm_score%i\" % i] = pwm_score"
   ]
  },
  {
   "cell_type": "code",
   "execution_count": null,
   "metadata": {
    "collapsed": true
   },
   "outputs": [],
   "source": [
    "# def score_with_pwm(hdf_b, discover_three_fisim):\n",
    "#     score_function = energyscore\n",
    "#     mot_scoredf = pd.DataFrame()\n",
    "#     for i, mot in enumerate(discover_three_fisim):\n",
    "#         pwm_motif = \"../Motifs/%s.meme\" % tfs\n",
    "#         pwm_dictionary = get_motif(pwm_motif, motif=mot)\n",
    "\n",
    "#         pwm_score = parallelize_dataframe(hdf_b, score_from_genome)\n",
    "#         i = i+1\n",
    "#         mot_scoredf[\"pwm_score%i\" % i] = pwm_score\n",
    "#     return mot_scoredf"
   ]
  },
  {
   "cell_type": "code",
   "execution_count": 97,
   "metadata": {
    "collapsed": true
   },
   "outputs": [],
   "source": []
  },
  {
   "cell_type": "code",
   "execution_count": 41,
   "metadata": {
    "collapsed": true
   },
   "outputs": [],
   "source": [
    "def get_df(col_names, label=\"B\"):\n",
    "    \"\"\"\n",
    "    Given the column names, extract the iterator\n",
    "    \"\"\"\n",
    "    columns, starter = get_querry(col_names, label)\n",
    "    \n",
    "    return pd.read_hdf('%s.h5' % tfs,'train',where=[starter], start=1, stop=10000, columns=columns, chunksize=1000)"
   ]
  },
  {
   "cell_type": "markdown",
   "metadata": {},
   "source": [
    "#### Store the data into an Hdf5 file"
   ]
  },
  {
   "cell_type": "code",
   "execution_count": 38,
   "metadata": {
    "collapsed": true
   },
   "outputs": [],
   "source": [
    "hdf_score = pd.get_store(\"ARID3A_test.h5\")"
   ]
  },
  {
   "cell_type": "code",
   "execution_count": 44,
   "metadata": {
    "collapsed": false
   },
   "outputs": [],
   "source": [
    "#columns, starter = get_querry(col_names, \"B\")\n",
    "hdf_b = get_df(col_names, \"B\")\n",
    "score_function = energyscore\n",
    "for chunk in hdf_b:\n",
    "    mot_scoredf_t = pd.DataFrame()\n",
    "    for i, mot in enumerate(discover_three_fisim):\n",
    "        pwm_motif = \"../Motifs/%s.meme\" % tfs\n",
    "        pwm_dictionary = get_motif(pwm_motif, motif=mot)\n",
    "\n",
    "        pwm_score = parallelize_dataframe(chunk, score_from_genome)\n",
    "        i = i+1\n",
    "        mot_scoredf_t[\"pwm_score%i\" % i] = pwm_score\n",
    "    hdf_score.append('pwm_score', mot_scoredf_t, format='table', data_columns=True)"
   ]
  },
  {
   "cell_type": "code",
   "execution_count": 45,
   "metadata": {
    "collapsed": false
   },
   "outputs": [],
   "source": [
    "hdf_u= get_df(col_names, \"U\")\n",
    "score_function = energyscore\n",
    "for chunk in hdf_u:\n",
    "    mot_scoredf_t = pd.DataFrame()\n",
    "    for i, mot in enumerate(discover_three_fisim):\n",
    "        pwm_motif = \"../Motifs/%s.meme\" % tfs\n",
    "        pwm_dictionary = get_motif(pwm_motif, motif=mot)\n",
    "\n",
    "        pwm_score = parallelize_dataframe(chunk, score_from_genome)\n",
    "        i = i+1\n",
    "        mot_scoredf_t[\"pwm_score%i\" % i] = pwm_score\n",
    "    hdf_score.append('pwm_score', mot_scoredf_t, format='table', data_columns=True)\n",
    "    "
   ]
  },
  {
   "cell_type": "code",
   "execution_count": 48,
   "metadata": {
    "collapsed": false
   },
   "outputs": [],
   "source": [
    "#get GC content for B\n",
    "hdf_b= get_df(col_names, \"B\")\n",
    "get_gc_chunk(hdf_b)\n",
    "\n",
    "#Repeat the same for U\n",
    "hdf_u= get_df(col_names, \"U\")\n",
    "get_gc_chunk(hdf_u)"
   ]
  },
  {
   "cell_type": "code",
   "execution_count": 49,
   "metadata": {
    "collapsed": false
   },
   "outputs": [
    {
     "ename": "OSError",
     "evalue": "[Errno 12] Cannot allocate memory",
     "output_type": "error",
     "traceback": [
      "\u001b[1;31m---------------------------------------------------------------------------\u001b[0m",
      "\u001b[1;31mOSError\u001b[0m                                   Traceback (most recent call last)",
      "\u001b[1;32m<ipython-input-49-5c422f6e9371>\u001b[0m in \u001b[0;36m<module>\u001b[1;34m()\u001b[0m\n\u001b[0;32m      5\u001b[0m \u001b[1;31m#Repeat the same for U\u001b[0m\u001b[1;33m\u001b[0m\u001b[1;33m\u001b[0m\u001b[0m\n\u001b[0;32m      6\u001b[0m \u001b[0mhdf_u\u001b[0m\u001b[1;33m=\u001b[0m \u001b[0mget_df\u001b[0m\u001b[1;33m(\u001b[0m\u001b[0mcol_names\u001b[0m\u001b[1;33m,\u001b[0m \u001b[1;34m\"U\"\u001b[0m\u001b[1;33m)\u001b[0m\u001b[1;33m\u001b[0m\u001b[0m\n\u001b[1;32m----> 7\u001b[1;33m \u001b[0mget_dnase_max_chunk\u001b[0m\u001b[1;33m(\u001b[0m\u001b[0mhdf_u\u001b[0m\u001b[1;33m)\u001b[0m\u001b[1;33m\u001b[0m\u001b[0m\n\u001b[0m",
      "\u001b[1;32m<ipython-input-47-5665f045b60f>\u001b[0m in \u001b[0;36mget_dnase_max_chunk\u001b[1;34m(hdf_u)\u001b[0m\n\u001b[0;32m     23\u001b[0m \u001b[1;32mdef\u001b[0m \u001b[0mget_dnase_max_chunk\u001b[0m\u001b[1;33m(\u001b[0m\u001b[0mhdf_u\u001b[0m\u001b[1;33m)\u001b[0m\u001b[1;33m:\u001b[0m\u001b[1;33m\u001b[0m\u001b[0m\n\u001b[0;32m     24\u001b[0m     \u001b[1;32mfor\u001b[0m \u001b[0mchunk\u001b[0m \u001b[1;32min\u001b[0m \u001b[0mhdf_u\u001b[0m\u001b[1;33m:\u001b[0m\u001b[1;33m\u001b[0m\u001b[0m\n\u001b[1;32m---> 25\u001b[1;33m         \u001b[0mdnase_max\u001b[0m \u001b[1;33m=\u001b[0m \u001b[0mparallelize_dataframe\u001b[0m\u001b[1;33m(\u001b[0m\u001b[0mchunk\u001b[0m\u001b[1;33m,\u001b[0m \u001b[0mapply_get_fold\u001b[0m\u001b[1;33m)\u001b[0m\u001b[1;33m\u001b[0m\u001b[0m\n\u001b[0m\u001b[0;32m     26\u001b[0m         \u001b[0mhdf_score\u001b[0m\u001b[1;33m.\u001b[0m\u001b[0mappend\u001b[0m\u001b[1;33m(\u001b[0m\u001b[1;34m'dnase_score'\u001b[0m\u001b[1;33m,\u001b[0m\u001b[0mdnase_max\u001b[0m \u001b[1;33m,\u001b[0m \u001b[0mformat\u001b[0m\u001b[1;33m=\u001b[0m\u001b[1;34m'table'\u001b[0m\u001b[1;33m,\u001b[0m \u001b[0mdata_columns\u001b[0m\u001b[1;33m=\u001b[0m\u001b[0mTrue\u001b[0m\u001b[1;33m)\u001b[0m\u001b[1;33m\u001b[0m\u001b[0m\n\u001b[0;32m     27\u001b[0m \u001b[1;33m\u001b[0m\u001b[0m\n",
      "\u001b[1;32m<ipython-input-5-bb10fdf74a1a>\u001b[0m in \u001b[0;36mparallelize_dataframe\u001b[1;34m(df, func)\u001b[0m\n\u001b[0;32m    157\u001b[0m \u001b[1;32mdef\u001b[0m \u001b[0mparallelize_dataframe\u001b[0m\u001b[1;33m(\u001b[0m\u001b[0mdf\u001b[0m\u001b[1;33m,\u001b[0m \u001b[0mfunc\u001b[0m\u001b[1;33m)\u001b[0m\u001b[1;33m:\u001b[0m\u001b[1;33m\u001b[0m\u001b[0m\n\u001b[0;32m    158\u001b[0m     \u001b[0mdf_split\u001b[0m \u001b[1;33m=\u001b[0m \u001b[0mnp\u001b[0m\u001b[1;33m.\u001b[0m\u001b[0marray_split\u001b[0m\u001b[1;33m(\u001b[0m\u001b[0mdf\u001b[0m\u001b[1;33m,\u001b[0m \u001b[0mnum_partitions\u001b[0m\u001b[1;33m)\u001b[0m\u001b[1;33m\u001b[0m\u001b[0m\n\u001b[1;32m--> 159\u001b[1;33m     \u001b[0mpool\u001b[0m \u001b[1;33m=\u001b[0m \u001b[0mPool\u001b[0m\u001b[1;33m(\u001b[0m\u001b[0mnum_cores\u001b[0m\u001b[1;33m)\u001b[0m\u001b[1;33m\u001b[0m\u001b[0m\n\u001b[0m\u001b[0;32m    160\u001b[0m     \u001b[0mdf\u001b[0m \u001b[1;33m=\u001b[0m \u001b[0mpd\u001b[0m\u001b[1;33m.\u001b[0m\u001b[0mconcat\u001b[0m\u001b[1;33m(\u001b[0m\u001b[0mpool\u001b[0m\u001b[1;33m.\u001b[0m\u001b[0mmap\u001b[0m\u001b[1;33m(\u001b[0m\u001b[0mfunc\u001b[0m\u001b[1;33m,\u001b[0m \u001b[0mdf_split\u001b[0m\u001b[1;33m)\u001b[0m\u001b[1;33m)\u001b[0m\u001b[1;33m\u001b[0m\u001b[0m\n\u001b[0;32m    161\u001b[0m     \u001b[0mpool\u001b[0m\u001b[1;33m.\u001b[0m\u001b[0mclose\u001b[0m\u001b[1;33m(\u001b[0m\u001b[1;33m)\u001b[0m\u001b[1;33m\u001b[0m\u001b[0m\n",
      "\u001b[1;32m/home/kipkurui/anaconda2/envs/dream_challenge/lib/python2.7/multiprocessing/__init__.pyc\u001b[0m in \u001b[0;36mPool\u001b[1;34m(processes, initializer, initargs, maxtasksperchild)\u001b[0m\n\u001b[0;32m    230\u001b[0m     '''\n\u001b[0;32m    231\u001b[0m     \u001b[1;32mfrom\u001b[0m \u001b[0mmultiprocessing\u001b[0m\u001b[1;33m.\u001b[0m\u001b[0mpool\u001b[0m \u001b[1;32mimport\u001b[0m \u001b[0mPool\u001b[0m\u001b[1;33m\u001b[0m\u001b[0m\n\u001b[1;32m--> 232\u001b[1;33m     \u001b[1;32mreturn\u001b[0m \u001b[0mPool\u001b[0m\u001b[1;33m(\u001b[0m\u001b[0mprocesses\u001b[0m\u001b[1;33m,\u001b[0m \u001b[0minitializer\u001b[0m\u001b[1;33m,\u001b[0m \u001b[0minitargs\u001b[0m\u001b[1;33m,\u001b[0m \u001b[0mmaxtasksperchild\u001b[0m\u001b[1;33m)\u001b[0m\u001b[1;33m\u001b[0m\u001b[0m\n\u001b[0m\u001b[0;32m    233\u001b[0m \u001b[1;33m\u001b[0m\u001b[0m\n\u001b[0;32m    234\u001b[0m \u001b[1;32mdef\u001b[0m \u001b[0mRawValue\u001b[0m\u001b[1;33m(\u001b[0m\u001b[0mtypecode_or_type\u001b[0m\u001b[1;33m,\u001b[0m \u001b[1;33m*\u001b[0m\u001b[0margs\u001b[0m\u001b[1;33m)\u001b[0m\u001b[1;33m:\u001b[0m\u001b[1;33m\u001b[0m\u001b[0m\n",
      "\u001b[1;32m/home/kipkurui/anaconda2/envs/dream_challenge/lib/python2.7/multiprocessing/pool.pyc\u001b[0m in \u001b[0;36m__init__\u001b[1;34m(self, processes, initializer, initargs, maxtasksperchild)\u001b[0m\n\u001b[0;32m    157\u001b[0m         \u001b[0mself\u001b[0m\u001b[1;33m.\u001b[0m\u001b[0m_processes\u001b[0m \u001b[1;33m=\u001b[0m \u001b[0mprocesses\u001b[0m\u001b[1;33m\u001b[0m\u001b[0m\n\u001b[0;32m    158\u001b[0m         \u001b[0mself\u001b[0m\u001b[1;33m.\u001b[0m\u001b[0m_pool\u001b[0m \u001b[1;33m=\u001b[0m \u001b[1;33m[\u001b[0m\u001b[1;33m]\u001b[0m\u001b[1;33m\u001b[0m\u001b[0m\n\u001b[1;32m--> 159\u001b[1;33m         \u001b[0mself\u001b[0m\u001b[1;33m.\u001b[0m\u001b[0m_repopulate_pool\u001b[0m\u001b[1;33m(\u001b[0m\u001b[1;33m)\u001b[0m\u001b[1;33m\u001b[0m\u001b[0m\n\u001b[0m\u001b[0;32m    160\u001b[0m \u001b[1;33m\u001b[0m\u001b[0m\n\u001b[0;32m    161\u001b[0m         self._worker_handler = threading.Thread(\n",
      "\u001b[1;32m/home/kipkurui/anaconda2/envs/dream_challenge/lib/python2.7/multiprocessing/pool.pyc\u001b[0m in \u001b[0;36m_repopulate_pool\u001b[1;34m(self)\u001b[0m\n\u001b[0;32m    221\u001b[0m             \u001b[0mw\u001b[0m\u001b[1;33m.\u001b[0m\u001b[0mname\u001b[0m \u001b[1;33m=\u001b[0m \u001b[0mw\u001b[0m\u001b[1;33m.\u001b[0m\u001b[0mname\u001b[0m\u001b[1;33m.\u001b[0m\u001b[0mreplace\u001b[0m\u001b[1;33m(\u001b[0m\u001b[1;34m'Process'\u001b[0m\u001b[1;33m,\u001b[0m \u001b[1;34m'PoolWorker'\u001b[0m\u001b[1;33m)\u001b[0m\u001b[1;33m\u001b[0m\u001b[0m\n\u001b[0;32m    222\u001b[0m             \u001b[0mw\u001b[0m\u001b[1;33m.\u001b[0m\u001b[0mdaemon\u001b[0m \u001b[1;33m=\u001b[0m \u001b[0mTrue\u001b[0m\u001b[1;33m\u001b[0m\u001b[0m\n\u001b[1;32m--> 223\u001b[1;33m             \u001b[0mw\u001b[0m\u001b[1;33m.\u001b[0m\u001b[0mstart\u001b[0m\u001b[1;33m(\u001b[0m\u001b[1;33m)\u001b[0m\u001b[1;33m\u001b[0m\u001b[0m\n\u001b[0m\u001b[0;32m    224\u001b[0m             \u001b[0mdebug\u001b[0m\u001b[1;33m(\u001b[0m\u001b[1;34m'added worker'\u001b[0m\u001b[1;33m)\u001b[0m\u001b[1;33m\u001b[0m\u001b[0m\n\u001b[0;32m    225\u001b[0m \u001b[1;33m\u001b[0m\u001b[0m\n",
      "\u001b[1;32m/home/kipkurui/anaconda2/envs/dream_challenge/lib/python2.7/multiprocessing/process.pyc\u001b[0m in \u001b[0;36mstart\u001b[1;34m(self)\u001b[0m\n\u001b[0;32m    128\u001b[0m         \u001b[1;32melse\u001b[0m\u001b[1;33m:\u001b[0m\u001b[1;33m\u001b[0m\u001b[0m\n\u001b[0;32m    129\u001b[0m             \u001b[1;32mfrom\u001b[0m \u001b[1;33m.\u001b[0m\u001b[0mforking\u001b[0m \u001b[1;32mimport\u001b[0m \u001b[0mPopen\u001b[0m\u001b[1;33m\u001b[0m\u001b[0m\n\u001b[1;32m--> 130\u001b[1;33m         \u001b[0mself\u001b[0m\u001b[1;33m.\u001b[0m\u001b[0m_popen\u001b[0m \u001b[1;33m=\u001b[0m \u001b[0mPopen\u001b[0m\u001b[1;33m(\u001b[0m\u001b[0mself\u001b[0m\u001b[1;33m)\u001b[0m\u001b[1;33m\u001b[0m\u001b[0m\n\u001b[0m\u001b[0;32m    131\u001b[0m         \u001b[0m_current_process\u001b[0m\u001b[1;33m.\u001b[0m\u001b[0m_children\u001b[0m\u001b[1;33m.\u001b[0m\u001b[0madd\u001b[0m\u001b[1;33m(\u001b[0m\u001b[0mself\u001b[0m\u001b[1;33m)\u001b[0m\u001b[1;33m\u001b[0m\u001b[0m\n\u001b[0;32m    132\u001b[0m \u001b[1;33m\u001b[0m\u001b[0m\n",
      "\u001b[1;32m/home/kipkurui/anaconda2/envs/dream_challenge/lib/python2.7/multiprocessing/forking.pyc\u001b[0m in \u001b[0;36m__init__\u001b[1;34m(self, process_obj)\u001b[0m\n\u001b[0;32m    119\u001b[0m             \u001b[0mself\u001b[0m\u001b[1;33m.\u001b[0m\u001b[0mreturncode\u001b[0m \u001b[1;33m=\u001b[0m \u001b[0mNone\u001b[0m\u001b[1;33m\u001b[0m\u001b[0m\n\u001b[0;32m    120\u001b[0m \u001b[1;33m\u001b[0m\u001b[0m\n\u001b[1;32m--> 121\u001b[1;33m             \u001b[0mself\u001b[0m\u001b[1;33m.\u001b[0m\u001b[0mpid\u001b[0m \u001b[1;33m=\u001b[0m \u001b[0mos\u001b[0m\u001b[1;33m.\u001b[0m\u001b[0mfork\u001b[0m\u001b[1;33m(\u001b[0m\u001b[1;33m)\u001b[0m\u001b[1;33m\u001b[0m\u001b[0m\n\u001b[0m\u001b[0;32m    122\u001b[0m             \u001b[1;32mif\u001b[0m \u001b[0mself\u001b[0m\u001b[1;33m.\u001b[0m\u001b[0mpid\u001b[0m \u001b[1;33m==\u001b[0m \u001b[1;36m0\u001b[0m\u001b[1;33m:\u001b[0m\u001b[1;33m\u001b[0m\u001b[0m\n\u001b[0;32m    123\u001b[0m                 \u001b[1;32mif\u001b[0m \u001b[1;34m'random'\u001b[0m \u001b[1;32min\u001b[0m \u001b[0msys\u001b[0m\u001b[1;33m.\u001b[0m\u001b[0mmodules\u001b[0m\u001b[1;33m:\u001b[0m\u001b[1;33m\u001b[0m\u001b[0m\n",
      "\u001b[1;31mOSError\u001b[0m: [Errno 12] Cannot allocate memory"
     ]
    }
   ],
   "source": [
    "#get max Dnase content for B\n",
    "hdf_b= get_df(col_names, \"B\")\n",
    "get_dnase_max_chunk(hdf_b)\n",
    "\n",
    "#Repeat the same for U\n",
    "hdf_u= get_df(col_names, \"U\")\n",
    "get_dnase_max_chunk(hdf_u)"
   ]
  },
  {
   "cell_type": "code",
   "execution_count": 25,
   "metadata": {
    "collapsed": false
   },
   "outputs": [],
   "source": [
    "#get roll shape content for B\n",
    "hdf_b= get_df(col_names, \"B\")\n",
    "get_roll_shape_chunk(hdf_b)\n",
    "\n",
    "#Repeat the same for U\n",
    "hdf_u= get_df(col_names, \"U\")\n",
    "get_roll_shape_chunk(hdf_u)"
   ]
  },
  {
   "cell_type": "code",
   "execution_count": null,
   "metadata": {
    "collapsed": true
   },
   "outputs": [],
   "source": [
    "hdf_score.close()"
   ]
  },
  {
   "cell_type": "code",
   "execution_count": 47,
   "metadata": {
    "collapsed": true
   },
   "outputs": [],
   "source": [
    "def score_pwm_chunk(hdf_u, discover_three_fisim):\n",
    "    \"\"\"\n",
    "    Given an iterable Dataframe, loop through it scoring the \n",
    "    sequences using the given PWM\n",
    "    \n",
    "    NB: The Hdf store should be opened and empty\n",
    "    \"\"\"\n",
    "    for chunk in hdf_u:\n",
    "        mot_scoredf_t = pd.DataFrame()\n",
    "        for i, mot in enumerate(discover_three_fisim):\n",
    "            pwm_motif = \"../Motifs/%s.meme\" % tfs\n",
    "            pwm_dictionary = get_motif(pwm_motif, motif=mot)\n",
    "\n",
    "            pwm_score = parallelize_dataframe(chunk, score_from_genome)\n",
    "            i = i+1\n",
    "            mot_scoredf_t[\"pwm_score%i\" % i] = pwm_score\n",
    "        hdf_score.append('pwm_score', mot_scoredf_t, format='table', data_columns=True)\n",
    "def get_gc_chunk(hdf_u):\n",
    "    for chunk in hdf_u:\n",
    "        gc_score = parallelize_dataframe(chunk, GC_from_genome)\n",
    "        hdf_score.append('gc_score', gc_score, format='table', data_columns=True)\n",
    "    #return hdf_score\n",
    "def get_dnase_max_chunk(hdf_u):\n",
    "    for chunk in hdf_u:\n",
    "        dnase_max = parallelize_dataframe(chunk, apply_get_fold)\n",
    "        hdf_score.append('dnase_score',dnase_max , format='table', data_columns=True)\n",
    "\n",
    "def get_roll_shape_chunk(hdf_u):\n",
    "    for chunk in hdf_u:\n",
    "        roll_shape = parallelize_dataframe(chunk, apply_get_shape)\n",
    "        hdf_score.append('roll_shape',roll_shape , format='table', data_columns=True)\n",
    "        \n",
    "# hdf_u = pd.read_hdf('%s.h5' % tfs,'train',where=[starter], start=1, stop=2000000, columns=columns, chunksize=100000)\n",
    "#dnase_max = parallelize_dataframe(hdf_b, apply_get_fold)\n",
    "# hdf_score.append('dnase_score',dnase_max , format='table', data_columns=True)\n",
    "# hdf_u = pd.read_hdf('%s.h5' % tfs,'train',where=[starter], start=1, stop=2000000, columns=columns, chunksize=100000)\n",
    "\n",
    "# %time roll_shape = parallelize_dataframe(hdf_b, apply_get_shape)\n",
    "# hdf_score.append('roll_shape',roll_shape , format='table', data_columns=True)\n",
    "\n",
    "# columns, starter = get_querry(col_names, \"U\")\n",
    "# hdf_u = pd.read_hdf('%s.h5' % tfs,'train',where=[starter], start=1, stop=2000000, columns=columns, chunksize=100000)\n",
    "\n",
    "# gc_score = parallelize_dataframe(hdf_b, GC_from_genome)\n",
    "# hdf_score.append('gc_score',gc_score , format='table', data_columns=True)"
   ]
  },
  {
   "cell_type": "markdown",
   "metadata": {},
   "source": [
    "### Score working with the ladderboard sequences"
   ]
  },
  {
   "cell_type": "code",
   "execution_count": 146,
   "metadata": {
    "collapsed": false
   },
   "outputs": [],
   "source": [
    "#load the file, chunkwise\n",
    "col_name = [\"contig\", \"start\", \"stop\"]\n",
    "hdf_lad =pd.HDFStore('%s_ladder.h5' %tfs, mode='w')\n",
    "tsv_chunk = pd.read_table(\"../annotations/ladder_regions.blacklistfiltered.bed\", chunksize=500000, names=col_name)\n",
    "for chunk in tsv_chunk:\n",
    "    hdf_lad.append('ladder', chunk, format='table', data_columns=True, min_itemsize=5)\n",
    "hdf_lad.close()"
   ]
  },
  {
   "cell_type": "markdown",
   "metadata": {},
   "source": [
    "### PWM score"
   ]
  },
  {
   "cell_type": "code",
   "execution_count": 35,
   "metadata": {
    "collapsed": false
   },
   "outputs": [],
   "source": [
    "# def score_pwm_chunk(hdf_u, discover_three_fisim):\n",
    "#     \"\"\"\n",
    "#     Given an iterable Dataframe, loop through it scoring the \n",
    "#     sequences using the given PWM\n",
    "    \n",
    "#     NB: The Hdf store should be opened and empty\n",
    "#     \"\"\"\n",
    "hdf_score =pd.HDFStore('%s_ladder_score.h5' %tfs, mode='w')\n",
    "hdf_ladder = pd.read_hdf('%s_ladder.h5' % tfs,'ladder', chunksize=100000)\n",
    "score_function = energyscore\n",
    "for chunk in hdf_ladder:\n",
    "    mot_scoredf_t = pd.DataFrame()\n",
    "    for i, mot in enumerate(discover_three_fisim):\n",
    "        pwm_motif = \"../Motifs/%s.meme\" % tfs\n",
    "        pwm_dictionary = get_motif(pwm_motif, motif=mot)\n",
    "\n",
    "        pwm_score = parallelize_dataframe(chunk, score_from_genome)\n",
    "        i = i+1\n",
    "        mot_scoredf_t[\"pwm_score%i\" % i] = pwm_score\n",
    "    hdf_score.append('pwm_score', mot_scoredf_t, format='table', data_columns=True)"
   ]
  },
  {
   "cell_type": "markdown",
   "metadata": {},
   "source": [
    "### GC score"
   ]
  },
  {
   "cell_type": "code",
   "execution_count": 36,
   "metadata": {
    "collapsed": true
   },
   "outputs": [],
   "source": [
    "hdf_ladder = pd.read_hdf('%s_ladder.h5' % tfs,'ladder', chunksize=100000)\n",
    "get_gc_chunk(hdf_ladder)\n",
    "# for chunk in hdf_ladder:\n",
    "#     gc_score = parallelize_dataframe(chunk, GC_from_genome)\n",
    "#     hdf_score.append('gc_score', gc_score, format='table', data_columns=True)"
   ]
  },
  {
   "cell_type": "markdown",
   "metadata": {},
   "source": [
    "### DNase max"
   ]
  },
  {
   "cell_type": "code",
   "execution_count": 37,
   "metadata": {
    "collapsed": true
   },
   "outputs": [],
   "source": [
    "cl = \"K562\"\n",
    "hdf_ladder = pd.read_hdf('%s_ladder.h5' % tfs,'ladder', chunksize=100000)\n",
    "get_dnase_max_chunk(hdf_ladder)\n",
    "# for chunk in hdf_ladder:\n",
    "#     dnase_max = parallelize_dataframe(chunk, apply_get_fold)\n",
    "#     hdf_score.append('dnase_score',dnase_max , format='table', data_columns=True)"
   ]
  },
  {
   "cell_type": "markdown",
   "metadata": {},
   "source": [
    "### Shape roll"
   ]
  },
  {
   "cell_type": "code",
   "execution_count": 38,
   "metadata": {
    "collapsed": true
   },
   "outputs": [],
   "source": [
    "hdf_ladder = pd.read_hdf('%s_ladder.h5' % tfs,'ladder', chunksize=100000)\n",
    "get_roll_shape_chunk(hdf_ladder)\n",
    "# for chunk in hdf_ladder:\n",
    "#     roll_shape = parallelize_dataframe(chunk, apply_get_shape)\n",
    "#     hdf_score.append('roll_shape',roll_shape , format='table', data_columns=True)"
   ]
  },
  {
   "cell_type": "code",
   "execution_count": 44,
   "metadata": {
    "collapsed": false
   },
   "outputs": [],
   "source": [
    "hdf_score.close()"
   ]
  },
  {
   "cell_type": "markdown",
   "metadata": {
    "collapsed": false
   },
   "source": [
    "### Load saved training data"
   ]
  },
  {
   "cell_type": "code",
   "execution_count": 24,
   "metadata": {
    "collapsed": false
   },
   "outputs": [],
   "source": [
    "model_store = \"%s_pwmscore.h5\" % tfs\n",
    "hdf_scores_pw = pd.read_hdf(model_store, key=\"pwm_score\")\n",
    "hdf_scores_pw[\"dnase_score\"] = pd.read_hdf(model_store, key=\"dnase_score\")\n",
    "hdf_scores_pw[\"gc_score\"] = pd.read_hdf(model_store, key=\"gc_score\")\n",
    "hdf_scores_pw[\"roll_shape\"] = pd.read_hdf(model_store, key=\"roll_shape\")"
   ]
  },
  {
   "cell_type": "markdown",
   "metadata": {
    "collapsed": true
   },
   "source": [
    "### Load test data"
   ]
  },
  {
   "cell_type": "code",
   "execution_count": 12,
   "metadata": {
    "collapsed": true
   },
   "outputs": [],
   "source": [
    "ladder_store = \"%s_ladder_score.h5\" % tfs\n",
    "hdf_scores_lad = pd.read_hdf(ladder_store, key=\"pwm_score\")\n",
    "hdf_scores_lad[\"dnase_score\"] = pd.read_hdf(ladder_store, key=\"dnase_score\")\n",
    "hdf_scores_lad[\"gc_score\"] = pd.read_hdf(ladder_store, key=\"gc_score\")\n",
    "hdf_scores_lad[\"roll_shape\"] = pd.read_hdf(ladder_store, key=\"roll_shape\")"
   ]
  },
  {
   "cell_type": "code",
   "execution_count": 90,
   "metadata": {
    "collapsed": false
   },
   "outputs": [],
   "source": []
  },
  {
   "cell_type": "code",
   "execution_count": 14,
   "metadata": {
    "collapsed": true
   },
   "outputs": [],
   "source": [
    "neg_size = len(hdf_u.coordinates)\n",
    "pos_size = len(hdf_b.coordinates)\n",
    "y = np.concatenate((np.ones(pos_size), np.zeros(neg_size)), axis=0)"
   ]
  },
  {
   "cell_type": "markdown",
   "metadata": {},
   "source": [
    "## Model training"
   ]
  },
  {
   "cell_type": "code",
   "execution_count": 1,
   "metadata": {
    "collapsed": false
   },
   "outputs": [],
   "source": [
    "# Main SVM module and grid search function\n",
    "from sklearn import svm, grid_search\n",
    "\n",
    "from sklearn.linear_model import SGDClassifier\n",
    "from sklearn.ensemble import GradientBoostingClassifier, RandomForestClassifier\n",
    "#For partitioning the data\n",
    "from sklearn.cross_validation import train_test_split\n",
    "from sklearn.cross_validation import cross_val_score, KFold\n",
    "\n",
    "#Libsvm format data loading\n",
    "from sklearn.datasets import load_svmlight_file\n",
    "\n",
    "#Accuracy metrics\n",
    "from sklearn.metrics import accuracy_score, classification_report, auc\n",
    "\n",
    "# Creating an learning pipeline\n",
    "from sklearn.pipeline import Pipeline\n",
    "\n",
    "from sklearn import feature_selection\n",
    "\n",
    "from sklearn.externals import joblib\n",
    "\n",
    "from xgboost import XGBClassifier\n",
    "\n",
    "import xgboost as xgb"
   ]
  },
  {
   "cell_type": "code",
   "execution_count": 72,
   "metadata": {
    "collapsed": true
   },
   "outputs": [],
   "source": [
    "def train_xgboost(dataframe, y):\n",
    "    \"\"\"\n",
    "    Given a feature DF, train a model using the optimized parameters\n",
    "    \n",
    "    latter on, I will need to find a way to optimize these parameters for a different TF\n",
    "    \"\"\"\n",
    "    xgdmat = xgb.DMatrix(dataframe, y) \n",
    "\n",
    "    our_params = {'eta': 0.1, 'seed':0, 'subsample': 0.8, 'colsample_bytree': 0.8, \n",
    "             'objective': 'binary:logistic', 'max_depth':7, 'min_child_weight':1} \n",
    "\n",
    "    final_gb = xgb.train(our_params, xgdmat, num_boost_round = 3000)\n",
    "    \n",
    "    #save the model fro future reference\n",
    "    joblib.dump(final_gb, \"../annotations/%s/%s_xgboost.dat\" % (tfs, tfs))\n",
    "    \n",
    "    #Creat a feature importance plot\n",
    "    plot_feature_importance(final_gb, \"../annotations/%s/%s_features.png\" % (tfs, tfs))\n",
    "    \n",
    "    return final_gb\n",
    "\n",
    "\n",
    "def plot_feature_importance(xgb_model, fig_out):\n",
    "    sns.set(font_scale = 1.5)\n",
    "    fig, ax = plt.subplots( nrows=1, ncols=1 )  # create figure & 1 axis\n",
    "    xgb.plot_importance(xgb_model, ax=ax)\n",
    "    #ax.plot([0,1,2], [10,20,3])\n",
    "    fig.savefig(fig_out, bbox_inches='tight')   # save the figure to file\n",
    "    plt.close(fig)"
   ]
  },
  {
   "cell_type": "markdown",
   "metadata": {},
   "source": [
    "### Using the Xgboost model to predict on the test data"
   ]
  },
  {
   "cell_type": "code",
   "execution_count": null,
   "metadata": {
    "collapsed": true
   },
   "outputs": [],
   "source": [
    "final_gb = train_xgboost(dataframe, y)"
   ]
  },
  {
   "cell_type": "code",
   "execution_count": null,
   "metadata": {
    "collapsed": true
   },
   "outputs": [],
   "source": [
    "testdmat = xgb.DMatrix(hdf_scores_lad)\n",
    "y_pred = final_gb.predict(testdmat) # Predict using our testdmat\n",
    "\n",
    "np.savetxt(\"../annotations/%s/%s_xgb.txt\", y_pred)\n"
   ]
  },
  {
   "cell_type": "markdown",
   "metadata": {},
   "source": [
    "#### Split the data to train and fit"
   ]
  },
  {
   "cell_type": "code",
   "execution_count": 32,
   "metadata": {
    "collapsed": false
   },
   "outputs": [],
   "source": [
    "X_train, X_test, y_train, y_test = train_test_split(hdf_scores_pw, y, test_size=0.33, random_state=42)"
   ]
  },
  {
   "cell_type": "markdown",
   "metadata": {},
   "source": [
    "#### Scale the data"
   ]
  },
  {
   "cell_type": "code",
   "execution_count": 33,
   "metadata": {
    "collapsed": false
   },
   "outputs": [],
   "source": [
    "from sklearn.preprocessing import StandardScaler, MinMaxScaler\n",
    "scaler = MinMaxScaler()\n",
    "\n",
    "#Scale teh train data \n",
    "scaler.fit(X_train)  # Don't cheat - fit only on training data\n",
    "X_train = scaler.transform(X_train)\n",
    "\n",
    "#Scale the test data as well\n",
    "scaler.fit(X_test)  # Don't cheat - fit only on training data\n",
    "X_test = scaler.transform(X_test)"
   ]
  },
  {
   "cell_type": "markdown",
   "metadata": {},
   "source": [
    "### XGboost"
   ]
  },
  {
   "cell_type": "markdown",
   "metadata": {},
   "source": [
    "#### Optimizing parameters for Xgboost"
   ]
  },
  {
   "cell_type": "code",
   "execution_count": 43,
   "metadata": {
    "collapsed": false
   },
   "outputs": [],
   "source": [
    "cv_params = {'max_depth': [3,5,7], 'min_child_weight': [1,3,5]}\n",
    "ind_params = {'learning_rate': 0.1, 'n_estimators': 1000, 'seed':0, 'subsample': 0.8, 'colsample_bytree': 0.8, \n",
    "             'objective': 'binary:logistic'}\n",
    "optimized_GBM = grid_search.GridSearchCV(xgb.XGBClassifier(**ind_params), \n",
    "                            cv_params, \n",
    "                             scoring = 'accuracy', cv = 5, n_jobs = -1) "
   ]
  },
  {
   "cell_type": "code",
   "execution_count": 44,
   "metadata": {
    "collapsed": false
   },
   "outputs": [
    {
     "name": "stderr",
     "output_type": "stream",
     "text": [
      "/home/kipkurui/anaconda2/envs/dream_challenge/lib/python2.7/site-packages/sklearn/externals/joblib/hashing.py:197: DeprecationWarning: Changing the shape of non-C contiguous array by\n",
      "descriptor assignment is deprecated. To maintain\n",
      "the Fortran contiguity of a multidimensional Fortran\n",
      "array, use 'a.T.view(...).T' instead\n",
      "  obj_bytes_view = obj.view(self.np.uint8)\n",
      "/home/kipkurui/anaconda2/envs/dream_challenge/lib/python2.7/site-packages/sklearn/externals/joblib/hashing.py:197: DeprecationWarning: Changing the shape of non-C contiguous array by\n",
      "descriptor assignment is deprecated. To maintain\n",
      "the Fortran contiguity of a multidimensional Fortran\n",
      "array, use 'a.T.view(...).T' instead\n",
      "  obj_bytes_view = obj.view(self.np.uint8)\n",
      "/home/kipkurui/anaconda2/envs/dream_challenge/lib/python2.7/site-packages/sklearn/externals/joblib/hashing.py:197: DeprecationWarning: Changing the shape of non-C contiguous array by\n",
      "descriptor assignment is deprecated. To maintain\n",
      "the Fortran contiguity of a multidimensional Fortran\n",
      "array, use 'a.T.view(...).T' instead\n",
      "  obj_bytes_view = obj.view(self.np.uint8)\n",
      "/home/kipkurui/anaconda2/envs/dream_challenge/lib/python2.7/site-packages/sklearn/externals/joblib/hashing.py:197: DeprecationWarning: Changing the shape of non-C contiguous array by\n",
      "descriptor assignment is deprecated. To maintain\n",
      "the Fortran contiguity of a multidimensional Fortran\n",
      "array, use 'a.T.view(...).T' instead\n",
      "  obj_bytes_view = obj.view(self.np.uint8)\n",
      "/home/kipkurui/anaconda2/envs/dream_challenge/lib/python2.7/site-packages/sklearn/externals/joblib/hashing.py:197: DeprecationWarning: Changing the shape of non-C contiguous array by\n",
      "descriptor assignment is deprecated. To maintain\n",
      "the Fortran contiguity of a multidimensional Fortran\n",
      "array, use 'a.T.view(...).T' instead\n",
      "  obj_bytes_view = obj.view(self.np.uint8)\n",
      "/home/kipkurui/anaconda2/envs/dream_challenge/lib/python2.7/site-packages/sklearn/externals/joblib/hashing.py:197: DeprecationWarning: Changing the shape of non-C contiguous array by\n",
      "descriptor assignment is deprecated. To maintain\n",
      "the Fortran contiguity of a multidimensional Fortran\n",
      "array, use 'a.T.view(...).T' instead\n",
      "  obj_bytes_view = obj.view(self.np.uint8)\n",
      "/home/kipkurui/anaconda2/envs/dream_challenge/lib/python2.7/site-packages/sklearn/externals/joblib/hashing.py:197: DeprecationWarning: Changing the shape of non-C contiguous array by\n",
      "descriptor assignment is deprecated. To maintain\n",
      "the Fortran contiguity of a multidimensional Fortran\n",
      "array, use 'a.T.view(...).T' instead\n",
      "  obj_bytes_view = obj.view(self.np.uint8)\n",
      "/home/kipkurui/anaconda2/envs/dream_challenge/lib/python2.7/site-packages/sklearn/externals/joblib/hashing.py:197: DeprecationWarning: Changing the shape of non-C contiguous array by\n",
      "descriptor assignment is deprecated. To maintain\n",
      "the Fortran contiguity of a multidimensional Fortran\n",
      "array, use 'a.T.view(...).T' instead\n",
      "  obj_bytes_view = obj.view(self.np.uint8)\n",
      "/home/kipkurui/anaconda2/envs/dream_challenge/lib/python2.7/site-packages/sklearn/externals/joblib/hashing.py:197: DeprecationWarning: Changing the shape of non-C contiguous array by\n",
      "descriptor assignment is deprecated. To maintain\n",
      "the Fortran contiguity of a multidimensional Fortran\n",
      "array, use 'a.T.view(...).T' instead\n",
      "  obj_bytes_view = obj.view(self.np.uint8)\n",
      "/home/kipkurui/anaconda2/envs/dream_challenge/lib/python2.7/site-packages/sklearn/externals/joblib/hashing.py:197: DeprecationWarning: Changing the shape of non-C contiguous array by\n",
      "descriptor assignment is deprecated. To maintain\n",
      "the Fortran contiguity of a multidimensional Fortran\n",
      "array, use 'a.T.view(...).T' instead\n",
      "  obj_bytes_view = obj.view(self.np.uint8)\n",
      "/home/kipkurui/anaconda2/envs/dream_challenge/lib/python2.7/site-packages/sklearn/externals/joblib/hashing.py:197: DeprecationWarning: Changing the shape of non-C contiguous array by\n",
      "descriptor assignment is deprecated. To maintain\n",
      "the Fortran contiguity of a multidimensional Fortran\n",
      "array, use 'a.T.view(...).T' instead\n",
      "  obj_bytes_view = obj.view(self.np.uint8)\n",
      "/home/kipkurui/anaconda2/envs/dream_challenge/lib/python2.7/site-packages/sklearn/externals/joblib/hashing.py:197: DeprecationWarning: Changing the shape of non-C contiguous array by\n",
      "descriptor assignment is deprecated. To maintain\n",
      "the Fortran contiguity of a multidimensional Fortran\n",
      "array, use 'a.T.view(...).T' instead\n",
      "  obj_bytes_view = obj.view(self.np.uint8)\n",
      "/home/kipkurui/anaconda2/envs/dream_challenge/lib/python2.7/site-packages/sklearn/externals/joblib/hashing.py:197: DeprecationWarning: Changing the shape of non-C contiguous array by\n",
      "descriptor assignment is deprecated. To maintain\n",
      "the Fortran contiguity of a multidimensional Fortran\n",
      "array, use 'a.T.view(...).T' instead\n",
      "  obj_bytes_view = obj.view(self.np.uint8)\n",
      "/home/kipkurui/anaconda2/envs/dream_challenge/lib/python2.7/site-packages/sklearn/externals/joblib/hashing.py:197: DeprecationWarning: Changing the shape of non-C contiguous array by\n",
      "descriptor assignment is deprecated. To maintain\n",
      "the Fortran contiguity of a multidimensional Fortran\n",
      "array, use 'a.T.view(...).T' instead\n",
      "  obj_bytes_view = obj.view(self.np.uint8)\n",
      "/home/kipkurui/anaconda2/envs/dream_challenge/lib/python2.7/site-packages/sklearn/externals/joblib/hashing.py:197: DeprecationWarning: Changing the shape of non-C contiguous array by\n",
      "descriptor assignment is deprecated. To maintain\n",
      "the Fortran contiguity of a multidimensional Fortran\n",
      "array, use 'a.T.view(...).T' instead\n",
      "  obj_bytes_view = obj.view(self.np.uint8)\n",
      "/home/kipkurui/anaconda2/envs/dream_challenge/lib/python2.7/site-packages/sklearn/externals/joblib/hashing.py:197: DeprecationWarning: Changing the shape of non-C contiguous array by\n",
      "descriptor assignment is deprecated. To maintain\n",
      "the Fortran contiguity of a multidimensional Fortran\n",
      "array, use 'a.T.view(...).T' instead\n",
      "  obj_bytes_view = obj.view(self.np.uint8)\n",
      "/home/kipkurui/anaconda2/envs/dream_challenge/lib/python2.7/site-packages/sklearn/externals/joblib/hashing.py:197: DeprecationWarning: Changing the shape of non-C contiguous array by\n",
      "descriptor assignment is deprecated. To maintain\n",
      "the Fortran contiguity of a multidimensional Fortran\n",
      "array, use 'a.T.view(...).T' instead\n",
      "  obj_bytes_view = obj.view(self.np.uint8)\n",
      "/home/kipkurui/anaconda2/envs/dream_challenge/lib/python2.7/site-packages/sklearn/externals/joblib/hashing.py:197: DeprecationWarning: Changing the shape of non-C contiguous array by\n",
      "descriptor assignment is deprecated. To maintain\n",
      "the Fortran contiguity of a multidimensional Fortran\n",
      "array, use 'a.T.view(...).T' instead\n",
      "  obj_bytes_view = obj.view(self.np.uint8)\n",
      "/home/kipkurui/anaconda2/envs/dream_challenge/lib/python2.7/site-packages/sklearn/externals/joblib/hashing.py:197: DeprecationWarning: Changing the shape of non-C contiguous array by\n",
      "descriptor assignment is deprecated. To maintain\n",
      "the Fortran contiguity of a multidimensional Fortran\n",
      "array, use 'a.T.view(...).T' instead\n",
      "  obj_bytes_view = obj.view(self.np.uint8)\n",
      "/home/kipkurui/anaconda2/envs/dream_challenge/lib/python2.7/site-packages/sklearn/externals/joblib/hashing.py:197: DeprecationWarning: Changing the shape of non-C contiguous array by\n",
      "descriptor assignment is deprecated. To maintain\n",
      "the Fortran contiguity of a multidimensional Fortran\n",
      "array, use 'a.T.view(...).T' instead\n",
      "  obj_bytes_view = obj.view(self.np.uint8)\n",
      "/home/kipkurui/anaconda2/envs/dream_challenge/lib/python2.7/site-packages/sklearn/externals/joblib/hashing.py:197: DeprecationWarning: Changing the shape of non-C contiguous array by\n",
      "descriptor assignment is deprecated. To maintain\n",
      "the Fortran contiguity of a multidimensional Fortran\n",
      "array, use 'a.T.view(...).T' instead\n",
      "  obj_bytes_view = obj.view(self.np.uint8)\n",
      "/home/kipkurui/anaconda2/envs/dream_challenge/lib/python2.7/site-packages/sklearn/externals/joblib/hashing.py:197: DeprecationWarning: Changing the shape of non-C contiguous array by\n",
      "descriptor assignment is deprecated. To maintain\n",
      "the Fortran contiguity of a multidimensional Fortran\n",
      "array, use 'a.T.view(...).T' instead\n",
      "  obj_bytes_view = obj.view(self.np.uint8)\n",
      "/home/kipkurui/anaconda2/envs/dream_challenge/lib/python2.7/site-packages/sklearn/externals/joblib/hashing.py:197: DeprecationWarning: Changing the shape of non-C contiguous array by\n",
      "descriptor assignment is deprecated. To maintain\n",
      "the Fortran contiguity of a multidimensional Fortran\n",
      "array, use 'a.T.view(...).T' instead\n",
      "  obj_bytes_view = obj.view(self.np.uint8)\n",
      "/home/kipkurui/anaconda2/envs/dream_challenge/lib/python2.7/site-packages/sklearn/externals/joblib/hashing.py:197: DeprecationWarning: Changing the shape of non-C contiguous array by\n",
      "descriptor assignment is deprecated. To maintain\n",
      "the Fortran contiguity of a multidimensional Fortran\n",
      "array, use 'a.T.view(...).T' instead\n",
      "  obj_bytes_view = obj.view(self.np.uint8)\n",
      "/home/kipkurui/anaconda2/envs/dream_challenge/lib/python2.7/site-packages/sklearn/externals/joblib/hashing.py:197: DeprecationWarning: Changing the shape of non-C contiguous array by\n",
      "descriptor assignment is deprecated. To maintain\n",
      "the Fortran contiguity of a multidimensional Fortran\n",
      "array, use 'a.T.view(...).T' instead\n",
      "  obj_bytes_view = obj.view(self.np.uint8)\n",
      "/home/kipkurui/anaconda2/envs/dream_challenge/lib/python2.7/site-packages/sklearn/externals/joblib/hashing.py:197: DeprecationWarning: Changing the shape of non-C contiguous array by\n",
      "descriptor assignment is deprecated. To maintain\n",
      "the Fortran contiguity of a multidimensional Fortran\n",
      "array, use 'a.T.view(...).T' instead\n",
      "  obj_bytes_view = obj.view(self.np.uint8)\n",
      "/home/kipkurui/anaconda2/envs/dream_challenge/lib/python2.7/site-packages/sklearn/externals/joblib/hashing.py:197: DeprecationWarning: Changing the shape of non-C contiguous array by\n",
      "descriptor assignment is deprecated. To maintain\n",
      "the Fortran contiguity of a multidimensional Fortran\n",
      "array, use 'a.T.view(...).T' instead\n",
      "  obj_bytes_view = obj.view(self.np.uint8)\n",
      "/home/kipkurui/anaconda2/envs/dream_challenge/lib/python2.7/site-packages/sklearn/externals/joblib/hashing.py:197: DeprecationWarning: Changing the shape of non-C contiguous array by\n",
      "descriptor assignment is deprecated. To maintain\n",
      "the Fortran contiguity of a multidimensional Fortran\n",
      "array, use 'a.T.view(...).T' instead\n",
      "  obj_bytes_view = obj.view(self.np.uint8)\n",
      "/home/kipkurui/anaconda2/envs/dream_challenge/lib/python2.7/site-packages/sklearn/externals/joblib/hashing.py:197: DeprecationWarning: Changing the shape of non-C contiguous array by\n",
      "descriptor assignment is deprecated. To maintain\n",
      "the Fortran contiguity of a multidimensional Fortran\n",
      "array, use 'a.T.view(...).T' instead\n",
      "  obj_bytes_view = obj.view(self.np.uint8)\n",
      "/home/kipkurui/anaconda2/envs/dream_challenge/lib/python2.7/site-packages/sklearn/externals/joblib/hashing.py:197: DeprecationWarning: Changing the shape of non-C contiguous array by\n",
      "descriptor assignment is deprecated. To maintain\n",
      "the Fortran contiguity of a multidimensional Fortran\n",
      "array, use 'a.T.view(...).T' instead\n",
      "  obj_bytes_view = obj.view(self.np.uint8)\n",
      "/home/kipkurui/anaconda2/envs/dream_challenge/lib/python2.7/site-packages/sklearn/externals/joblib/hashing.py:197: DeprecationWarning: Changing the shape of non-C contiguous array by\n",
      "descriptor assignment is deprecated. To maintain\n",
      "the Fortran contiguity of a multidimensional Fortran\n",
      "array, use 'a.T.view(...).T' instead\n",
      "  obj_bytes_view = obj.view(self.np.uint8)\n",
      "/home/kipkurui/anaconda2/envs/dream_challenge/lib/python2.7/site-packages/sklearn/externals/joblib/hashing.py:197: DeprecationWarning: Changing the shape of non-C contiguous array by\n",
      "descriptor assignment is deprecated. To maintain\n",
      "the Fortran contiguity of a multidimensional Fortran\n",
      "array, use 'a.T.view(...).T' instead\n",
      "  obj_bytes_view = obj.view(self.np.uint8)\n",
      "/home/kipkurui/anaconda2/envs/dream_challenge/lib/python2.7/site-packages/sklearn/externals/joblib/hashing.py:197: DeprecationWarning: Changing the shape of non-C contiguous array by\n",
      "descriptor assignment is deprecated. To maintain\n",
      "the Fortran contiguity of a multidimensional Fortran\n",
      "array, use 'a.T.view(...).T' instead\n",
      "  obj_bytes_view = obj.view(self.np.uint8)\n",
      "/home/kipkurui/anaconda2/envs/dream_challenge/lib/python2.7/site-packages/sklearn/externals/joblib/hashing.py:197: DeprecationWarning: Changing the shape of non-C contiguous array by\n",
      "descriptor assignment is deprecated. To maintain\n",
      "the Fortran contiguity of a multidimensional Fortran\n",
      "array, use 'a.T.view(...).T' instead\n",
      "  obj_bytes_view = obj.view(self.np.uint8)\n",
      "/home/kipkurui/anaconda2/envs/dream_challenge/lib/python2.7/site-packages/sklearn/externals/joblib/hashing.py:197: DeprecationWarning: Changing the shape of non-C contiguous array by\n",
      "descriptor assignment is deprecated. To maintain\n",
      "the Fortran contiguity of a multidimensional Fortran\n",
      "array, use 'a.T.view(...).T' instead\n",
      "  obj_bytes_view = obj.view(self.np.uint8)\n",
      "/home/kipkurui/anaconda2/envs/dream_challenge/lib/python2.7/site-packages/sklearn/externals/joblib/hashing.py:197: DeprecationWarning: Changing the shape of non-C contiguous array by\n",
      "descriptor assignment is deprecated. To maintain\n",
      "the Fortran contiguity of a multidimensional Fortran\n",
      "array, use 'a.T.view(...).T' instead\n",
      "  obj_bytes_view = obj.view(self.np.uint8)\n",
      "/home/kipkurui/anaconda2/envs/dream_challenge/lib/python2.7/site-packages/sklearn/externals/joblib/hashing.py:197: DeprecationWarning: Changing the shape of non-C contiguous array by\n",
      "descriptor assignment is deprecated. To maintain\n",
      "the Fortran contiguity of a multidimensional Fortran\n",
      "array, use 'a.T.view(...).T' instead\n",
      "  obj_bytes_view = obj.view(self.np.uint8)\n",
      "/home/kipkurui/anaconda2/envs/dream_challenge/lib/python2.7/site-packages/sklearn/externals/joblib/hashing.py:197: DeprecationWarning: Changing the shape of non-C contiguous array by\n",
      "descriptor assignment is deprecated. To maintain\n",
      "the Fortran contiguity of a multidimensional Fortran\n",
      "array, use 'a.T.view(...).T' instead\n",
      "  obj_bytes_view = obj.view(self.np.uint8)\n",
      "/home/kipkurui/anaconda2/envs/dream_challenge/lib/python2.7/site-packages/sklearn/externals/joblib/hashing.py:197: DeprecationWarning: Changing the shape of non-C contiguous array by\n",
      "descriptor assignment is deprecated. To maintain\n",
      "the Fortran contiguity of a multidimensional Fortran\n",
      "array, use 'a.T.view(...).T' instead\n",
      "  obj_bytes_view = obj.view(self.np.uint8)\n",
      "/home/kipkurui/anaconda2/envs/dream_challenge/lib/python2.7/site-packages/sklearn/externals/joblib/hashing.py:197: DeprecationWarning: Changing the shape of non-C contiguous array by\n",
      "descriptor assignment is deprecated. To maintain\n",
      "the Fortran contiguity of a multidimensional Fortran\n",
      "array, use 'a.T.view(...).T' instead\n",
      "  obj_bytes_view = obj.view(self.np.uint8)\n",
      "/home/kipkurui/anaconda2/envs/dream_challenge/lib/python2.7/site-packages/sklearn/externals/joblib/hashing.py:197: DeprecationWarning: Changing the shape of non-C contiguous array by\n",
      "descriptor assignment is deprecated. To maintain\n",
      "the Fortran contiguity of a multidimensional Fortran\n",
      "array, use 'a.T.view(...).T' instead\n",
      "  obj_bytes_view = obj.view(self.np.uint8)\n",
      "/home/kipkurui/anaconda2/envs/dream_challenge/lib/python2.7/site-packages/sklearn/externals/joblib/hashing.py:197: DeprecationWarning: Changing the shape of non-C contiguous array by\n",
      "descriptor assignment is deprecated. To maintain\n",
      "the Fortran contiguity of a multidimensional Fortran\n",
      "array, use 'a.T.view(...).T' instead\n",
      "  obj_bytes_view = obj.view(self.np.uint8)\n",
      "/home/kipkurui/anaconda2/envs/dream_challenge/lib/python2.7/site-packages/sklearn/externals/joblib/hashing.py:197: DeprecationWarning: Changing the shape of non-C contiguous array by\n",
      "descriptor assignment is deprecated. To maintain\n",
      "the Fortran contiguity of a multidimensional Fortran\n",
      "array, use 'a.T.view(...).T' instead\n",
      "  obj_bytes_view = obj.view(self.np.uint8)\n",
      "/home/kipkurui/anaconda2/envs/dream_challenge/lib/python2.7/site-packages/sklearn/externals/joblib/hashing.py:197: DeprecationWarning: Changing the shape of non-C contiguous array by\n",
      "descriptor assignment is deprecated. To maintain\n",
      "the Fortran contiguity of a multidimensional Fortran\n",
      "array, use 'a.T.view(...).T' instead\n",
      "  obj_bytes_view = obj.view(self.np.uint8)\n",
      "/home/kipkurui/anaconda2/envs/dream_challenge/lib/python2.7/site-packages/sklearn/externals/joblib/hashing.py:197: DeprecationWarning: Changing the shape of non-C contiguous array by\n",
      "descriptor assignment is deprecated. To maintain\n",
      "the Fortran contiguity of a multidimensional Fortran\n",
      "array, use 'a.T.view(...).T' instead\n",
      "  obj_bytes_view = obj.view(self.np.uint8)\n"
     ]
    },
    {
     "name": "stdout",
     "output_type": "stream",
     "text": [
      "CPU times: user 26min 48s, sys: 9.49 s, total: 26min 57s\n",
      "Wall time: 3h 33min 48s\n",
      "0.981802862209\n",
      "             precision    recall  f1-score   support\n",
      "\n",
      "       -1.0     0.9891    0.9916    0.9903    660206\n",
      "        1.0     0.8671    0.8341    0.8502     43586\n",
      "\n",
      "avg / total     0.9815    0.9818    0.9816    703792\n",
      "\n"
     ]
    }
   ],
   "source": [
    "#clf = XGBClassifier()\n",
    "%time optimized_GBM.fit(X_train, y_train)\n",
    "pred_sgd = optimized_GBM.predict(X_test)\n",
    "print accuracy_score(y_test, pred_sgd)\n",
    "print classification_report(y_test, pred_sgd, digits=4)"
   ]
  },
  {
   "cell_type": "code",
   "execution_count": 99,
   "metadata": {
    "collapsed": false
   },
   "outputs": [
    {
     "data": {
      "text/plain": [
       "{'max_depth': 7, 'min_child_weight': 1}"
      ]
     },
     "execution_count": 99,
     "metadata": {},
     "output_type": "execute_result"
    }
   ],
   "source": [
    "optimized_GBM.best_params_"
   ]
  },
  {
   "cell_type": "code",
   "execution_count": 100,
   "metadata": {
    "collapsed": false
   },
   "outputs": [],
   "source": [
    "our_params = {'eta': 0.1, 'seed':0, 'subsample': 0.8, 'colsample_bytree': 0.8, \n",
    "             'objective': 'binary:logistic', 'max_depth':7, 'min_child_weight':1} \n",
    "# Grid Search CV optimized settings\n",
    "\n",
    "cv_xgb = xgb.cv(params = our_params, dtrain = xgdmat, num_boost_round = 3000, nfold = 5,\n",
    "                metrics = ['error'], # Make sure you enter metrics inside a list or you may encounter issues!\n",
    "                early_stopping_rounds = 100)"
   ]
  },
  {
   "cell_type": "markdown",
   "metadata": {},
   "source": [
    "Looks like it did not stop early and may have to increase the  number of boost rounds it goes through. "
   ]
  },
  {
   "cell_type": "markdown",
   "metadata": {},
   "source": [
    "### The main parameters from training our model"
   ]
  },
  {
   "cell_type": "code",
   "execution_count": 70,
   "metadata": {
    "collapsed": true
   },
   "outputs": [],
   "source": []
  },
  {
   "cell_type": "code",
   "execution_count": null,
   "metadata": {
    "collapsed": true
   },
   "outputs": [],
   "source": []
  },
  {
   "cell_type": "markdown",
   "metadata": {},
   "source": [
    "### Use the XGBoost data to predict on the test data"
   ]
  },
  {
   "cell_type": "code",
   "execution_count": 4,
   "metadata": {
    "collapsed": false
   },
   "outputs": [],
   "source": [
    "from numpy import loadtxt\n",
    "import xgboost\n",
    "import pickle\n",
    "from sklearn import cross_validation\n",
    "from sklearn.metrics import accuracy_score"
   ]
  },
  {
   "cell_type": "code",
   "execution_count": 5,
   "metadata": {
    "collapsed": false
   },
   "outputs": [],
   "source": [
    "loaded_model = pickle.load(open(\"/home/kipkurui/Dream_challenge/annotations/STAT3/STAT3_1/STAT3_xgboost.dat\", \"rb\"))"
   ]
  },
  {
   "cell_type": "code",
   "execution_count": 22,
   "metadata": {
    "collapsed": false
   },
   "outputs": [],
   "source": []
  },
  {
   "cell_type": "code",
   "execution_count": 7,
   "metadata": {
    "collapsed": false
   },
   "outputs": [
    {
     "data": {
      "text/plain": [
       "<matplotlib.axes._subplots.AxesSubplot at 0x7f858da57410>"
      ]
     },
     "execution_count": 7,
     "metadata": {},
     "output_type": "execute_result"
    },
    {
     "data": {
      "image/png": "[encoded data removed]",
      "text/plain": [
       "<matplotlib.figure.Figure at 0x7f858da60090>"
      ]
     },
     "metadata": {},
     "output_type": "display_data"
    }
   ],
   "source": [
    "xgb.plot_importance(loaded_model)"
   ]
  },
  {
   "cell_type": "markdown",
   "metadata": {},
   "source": [
    "### Predict on the test data"
   ]
  },
  {
   "cell_type": "code",
   "execution_count": null,
   "metadata": {
    "collapsed": true
   },
   "outputs": [],
   "source": [
    "from sklearn.metrics import accuracy_score\n",
    "y_pred = final_gb.predict(testdmat) # Predict using our testdmat\n",
    "y_pred"
   ]
  },
  {
   "cell_type": "code",
   "execution_count": 112,
   "metadata": {
    "collapsed": false
   },
   "outputs": [
    {
     "data": {
      "text/plain": [
       "array([ 0.,  0.,  0., ...,  0.,  0.,  0.], dtype=float32)"
      ]
     },
     "execution_count": 112,
     "metadata": {},
     "output_type": "execute_result"
    }
   ],
   "source": [
    "y_pred[y_pred > 0.5] = 1\n",
    "y_pred[y_pred <= 0.5] = 0\n",
    "y_pred"
   ]
  },
  {
   "cell_type": "code",
   "execution_count": 113,
   "metadata": {
    "collapsed": false
   },
   "outputs": [],
   "source": [
    "y_test[y_test <0] = 0"
   ]
  },
  {
   "cell_type": "code",
   "execution_count": 114,
   "metadata": {
    "collapsed": false
   },
   "outputs": [
    {
     "name": "stdout",
     "output_type": "stream",
     "text": [
      "0.98257723873 0.0174227612704\n",
      "             precision    recall  f1-score   support\n",
      "\n",
      "        0.0     0.9894    0.9921    0.9907    660206\n",
      "        1.0     0.8751    0.8383    0.8563     43586\n",
      "\n",
      "avg / total     0.9823    0.9826    0.9824    703792\n",
      "\n"
     ]
    }
   ],
   "source": [
    "print accuracy_score(y_pred, y_test), 1-accuracy_score(y_pred, y_test)\n",
    "print classification_report(y_test, y_pred, digits=4)"
   ]
  },
  {
   "cell_type": "markdown",
   "metadata": {},
   "source": [
    "### Take note of the following in our current model:\n",
    "* The data is not scaled before training: There is no need for scaling when working with tree or ensemble models\n",
    "* We are not using all the data for training due to memory constraints\n",
    "* Train this and send the predictions for ranking\n",
    "* Need to create a ranking code for future use"
   ]
  },
  {
   "cell_type": "markdown",
   "metadata": {},
   "source": [
    "### Xgboost experiemental stuff"
   ]
  },
  {
   "cell_type": "code",
   "execution_count": null,
   "metadata": {
    "collapsed": true
   },
   "outputs": [],
   "source": [
    "clf = XGBClassifier()\n",
    "booster = xgb.Booster()\n",
    "booster.load_model('test_dump')\n",
    "clf._Booster = booster\n",
    "bst = xgb.XGBClassifier() #init model\n",
    "final_gb.dump_model(\"test_dump\")"
   ]
  },
  {
   "cell_type": "markdown",
   "metadata": {},
   "source": [
    "### SGD"
   ]
  },
  {
   "cell_type": "code",
   "execution_count": 39,
   "metadata": {
    "collapsed": false
   },
   "outputs": [
    {
     "name": "stdout",
     "output_type": "stream",
     "text": [
      "CPU times: user 892 ms, sys: 4 ms, total: 896 ms\n",
      "Wall time: 896 ms\n",
      "0.974233864551\n",
      "             precision    recall  f1-score   support\n",
      "\n",
      "       -1.0     0.9779    0.9950    0.9864    660206\n",
      "        1.0     0.8969    0.6598    0.7603     43586\n",
      "\n",
      "avg / total     0.9729    0.9742    0.9724    703792\n",
      "\n"
     ]
    }
   ],
   "source": [
    "clf = SGDClassifier()\n",
    "clf.fit(X_train, y_train)\n",
    "pred_sgd = clf.predict(X_test)\n",
    "print accuracy_score(y_test, pred_sgd)\n",
    "print classification_report(y_test, pred_sgd, digits=4)"
   ]
  },
  {
   "cell_type": "markdown",
   "metadata": {},
   "source": [
    "### GradientBoosting"
   ]
  },
  {
   "cell_type": "code",
   "execution_count": 35,
   "metadata": {
    "collapsed": false
   },
   "outputs": [
    {
     "name": "stdout",
     "output_type": "stream",
     "text": [
      "CPU times: user 18min 57s, sys: 22 s, total: 19min 19s\n",
      "Wall time: 19min 19s\n",
      "0.981225987223\n",
      "             precision    recall  f1-score   support\n",
      "\n",
      "       -1.0       0.99      0.99      0.99    660206\n",
      "        1.0       0.86      0.83      0.85     43586\n",
      "\n",
      "avg / total       0.98      0.98      0.98    703792\n",
      "\n"
     ]
    }
   ],
   "source": [
    "clf = GradientBoostingClassifier(loss='deviance', n_estimators=1000, max_depth=1, random_state=0)\n",
    "%time clf.fit(X_train, y_train)\n",
    "pred_sgd = clf.predict(X_test)\n",
    "print accuracy_score(y_test, pred_sgd)\n",
    "print classification_report(y_test, pred_sgd)"
   ]
  },
  {
   "cell_type": "code",
   "execution_count": null,
   "metadata": {
    "collapsed": true
   },
   "outputs": [],
   "source": [
    "## This can be time consuming to tune its parameters"
   ]
  },
  {
   "cell_type": "code",
   "execution_count": null,
   "metadata": {
    "collapsed": true
   },
   "outputs": [],
   "source": [
    "CPU times: user 1min 52s, sys: 816 ms, total: 1min 53s\n",
    "Wall time: 1min 53s\n",
    "0.97946410303\n",
    "             precision    recall  f1-score   support\n",
    "\n",
    "       -1.0       0.99      0.99      0.99    660206\n",
    "        1.0       0.85      0.81      0.83     43586\n",
    "\n",
    "avg / total       0.98      0.98      0.98    703792"
   ]
  },
  {
   "cell_type": "markdown",
   "metadata": {},
   "source": [
    "### RandomForest"
   ]
  },
  {
   "cell_type": "code",
   "execution_count": 32,
   "metadata": {
    "collapsed": false
   },
   "outputs": [
    {
     "name": "stdout",
     "output_type": "stream",
     "text": [
      "0.979340486962\n",
      "             precision    recall  f1-score   support\n",
      "\n",
      "       -1.0       0.99      0.99      0.99    660206\n",
      "        1.0       0.86      0.79      0.83     43586\n",
      "\n",
      "avg / total       0.98      0.98      0.98    703792\n",
      "\n"
     ]
    }
   ],
   "source": [
    "clf = RandomForestClassifier()\n",
    "%time clf.fit(X_train, y_train)\n",
    "pred_sgd = clf.predict(X_test)\n",
    "print accuracy_score(y_test, pred_sgd)\n",
    "print classification_report(y_test, pred_sgd)"
   ]
  },
  {
   "cell_type": "code",
   "execution_count": null,
   "metadata": {
    "collapsed": true
   },
   "outputs": [],
   "source": []
  },
  {
   "cell_type": "markdown",
   "metadata": {},
   "source": [
    "### LinearSVM"
   ]
  },
  {
   "cell_type": "code",
   "execution_count": 105,
   "metadata": {
    "collapsed": false
   },
   "outputs": [
    {
     "data": {
      "text/plain": [
       "0.96756473829201106"
      ]
     },
     "execution_count": 105,
     "metadata": {},
     "output_type": "execute_result"
    }
   ],
   "source": [
    "clf = svm.LinearSVC()\n",
    "clf.fit(X_train, y_train)\n",
    "pred_linsvm = clf.predict(X_test)\n",
    "accuracy_score(y_test, pred_linsvm)"
   ]
  },
  {
   "cell_type": "markdown",
   "metadata": {},
   "source": [
    "### SVM"
   ]
  },
  {
   "cell_type": "code",
   "execution_count": null,
   "metadata": {
    "collapsed": false
   },
   "outputs": [],
   "source": [
    "clf = svm.SVC()\n",
    "clf.fit(X_train, y_train)\n",
    "pred_svm = clf.predict(X_test)\n",
    "print accuracy_score(y_test, pred_svm)\n",
    "print classification_report(y_test, pred_svm)"
   ]
  },
  {
   "cell_type": "markdown",
   "metadata": {},
   "source": [
    "### Optimizing parameters with grid search\n",
    "\n",
    "At this stage it is a question of optimizing the training parameters to ensure we have an optimized model"
   ]
  },
  {
   "cell_type": "code",
   "execution_count": null,
   "metadata": {
    "collapsed": true
   },
   "outputs": [],
   "source": []
  },
  {
   "cell_type": "markdown",
   "metadata": {},
   "source": [
    "### Selecting the most significant features"
   ]
  },
  {
   "cell_type": "code",
   "execution_count": 73,
   "metadata": {
    "collapsed": false
   },
   "outputs": [],
   "source": [
    "from sklearn import feature_selection\n",
    "fs = feature_selection.SelectPercentile(\n",
    "    feature_selection.chi2, percentile=100)\n",
    "X_train_fs = fs.fit_transform(X_train, y_train)"
   ]
  },
  {
   "cell_type": "code",
   "execution_count": 74,
   "metadata": {
    "collapsed": false
   },
   "outputs": [],
   "source": [
    "X_test_fs = fs.fit_transform(X_test, y_test)"
   ]
  },
  {
   "cell_type": "code",
   "execution_count": 75,
   "metadata": {
    "collapsed": false
   },
   "outputs": [
    {
     "name": "stdout",
     "output_type": "stream",
     "text": [
      "Accuracy: 0.9746\n",
      "             precision    recall  f1-score   support\n",
      "\n",
      "       -1.0       0.98      0.99      0.99    660206\n",
      "        1.0       0.89      0.67      0.77     43586\n",
      "\n",
      "avg / total       0.97      0.97      0.97    703792\n",
      "\n"
     ]
    }
   ],
   "source": [
    "clf = SGDClassifier(loss='log', penalty=\"l1\")\n",
    "clf.fit(X_train_fs, y_train)\n",
    "pred_sgd = clf.predict(X_test_fs)\n",
    "print \"Accuracy: %.4f\" % accuracy_score(y_test, pred_sgd)\n",
    "print classification_report(y_test, pred_sgd)"
   ]
  },
  {
   "cell_type": "markdown",
   "metadata": {},
   "source": [
    "### Testing feature importance\n",
    "1. Max DNase scores\n",
    "Accuracy: 0.969\n",
    "             precision    recall  f1-score   support\n",
    "\n",
    "       -1.0       0.97      0.99      0.98    330357\n",
    "        1.0       0.91      0.73      0.81     32643\n",
    "\n",
    "avg / total       0.97      0.97      0.97    363000\n",
    "\n",
    "2. "
   ]
  },
  {
   "cell_type": "code",
   "execution_count": 69,
   "metadata": {
    "collapsed": false
   },
   "outputs": [
    {
     "name": "stdout",
     "output_type": "stream",
     "text": [
      "Optimal number of features:81 \n",
      "\n"
     ]
    },
    {
     "name": "stderr",
     "output_type": "stream",
     "text": [
      "/home/kipkurui/anaconda2/envs/dream_challenge/lib/python2.7/site-packages/ipykernel/__main__.py:24: VisibleDeprecationWarning: converting an array with ndim > 0 to an index will result in an error in the future\n"
     ]
    },
    {
     "data": {
      "text/plain": [
       "[<matplotlib.lines.Line2D at 0x7f08840a5290>]"
      ]
     },
     "execution_count": 69,
     "metadata": {},
     "output_type": "execute_result"
    },
    {
     "data": {
      "image/png": "[encoded data removed]",
      "text/plain": [
       "<matplotlib.figure.Figure at 0x7f08be41be50>"
      ]
     },
     "metadata": {},
     "output_type": "display_data"
    }
   ],
   "source": [
    "from sklearn import cross_validation\n",
    "\n",
    "clf = SGDClassifier(loss='log', penalty=\"l1\")\n",
    "\n",
    "\n",
    "\n",
    "percentiles = range(1, 100, 5)\n",
    "results = []\n",
    "for i in range(1,100,5):\n",
    "    \n",
    "    fs = feature_selection.SelectPercentile(\n",
    "        feature_selection.chi2, percentile=i\n",
    "    )\n",
    "\n",
    "    X_train_fs = fs.fit_transform(X_train, y_train)\n",
    "#X_train_fs = clf.fit(X_train, y_train)\n",
    "\n",
    "    scores = cross_validation.cross_val_score(\n",
    "    clf,X_train_fs, y_train, cv=10)\n",
    "    results = np.append(results, scores.mean())\n",
    "\n",
    "optimal_percentil = np.where(results == results.max())[0]\n",
    "\n",
    "print \"Optimal number of features:{0}\".format(percentiles[optimal_percentil]), \"\\n\"\n",
    "\n",
    "\n",
    "# Plot number of features VS. cross-validation scores\n",
    "import pylab as pl\n",
    "pl.figure()\n",
    "pl.xlabel(\"Number of features selected\")\n",
    "pl.ylabel(\"Cross-validation accuracy)\")\n",
    "pl.plot(percentiles, results)"
   ]
  },
  {
   "cell_type": "code",
   "execution_count": 201,
   "metadata": {
    "collapsed": false
   },
   "outputs": [
    {
     "data": {
      "text/plain": [
       "array([ 0.96878426])"
      ]
     },
     "execution_count": 201,
     "metadata": {},
     "output_type": "execute_result"
    }
   ],
   "source": [
    "results"
   ]
  },
  {
   "cell_type": "markdown",
   "metadata": {},
   "source": [
    "# TODO\n",
    "\n",
    "The following the next immediate steps:\n",
    "- Create a single file with all the motifs required for this challenge:\n",
    "    - Use best three in different clusters as input features\n",
    "    - Think of how to reduce overhead here\n",
    "- Convert initial data version into a bed file\n",
    "    - Extract positive and negative seq\n",
    "    - Combine various cell lines\n",
    "    - \n",
    "- Optimize parameter selection by the models\n",
    "    - Choose the best model\n",
    "    - Select best parameters\n",
    "- Get a better predictive model by adding more features"
   ]
  },
  {
   "cell_type": "code",
   "execution_count": 113,
   "metadata": {
    "collapsed": false
   },
   "outputs": [
    {
     "data": {
      "text/plain": [
       "'3.7.1.3.1'"
      ]
     },
     "execution_count": 113,
     "metadata": {},
     "output_type": "execute_result"
    }
   ],
   "source": [
    "chip2name['ARID3A'.capitalize()]"
   ]
  },
  {
   "cell_type": "code",
   "execution_count": 114,
   "metadata": {
    "collapsed": true
   },
   "outputs": [],
   "source": [
    "import shutil"
   ]
  },
  {
   "cell_type": "code",
   "execution_count": 117,
   "metadata": {
    "collapsed": false
   },
   "outputs": [
    {
     "name": "stdout",
     "output_type": "stream",
     "text": [
      "ATF7\n",
      "EP300\n",
      "GABPA\n",
      "MYC\n",
      "REST\n",
      "SPI1\n"
     ]
    }
   ],
   "source": [
    "for tf in factor_names:\n",
    "    tf_l = tf.capitalize()\n",
    "    try:\n",
    "        pwm_motif = \"../../Project/Motif_Assessment/PAPER_Assessment_Data/NAR_Paper/Motifs/%s.meme\" % chip2name[tf_l]\n",
    "\n",
    "        tom_score = \"../../Project/Motif_Assessment/PAPER_Assessment_Data/NAR_Paper/FisimTomtom/%s/%s.tomtom_raw.txt\" % (chip2name[tf_l],chip2name[tf_l])\n",
    "        if os.path.isfile(pwm_motif):\n",
    "            shutil.move(pwm_motif, \"../Motifs/%s.meme\" % tf)\n",
    "            shutil.move(tom_score, \"../Motifs/%s.tomtom\" % tf)\n",
    "    except KeyError:\n",
    "        print tf"
   ]
  },
  {
   "cell_type": "markdown",
   "metadata": {},
   "source": [
    "These motifs will need to be extracted from the database and ranked with Tomtom:\n",
    "- ATF7\n",
    "- EP300\n",
    "- GABPA\n",
    "- MYC\n",
    "- REST\n",
    "- SPI1\n",
    "\n",
    "Got all of them except for Ep300"
   ]
  },
  {
   "cell_type": "code",
   "execution_count": 39,
   "metadata": {
    "collapsed": true
   },
   "outputs": [],
   "source": [
    "def prepare_learning_data(feature_frame, pos_size, neg_size):\n",
    "    \"\"\"\n",
    "    Given a pandas dataframe with the features,\n",
    "    \"\"\"\n",
    "    \n",
    "    #import pandas as pd\n",
    "    #import numpy as np\n",
    "    #from sklearn.datasets import dump_svmlight_file\n",
    "    \n",
    "    y = np.concatenate((np.ones(pos_size), np.ones(neg_size)*-1), axis=0)\n",
    "\n",
    "    target = pd.Series.from_array(y)\n",
    "    target = target.apply(int)\n",
    "    target = target.to_frame(name=\"Target\")\n",
    "    \n",
    "    target_f1 = feature_frame.T.append(target.T).T\n",
    "\n",
    "\n",
    "    cutoff = target_f1.count()[0]\n",
    "\n",
    "    ids = pd.Series.from_array(np.arange(1, cutoff+1))\n",
    "    ids = ids.apply(int)\n",
    "\n",
    "    target_f1 = target_f1.T.append(ids.to_frame(name=\"Id\").T).T\n",
    "\n",
    "\n",
    "    X = target_f1[np.setdiff1d(target_f1.columns,['Id','Target'])]\n",
    "    y = target_f1.Target\n",
    "    \n",
    "    return target_f1\n",
    "\n",
    "    #dump_svmlight_file(X,y,out_file,zero_based=True,multilabel=False)"
   ]
  },
  {
   "cell_type": "code",
   "execution_count": null,
   "metadata": {
    "collapsed": true
   },
   "outputs": [],
   "source": [
    "# feature_frame[\"F4\"] = gomer_score\n",
    "# feature_frame[\"F2\"] = gc_score\n",
    "# feature_frame[\"F3\"] = dnase_max\n",
    "# feature_frame[\"F4\"] = dnase_mean\n",
    "# feature_frame[\"F5\"] = dnase_mean\n",
    "\n",
    "# feature_frame.to_csv(\"libsvm-3.21/Arid3a/Arid3a_pwm2_gc_dnase_hepg2_100.feat\", sep=\"\\t\", index_label=False, index=False)"
   ]
  }
 ],
 "metadata": {
  "kernelspec": {
   "display_name": "Python 2",
   "language": "python",
   "name": "python2"
  },
  "language_info": {
   "codemirror_mode": {
    "name": "ipython",
    "version": 2
   },
   "file_extension": ".py",
   "mimetype": "text/x-python",
   "name": "python",
   "nbconvert_exporter": "python",
   "pygments_lexer": "ipython2",
   "version": "2.7.12"
  }
 },
 "nbformat": 4,
 "nbformat_minor": 0
}
